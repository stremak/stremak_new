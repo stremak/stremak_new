{
 "cells": [
  {
   "cell_type": "code",
   "execution_count": 8,
   "id": "b769a610-be81-4c05-a658-b9707c3010be",
   "metadata": {},
   "outputs": [
    {
     "data": {
      "text/plain": [
       "'7'"
      ]
     },
     "execution_count": 8,
     "metadata": {},
     "output_type": "execute_result"
    }
   ],
   "source": [
    "# поиск наиболее часто встречающегося символа\n",
    "n = \"12423545654rhhgfdsf3443543543543554656777777777777\"\n",
    "dct = {}\n",
    "ans = ''\n",
    "ans_count = 0\n",
    "for now in n:\n",
    "    if now not in dct:\n",
    "        dct[now] = 0\n",
    "    dct[now] += 1\n",
    "for key in dct:\n",
    "    if dct[key] >= ans_count:\n",
    "        ans_count = dct[key]\n",
    "        ans = key\n",
    "ans    "
   ]
  },
  {
   "cell_type": "code",
   "execution_count": 140,
   "id": "62bb3739-dc77-4659-b078-a6a8807f5e99",
   "metadata": {},
   "outputs": [
    {
     "name": "stdin",
     "output_type": "stream",
     "text": [
      " 20 10\n",
      " heat\n"
     ]
    },
    {
     "name": "stdout",
     "output_type": "stream",
     "text": [
      "20\n"
     ]
    }
   ],
   "source": [
    "# поиск температуры в комнате после работы кондиционера исходя из режима и заданной температуры\n",
    "def future_temp_will(t_room, t_cond, mode):\n",
    "        if mode == \"freeze\":\n",
    "            if t_room >= t_cond:\n",
    "                ans = t_cond\n",
    "            else:\n",
    "                ans = t_room\n",
    "        elif mode == \"heat\":\n",
    "            if t_room <= t_cond:\n",
    "                ans = t_cond\n",
    "            else:\n",
    "                ans = t_room  \n",
    "        elif mode == \"auto\":\n",
    "            ans = t_cond\n",
    "        elif mode == \"fan\":\n",
    "            ans = t_room\n",
    "        return ans\n",
    "\n",
    "list_of_t = list(map(int, input().split()))\n",
    "mode = input()\n",
    "if mode in [\"freeze\", \"heat\", \"auto\", \"fan\"]:\n",
    "    ans = future_temp_will(list_of_t[0], list_of_t[1], mode)\n",
    "print(ans)\n",
    "\n"
   ]
  },
  {
   "cell_type": "code",
   "execution_count": 138,
   "id": "cb8e1fe6-c1e2-4d5b-9a20-58697d37b49e",
   "metadata": {},
   "outputs": [],
   "source": [
    "# тестирование задания по кондиционерам\n",
    "ans1 = future_temp_will(10, 20, \"heat\")\n",
    "assert ans1 == 20, \"heat_error\"\n",
    "ans2 = future_temp_will(20, 10, \"heat\")\n",
    "assert ans2 == 20, \"heat_error\"\n",
    "ans3 = future_temp_will(10, 20, \"freeze\")\n",
    "assert ans3 == 10, \"freeze_error\"\n",
    "ans4 = future_temp_will(20, 10, \"freeze\")\n",
    "assert ans4 == 10, \"freeze_error\"\n",
    "ans5 = future_temp_will(10, 20, \"auto\")\n",
    "assert ans5 == 20, \"auto_error\"\n",
    "ans6 = future_temp_will(20, 10, \"auto\")\n",
    "assert ans6 == 10, \"auto_error\"\n",
    "ans7 = future_temp_will(10, 20, \"auto\")\n",
    "assert ans7 == 20, \"fan_error\"\n",
    "ans8 = future_temp_will(20, 10, \"auto\")\n",
    "assert ans8 == 10, \"fan_error\""
   ]
  },
  {
   "cell_type": "code",
   "execution_count": 2,
   "id": "e46506bf-cd38-4196-8386-9db24f469aa4",
   "metadata": {},
   "outputs": [
    {
     "name": "stdin",
     "output_type": "stream",
     "text": [
      " 3\n",
      " 4\n",
      " 5\n"
     ]
    },
    {
     "name": "stdout",
     "output_type": "stream",
     "text": [
      "YES\n"
     ]
    }
   ],
   "source": [
    "# Можно ли построить треугольник с указанными сторонами\n",
    "a, b, c = int(input()), int(input()), int(input())\n",
    "max_storona = max(a, b, c)\n",
    "if max_storona < a + b + c - max_storona:\n",
    "    print(\"YES\")\n",
    "else:\n",
    "    print(\"NO\")    "
   ]
  },
  {
   "cell_type": "code",
   "execution_count": 19,
   "id": "c9e9fc92-5d9e-4689-b283-1b09741d21c4",
   "metadata": {},
   "outputs": [
    {
     "name": "stdout",
     "output_type": "stream",
     "text": [
      "YES\n",
      "YES\n",
      "NO\n"
     ]
    }
   ],
   "source": [
    "# проверка наличия телефонного номера в базе с учётом кода страны, города, скобок, дефисов\n",
    "def make_number_true(number):\n",
    "    number = number.replace(\"+7\", \"8\")\n",
    "    number = number.replace(\"(\", \"\")\n",
    "    number = number.replace(\")\", \"\")\n",
    "    number = number.replace(\"-\", \"\")\n",
    "    if len(number) == 7:\n",
    "        number = \"8495\" + number\n",
    "    return number\n",
    "\n",
    "old_number_list = []\n",
    "new_number = make_number_true(input())\n",
    "for i in range(3):\n",
    "    old_number_list.append(make_number_true(input()))\n",
    "\n",
    "# old_number_list = old_number_list2\n",
    "# new_number = new_number2\n",
    "\n",
    "for num in old_number_list:\n",
    "    if new_number == num:\n",
    "        print(\"YES\")\n",
    "    else:\n",
    "        print(\"NO\")"
   ]
  },
  {
   "cell_type": "code",
   "execution_count": null,
   "id": "7fdb4125-bb7b-4c7e-8661-0d52f0609c67",
   "metadata": {},
   "outputs": [],
   "source": []
  },
  {
   "cell_type": "code",
   "execution_count": 50,
   "id": "760c00d7-ea59-436d-a0ff-5f9bbef028cd",
   "metadata": {},
   "outputs": [
    {
     "name": "stdin",
     "output_type": "stream",
     "text": [
      " 1\n",
      " 0\n",
      " 0\n"
     ]
    },
    {
     "name": "stdout",
     "output_type": "stream",
     "text": [
      "0\n"
     ]
    }
   ],
   "source": [
    "# Задача на решение уравнения с корнем в целых числах\n",
    "# sqrt(ax + b) = c\n",
    "\n",
    "\n",
    "def solve_ur(a, b, c):\n",
    "    if c < 0:\n",
    "        return \"NO SOLUTION\"\n",
    "    elif a == 0:\n",
    "        if b ** (1 / 2) == c:\n",
    "            return \"MANY SOLUTIONS\"\n",
    "        else:\n",
    "            return \"NO SOLUTION\"\n",
    "    else: \n",
    "        ax = (c**2 - b)\n",
    "        x = ax / a\n",
    "        x = int(round(x, 0))\n",
    "        if a * x + b < 0:\n",
    "            return \"NO SOLUTION\"\n",
    "        elif (c ** 2 - b) / a == (c ** 2 - b) // a:\n",
    "            return x\n",
    "        else:\n",
    "            return \"NO SOLUTION\"\n",
    "a, b, c = int(input()), int(input()), int(input())\n",
    "ans = solve_ur(a, b, c)\n",
    "print(ans)\n",
    "\n"
   ]
  },
  {
   "cell_type": "code",
   "execution_count": 48,
   "id": "f7277bfd-c9e2-4738-8035-d21806acb9ed",
   "metadata": {},
   "outputs": [],
   "source": [
    "# Тестирование задачи на решение уравнения с корнем в целых числах\n",
    "ans1 = solve_ur(1, 0, 0)\n",
    "assert ans1 == 0, \"test1\"\n",
    "ans1 = solve_ur(1, 2, 3)\n",
    "assert ans1 == 7, \"test2\"\n",
    "ans1 = solve_ur(1, 2, -3)\n",
    "assert ans1 == \"NO SOLUTION\", \"test3\"\n",
    "ans1 = solve_ur(-2, 3, 1)\n",
    "assert ans1 == 1, \"test4\"\n",
    "ans1 = solve_ur(0, 0, 0)\n",
    "assert ans1 == \"MANY SOLUTIONS\", \"test5\"\n",
    "ans1 = solve_ur(0, 4, 2)\n",
    "assert ans1 == \"MANY SOLUTIONS\", \"test6\""
   ]
  },
  {
   "cell_type": "code",
   "execution_count": null,
   "id": "d5faf142-b8a1-4943-a3d8-0f7907ac1896",
   "metadata": {},
   "outputs": [],
   "source": []
  }
 ],
 "metadata": {
  "kernelspec": {
   "display_name": "Python 3 (ipykernel)",
   "language": "python",
   "name": "python3"
  },
  "language_info": {
   "codemirror_mode": {
    "name": "ipython",
    "version": 3
   },
   "file_extension": ".py",
   "mimetype": "text/x-python",
   "name": "python",
   "nbconvert_exporter": "python",
   "pygments_lexer": "ipython3",
   "version": "3.13.1"
  }
 },
 "nbformat": 4,
 "nbformat_minor": 5
}
