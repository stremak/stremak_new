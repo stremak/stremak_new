{
 "cells": [
  {
   "cell_type": "code",
   "execution_count": 19,
   "id": "11367e7e-750b-4447-ae4c-6941bc7ea222",
   "metadata": {},
   "outputs": [
    {
     "name": "stdin",
     "output_type": "stream",
     "text": [
      " 10\n",
      " 50\n",
      " 6\n"
     ]
    },
    {
     "name": "stdout",
     "output_type": "stream",
     "text": [
      "1 10\n",
      "2 15.0\n",
      "3 22.5\n",
      "4 33.75\n",
      "5 50.625\n",
      "6 75.9375\n"
     ]
    }
   ],
   "source": [
    "m, p, n = int(input()), int(input()), int(input())\n",
    "for i in range(n):\n",
    "    print(i+1, m)\n",
    "    m = m * (1+p/100)\n",
    "    \n"
   ]
  },
  {
   "cell_type": "code",
   "execution_count": 20,
   "id": "d1bd9056-c307-4faa-831b-78d959fbf37f",
   "metadata": {},
   "outputs": [
    {
     "name": "stdout",
     "output_type": "stream",
     "text": [
      "107\n",
      "117\n",
      "127\n",
      "137\n",
      "147\n",
      "157\n",
      "167\n",
      "177\n",
      "187\n",
      "197\n",
      "207\n",
      "217\n",
      "227\n",
      "237\n",
      "247\n",
      "257\n",
      "267\n",
      "277\n",
      "287\n",
      "297\n",
      "307\n",
      "317\n",
      "327\n",
      "337\n",
      "347\n",
      "357\n",
      "367\n",
      "377\n",
      "387\n",
      "397\n",
      "407\n",
      "417\n",
      "427\n",
      "437\n",
      "447\n",
      "457\n",
      "467\n",
      "477\n",
      "487\n",
      "497\n",
      "507\n",
      "517\n",
      "527\n",
      "537\n",
      "547\n",
      "557\n",
      "567\n",
      "577\n",
      "587\n",
      "597\n",
      "607\n",
      "617\n",
      "627\n",
      "637\n",
      "647\n",
      "657\n",
      "667\n",
      "677\n",
      "687\n",
      "697\n",
      "707\n",
      "717\n",
      "727\n",
      "737\n",
      "747\n",
      "757\n",
      "767\n",
      "777\n",
      "787\n",
      "797\n",
      "807\n",
      "817\n",
      "827\n",
      "837\n",
      "847\n",
      "857\n",
      "867\n",
      "877\n",
      "887\n",
      "897\n",
      "907\n",
      "917\n",
      "927\n",
      "937\n",
      "947\n",
      "957\n",
      "967\n",
      "977\n",
      "987\n",
      "997\n"
     ]
    }
   ],
   "source": [
    "for i in range(100, 1000):  # перебираем числа от 100 до 999\n",
    "    if i % 10 == 7:         # используем остаток от деления на 10, для получения последней цифры\n",
    "        print(i)"
   ]
  },
  {
   "cell_type": "code",
   "execution_count": 21,
   "id": "05592cc7-2453-418d-8167-4b316a7e57e8",
   "metadata": {},
   "outputs": [
    {
     "ename": "SyntaxError",
     "evalue": "Missing parentheses in call to 'print'. Did you mean print(...)? (2594491917.py, line 3)",
     "output_type": "error",
     "traceback": [
      "\u001b[1;36m  Cell \u001b[1;32mIn[21], line 3\u001b[1;36m\u001b[0m\n\u001b[1;33m    print i\u001b[0m\n\u001b[1;37m    ^\u001b[0m\n\u001b[1;31mSyntaxError\u001b[0m\u001b[1;31m:\u001b[0m Missing parentheses in call to 'print'. Did you mean print(...)?\n"
     ]
    }
   ],
   "source": [
    "m, n = int(input()), int(input())\n",
    "for i in range(m, n+1):\n",
    "    print i\n"
   ]
  },
  {
   "cell_type": "code",
   "execution_count": 22,
   "id": "2a6a54ed-58fa-4b76-912a-8da28a0ee4a2",
   "metadata": {},
   "outputs": [
    {
     "name": "stdin",
     "output_type": "stream",
     "text": [
      " 1\n",
      " 9\n"
     ]
    },
    {
     "name": "stdout",
     "output_type": "stream",
     "text": [
      "1\n",
      "2\n",
      "3\n",
      "4\n",
      "5\n",
      "6\n",
      "7\n",
      "8\n",
      "9\n"
     ]
    }
   ],
   "source": [
    "m, n = int(input()), int(input())\n",
    "for i in range(m, n+1):\n",
    "    print(i)\n"
   ]
  },
  {
   "cell_type": "code",
   "execution_count": 23,
   "id": "3fec8d4c-742f-4716-b745-e45fe2fc7648",
   "metadata": {},
   "outputs": [
    {
     "name": "stdin",
     "output_type": "stream",
     "text": [
      " 1\n",
      " 5\n"
     ]
    },
    {
     "name": "stdout",
     "output_type": "stream",
     "text": [
      "1\n",
      "2\n",
      "3\n",
      "4\n",
      "5\n"
     ]
    }
   ],
   "source": [
    "m, n = int(input()), int(input())\n",
    "if m < n:\n",
    "    for i in range(m, n+1):\n",
    "        print(i)\n",
    "else:\n",
    "    for i in range(n, m+1):\n",
    "        print(i)\n"
   ]
  },
  {
   "cell_type": "code",
   "execution_count": 26,
   "id": "f4c5af73-9a8e-4203-9e7d-c125e4433765",
   "metadata": {},
   "outputs": [
    {
     "name": "stdin",
     "output_type": "stream",
     "text": [
      " 7\n",
      " 1\n"
     ]
    },
    {
     "name": "stdout",
     "output_type": "stream",
     "text": [
      "7\n",
      "6\n",
      "5\n",
      "4\n",
      "3\n",
      "2\n",
      "1\n"
     ]
    }
   ],
   "source": [
    "m, n = int(input()), int(input())\n",
    "if m < n:\n",
    "    for i in range(m, n+1):\n",
    "        print(i)\n",
    "else:\n",
    "    for i in range(m, n-1, -1):\n",
    "        print(i)"
   ]
  },
  {
   "cell_type": "code",
   "execution_count": 42,
   "id": "44d615cc-4abb-4b04-b4a3-4eb124c88898",
   "metadata": {},
   "outputs": [
    {
     "name": "stdin",
     "output_type": "stream",
     "text": [
      " 10\n",
      " 1\n"
     ]
    },
    {
     "name": "stdout",
     "output_type": "stream",
     "text": [
      "9\n",
      "7\n",
      "5\n",
      "3\n",
      "1\n"
     ]
    }
   ],
   "source": [
    "m, n = int(input()), int(input())\n",
    "for i in range(m, n-1, -1):\n",
    "    ost = i % 2 \n",
    "    if ost != 0:\n",
    "        print(i)\n",
    "        "
   ]
  },
  {
   "cell_type": "code",
   "execution_count": 47,
   "id": "ed86e52f-c802-4019-9e7d-eaaa0dd40f8d",
   "metadata": {},
   "outputs": [
    {
     "name": "stdin",
     "output_type": "stream",
     "text": [
      " 11\n",
      " 1\n"
     ]
    },
    {
     "name": "stdout",
     "output_type": "stream",
     "text": [
      "11\n",
      "9\n",
      "7\n",
      "5\n",
      "3\n",
      "1\n"
     ]
    }
   ],
   "source": [
    "m, n = int(input()), int(input())\n",
    "for i in range(m % 2 + m-1, n-1, -2):\n",
    "    print(i)"
   ]
  },
  {
   "cell_type": "code",
   "execution_count": null,
   "id": "e0d21bcf-8df0-42e2-a2e5-ceb797080065",
   "metadata": {},
   "outputs": [],
   "source": [
    "Даны два натуральных числа \n",
    "m и n (m ≤ n\n",
    "m≤n). Напишите программу, которая выводит все целые числа от m m до n\n",
    "n (включительно), удовлетворяющие хотя бы одному из условий:\n",
    "число кратно 17\n",
    "число оканчивается на 9\n",
    "число кратно 3 и 5 одновременно\n",
    "Формат входных данных\n",
    "На вход программе подаются два натуральных числа \n",
    "\n",
    "Примечание. Если нет чисел, удовлетворяющих условию, выводить ничего не надо."
   ]
  },
  {
   "cell_type": "code",
   "execution_count": 49,
   "id": "878874a1-9524-4e52-a2e7-a05ee590499d",
   "metadata": {},
   "outputs": [
    {
     "name": "stdin",
     "output_type": "stream",
     "text": [
      " 1\n",
      " 20\n"
     ]
    },
    {
     "name": "stdout",
     "output_type": "stream",
     "text": [
      "9\n",
      "15\n",
      "17\n",
      "19\n"
     ]
    }
   ],
   "source": [
    "m, n = int(input()), int(input())\n",
    "for i in range(m, n+1):\n",
    "    if i % 17 == 0:\n",
    "        print(i)\n",
    "    elif i % 10 == 9:\n",
    "        print(i)\n",
    "    elif i % 3 == 0 and i % 5 == 0:\n",
    "        print(i)"
   ]
  },
  {
   "cell_type": "code",
   "execution_count": 51,
   "id": "06203cd1-8474-424c-b97d-7d1741824ab1",
   "metadata": {},
   "outputs": [
    {
     "name": "stdin",
     "output_type": "stream",
     "text": [
      " 5\n"
     ]
    },
    {
     "name": "stdout",
     "output_type": "stream",
     "text": [
      "5 x 1 = 5\n",
      "5 x 2 = 10\n",
      "5 x 3 = 15\n",
      "5 x 4 = 20\n",
      "5 x 5 = 25\n",
      "5 x 6 = 30\n",
      "5 x 7 = 35\n",
      "5 x 8 = 40\n",
      "5 x 9 = 45\n",
      "5 x 10 = 50\n"
     ]
    }
   ],
   "source": [
    "n = int(input())\n",
    "for i in range(1, 11):\n",
    "    print(n, 'x', i, '=', n*i)"
   ]
  },
  {
   "cell_type": "code",
   "execution_count": 53,
   "id": "58bfad82-1f11-452d-94aa-9b0acc469be0",
   "metadata": {},
   "outputs": [
    {
     "name": "stdin",
     "output_type": "stream",
     "text": [
      " 1\n",
      " 100\n"
     ]
    },
    {
     "name": "stdout",
     "output_type": "stream",
     "text": [
      "20\n"
     ]
    }
   ],
   "source": [
    "a, b = int(input()), int(input())\n",
    "count = 0\n",
    "for i in range(a, b+1):\n",
    "    if i ** 3 % 10 == 4 or i ** 3 % 10 == 9:\n",
    "        count = count + 1\n",
    "print(count)"
   ]
  },
  {
   "cell_type": "code",
   "execution_count": null,
   "id": "8bbbf415-0ebb-4798-89ab-2655c85b6961",
   "metadata": {},
   "outputs": [],
   "source": []
  },
  {
   "cell_type": "code",
   "execution_count": 54,
   "id": "5676567a-b3e7-4995-bff0-6b2af7d4ea4f",
   "metadata": {},
   "outputs": [
    {
     "name": "stdin",
     "output_type": "stream",
     "text": [
      " 5\n",
      " 3\n",
      " 2\n",
      " 1\n",
      " 0\n",
      " -1\n"
     ]
    },
    {
     "name": "stdout",
     "output_type": "stream",
     "text": [
      "5\n"
     ]
    }
   ],
   "source": [
    "n = int(input())\n",
    "summa = 0\n",
    "for i in range(n):\n",
    "    a = int(input())\n",
    "    summa += a\n",
    "print(summa)"
   ]
  },
  {
   "cell_type": "code",
   "execution_count": 1,
   "id": "6d74046b-e532-48aa-8fbd-8023cdac55b7",
   "metadata": {},
   "outputs": [],
   "source": [
    "\n",
    "import math"
   ]
  },
  {
   "cell_type": "code",
   "execution_count": 5,
   "id": "a216362d-f6f1-4220-af01-3c5d0da46d8e",
   "metadata": {},
   "outputs": [
    {
     "name": "stdin",
     "output_type": "stream",
     "text": [
      " 10\n"
     ]
    },
    {
     "name": "stdout",
     "output_type": "stream",
     "text": [
      "0.6263831609742079\n"
     ]
    }
   ],
   "source": [
    "import math\n",
    "n = int(input())\n",
    "summa = 1\n",
    "for i in range(2, n+1):\n",
    "        summa += 1/i\n",
    "print(summa-math.log(n))"
   ]
  },
  {
   "cell_type": "code",
   "execution_count": 9,
   "id": "6f4f7a8d-283a-4b19-a29c-70a90741c636",
   "metadata": {},
   "outputs": [
    {
     "name": "stdin",
     "output_type": "stream",
     "text": [
      " 1992\n"
     ]
    },
    {
     "name": "stdout",
     "output_type": "stream",
     "text": [
      "198005\n"
     ]
    }
   ],
   "source": [
    "n = int(input())\n",
    "summa = 0\n",
    "count = 0\n",
    "for i in range(1, n+1):\n",
    "    if i ** 2 % 10 == 2 or i ** 2 % 10 == 5 or i ** 2 % 10 == 8:\n",
    "        count += 1\n",
    "        summa += i\n",
    "print(summa)"
   ]
  },
  {
   "cell_type": "code",
   "execution_count": 20,
   "id": "dda2a5d8-8966-4871-94c3-1077c384db81",
   "metadata": {},
   "outputs": [
    {
     "name": "stdin",
     "output_type": "stream",
     "text": [
      " 4\n"
     ]
    },
    {
     "name": "stdout",
     "output_type": "stream",
     "text": [
      "4 24\n"
     ]
    }
   ],
   "source": [
    "n = int(input())\n",
    "factorial = 1\n",
    "for i in range(1, n+1):\n",
    "    factorial = factorial*i\n",
    "print(factorial)    \n",
    "\n"
   ]
  },
  {
   "cell_type": "code",
   "execution_count": 21,
   "id": "60babdb8-347a-4993-b7a2-432884f2992f",
   "metadata": {},
   "outputs": [
    {
     "name": "stdin",
     "output_type": "stream",
     "text": [
      " 8\n",
      " 0\n",
      " 1\n",
      " 2\n",
      " 1\n",
      " 0\n",
      " 0\n",
      " 5\n",
      " 4\n",
      " 12\n"
     ]
    },
    {
     "name": "stdout",
     "output_type": "stream",
     "text": [
      "3840\n"
     ]
    }
   ],
   "source": [
    "proizv = 1\n",
    "for i in range(1, 11):\n",
    "    a = int(input())\n",
    "    if a != 0:\n",
    "        proizv = proizv * a\n",
    "print(proizv)   "
   ]
  },
  {
   "cell_type": "code",
   "execution_count": 22,
   "id": "068ba10c-7df9-4a4c-b3b4-4dc0f2e9db2b",
   "metadata": {},
   "outputs": [
    {
     "name": "stdin",
     "output_type": "stream",
     "text": [
      " 10\n"
     ]
    },
    {
     "name": "stdout",
     "output_type": "stream",
     "text": [
      "18\n"
     ]
    }
   ],
   "source": [
    "summa = 0\n",
    "n = int(input())\n",
    "for i in range(1, n+1):\n",
    "    if n % i == 0:\n",
    "        summa += i\n",
    "print(summa)   "
   ]
  },
  {
   "cell_type": "code",
   "execution_count": 24,
   "id": "7299ac99-ded6-414a-84ff-0df43030c858",
   "metadata": {},
   "outputs": [
    {
     "name": "stdin",
     "output_type": "stream",
     "text": [
      " 3\n"
     ]
    },
    {
     "name": "stdout",
     "output_type": "stream",
     "text": [
      "2\n"
     ]
    }
   ],
   "source": [
    "summa = 0\n",
    "flag = -1\n",
    "n = int(input())\n",
    "for i in range(1, n+1):\n",
    "    flag = flag *(-1)\n",
    "    if flag == 1:\n",
    "        summa = summa + i\n",
    "    else:\n",
    "        summa = summa - i\n",
    "print(summa)   "
   ]
  },
  {
   "cell_type": "code",
   "execution_count": 34,
   "id": "22ad1669-9fda-44c4-89ac-b5a1eedd206d",
   "metadata": {},
   "outputs": [
    {
     "name": "stdin",
     "output_type": "stream",
     "text": [
      " 5\n",
      " 1\n",
      " 2\n",
      " 3\n",
      " 4\n",
      " 5\n"
     ]
    },
    {
     "name": "stdout",
     "output_type": "stream",
     "text": [
      "5\n",
      "4\n"
     ]
    }
   ],
   "source": [
    "n = int(input())\n",
    "mx = 1\n",
    "pr_mx = 0\n",
    "for i in range(1, n+1):\n",
    "    a = int(input())\n",
    "    if a > mx:\n",
    "        pr_mx= mx \n",
    "        mx = a\n",
    "    elif a > pr_mx:\n",
    "        pr_mx = a\n",
    "print(mx)\n",
    "print(pr_mx)\n",
    "    "
   ]
  },
  {
   "cell_type": "code",
   "execution_count": 2,
   "id": "ca59191e-d2c2-4dd2-a017-8552b2d450bb",
   "metadata": {},
   "outputs": [
    {
     "name": "stdin",
     "output_type": "stream",
     "text": [
      " 2\n",
      " 4\n",
      " 6\n",
      " 8\n",
      " 10\n",
      " 12\n",
      " 2\n",
      " 2\n",
      " 2\n",
      " 2\n"
     ]
    },
    {
     "name": "stdout",
     "output_type": "stream",
     "text": [
      "YES\n"
     ]
    }
   ],
   "source": [
    "count = 0\n",
    "for i in range(10):\n",
    "    a = int(input())\n",
    "    if a % 2 == 0:\n",
    "        count +=1\n",
    "if count == 10:\n",
    "    print('YES')\n",
    "else:\n",
    "    print('NO')"
   ]
  },
  {
   "cell_type": "code",
   "execution_count": 6,
   "id": "7c8ba571-feb8-4a88-bbf7-479319b13fab",
   "metadata": {},
   "outputs": [
    {
     "name": "stdin",
     "output_type": "stream",
     "text": [
      " 5\n"
     ]
    },
    {
     "name": "stdout",
     "output_type": "stream",
     "text": [
      "1 1 2 3 5 "
     ]
    }
   ],
   "source": [
    "n = int(input())\n",
    "fibo = 1\n",
    "first_digit = 0\n",
    "second_digit = 0\n",
    "for i in range(n):\n",
    "    print(fibo, end=' ')\n",
    "    second_digit = first_digit\n",
    "    first_digit = fibo\n",
    "    fibo = first_digit + second_digit"
   ]
  },
  {
   "cell_type": "code",
   "execution_count": 7,
   "id": "bcbe44f2-6627-4b5b-9dc2-e988b4f908b1",
   "metadata": {},
   "outputs": [
    {
     "name": "stdout",
     "output_type": "stream",
     "text": [
      "21\n"
     ]
    }
   ],
   "source": [
    "i = 7\n",
    "a = 5\n",
    "while i < 11:\n",
    "    a += i\n",
    "    i += 2\n",
    "\n",
    "print(a)"
   ]
  },
  {
   "cell_type": "code",
   "execution_count": 12,
   "id": "917238f2-5e8e-4ef3-88eb-91a2a838db41",
   "metadata": {},
   "outputs": [
    {
     "name": "stdin",
     "output_type": "stream",
     "text": [
      " цук\n"
     ]
    },
    {
     "name": "stdout",
     "output_type": "stream",
     "text": [
      "цук\n"
     ]
    },
    {
     "name": "stdin",
     "output_type": "stream",
     "text": [
      " цук\n"
     ]
    },
    {
     "name": "stdout",
     "output_type": "stream",
     "text": [
      "цук\n"
     ]
    },
    {
     "name": "stdin",
     "output_type": "stream",
     "text": [
      " КОНЕЦ\n"
     ]
    }
   ],
   "source": [
    "a = input()\n",
    "while a != \"КОНЕЦ\":\n",
    "    print(a)\n",
    "    a = input()\n"
   ]
  },
  {
   "cell_type": "code",
   "execution_count": 14,
   "id": "9d4b4fd6-bc8a-4653-b786-92d87c567032",
   "metadata": {},
   "outputs": [
    {
     "name": "stdin",
     "output_type": "stream",
     "text": [
      " wer\n"
     ]
    },
    {
     "name": "stdout",
     "output_type": "stream",
     "text": [
      "wer\n"
     ]
    },
    {
     "name": "stdin",
     "output_type": "stream",
     "text": [
      " конец\n"
     ]
    }
   ],
   "source": [
    "a = input()\n",
    "while a != \"КОНЕЦ\" and a != 'конец':\n",
    "    print(a)\n",
    "    a = input()\n"
   ]
  },
  {
   "cell_type": "code",
   "execution_count": 17,
   "id": "7e209e98-9889-49bd-aee3-83099d8d137c",
   "metadata": {},
   "outputs": [
    {
     "name": "stdin",
     "output_type": "stream",
     "text": [
      " Skyrim\n",
      " Skyrim\n",
      " Skyrim\n",
      " стоп\n"
     ]
    },
    {
     "name": "stdout",
     "output_type": "stream",
     "text": [
      "3\n"
     ]
    }
   ],
   "source": [
    "a = input()\n",
    "count = 0\n",
    "while a != \"хватит\" and a != 'достаточно' and a != 'стоп':\n",
    "    count +=1\n",
    "    a = input()\n",
    "print(count)"
   ]
  },
  {
   "cell_type": "code",
   "execution_count": 18,
   "id": "a4c822e5-42c6-45db-b18d-1cc420d63f13",
   "metadata": {},
   "outputs": [
    {
     "name": "stdout",
     "output_type": "stream",
     "text": [
      "11363.636363636364\n"
     ]
    }
   ],
   "source": [
    "print(10000/0.88)"
   ]
  },
  {
   "cell_type": "code",
   "execution_count": 22,
   "id": "5d3dd167-5721-469e-8532-91f53ef6d14f",
   "metadata": {},
   "outputs": [
    {
     "name": "stdin",
     "output_type": "stream",
     "text": [
      " 49\n"
     ]
    },
    {
     "name": "stdout",
     "output_type": "stream",
     "text": [
      "49\n"
     ]
    },
    {
     "name": "stdin",
     "output_type": "stream",
     "text": [
      " 35\n"
     ]
    },
    {
     "name": "stdout",
     "output_type": "stream",
     "text": [
      "35\n"
     ]
    },
    {
     "name": "stdin",
     "output_type": "stream",
     "text": [
      " -\n"
     ]
    },
    {
     "ename": "ValueError",
     "evalue": "invalid literal for int() with base 10: '-'",
     "output_type": "error",
     "traceback": [
      "\u001b[1;31m---------------------------------------------------------------------------\u001b[0m",
      "\u001b[1;31mValueError\u001b[0m                                Traceback (most recent call last)",
      "Cell \u001b[1;32mIn[22], line 4\u001b[0m\n\u001b[0;32m      2\u001b[0m \u001b[38;5;28;01mwhile\u001b[39;00m a \u001b[38;5;241m%\u001b[39m \u001b[38;5;241m7\u001b[39m \u001b[38;5;241m==\u001b[39m \u001b[38;5;241m0\u001b[39m :\n\u001b[0;32m      3\u001b[0m     \u001b[38;5;28mprint\u001b[39m(a)\n\u001b[1;32m----> 4\u001b[0m     a \u001b[38;5;241m=\u001b[39m \u001b[38;5;28;43mint\u001b[39;49m\u001b[43m(\u001b[49m\u001b[38;5;28;43minput\u001b[39;49m\u001b[43m(\u001b[49m\u001b[43m)\u001b[49m\u001b[43m)\u001b[49m\n",
      "\u001b[1;31mValueError\u001b[0m: invalid literal for int() with base 10: '-'"
     ]
    }
   ],
   "source": [
    "a = int(input())\n",
    "while a % 7 == 0 :\n",
    "    print(a)\n",
    "    a = int(input())\n"
   ]
  },
  {
   "cell_type": "code",
   "execution_count": 23,
   "id": "52174191-da40-47f0-a26f-5759badcc5ee",
   "metadata": {},
   "outputs": [
    {
     "name": "stdin",
     "output_type": "stream",
     "text": [
      " 1\n",
      " 3\n",
      " 5\n",
      " -5\n"
     ]
    },
    {
     "name": "stdout",
     "output_type": "stream",
     "text": [
      "9\n"
     ]
    }
   ],
   "source": [
    "a = int(input())\n",
    "count = 0\n",
    "while a >= 0 :\n",
    "    count += a\n",
    "    a = int(input())\n",
    "print(count)"
   ]
  },
  {
   "cell_type": "code",
   "execution_count": 25,
   "id": "0f6bcf9d-fc29-493b-b74d-ed11b8f0287a",
   "metadata": {},
   "outputs": [
    {
     "name": "stdin",
     "output_type": "stream",
     "text": [
      " 5\n",
      " 5\n",
      " 4\n",
      " 0\n"
     ]
    },
    {
     "name": "stdout",
     "output_type": "stream",
     "text": [
      "2\n"
     ]
    }
   ],
   "source": [
    "a = int(input())\n",
    "count = 0\n",
    "while a <= 5 and a > 0 :\n",
    "    if a == 5:\n",
    "        count += 1\n",
    "    a = int(input())\n",
    "print(count)"
   ]
  },
  {
   "cell_type": "code",
   "execution_count": 36,
   "id": "fef7e09d-c782-432f-91cf-4c0553c5e837",
   "metadata": {},
   "outputs": [
    {
     "name": "stdin",
     "output_type": "stream",
     "text": [
      " 49\n"
     ]
    },
    {
     "name": "stdout",
     "output_type": "stream",
     "text": [
      "7\n"
     ]
    }
   ],
   "source": [
    "ostatok = int(input())\n",
    "coins_nominal = [25, 10, 5,1]\n",
    "coin_count = 0\n",
    "i = 0\n",
    "while ostatok > 0 :\n",
    "    coin_count = coin_count + ostatok // coins_nominal[i]\n",
    "    ostatok = ostatok - ostatok // coins_nominal[i] * coins_nominal[i]\n",
    "    i += 1\n",
    "print(coin_count)"
   ]
  },
  {
   "cell_type": "code",
   "execution_count": 28,
   "id": "06147690-ded1-49b3-8719-31b95550db9a",
   "metadata": {},
   "outputs": [
    {
     "name": "stdin",
     "output_type": "stream",
     "text": [
      " 25\n"
     ]
    },
    {
     "name": "stdout",
     "output_type": "stream",
     "text": [
      "2\n"
     ]
    }
   ],
   "source": []
  },
  {
   "cell_type": "code",
   "execution_count": 38,
   "id": "b20bca31-c168-4f7f-84d1-428e3bb383dc",
   "metadata": {},
   "outputs": [
    {
     "name": "stdin",
     "output_type": "stream",
     "text": [
      " 12345\n"
     ]
    },
    {
     "name": "stdout",
     "output_type": "stream",
     "text": [
      "5\n",
      "4\n",
      "3\n",
      "2\n",
      "1\n"
     ]
    }
   ],
   "source": [
    "a = int(input())\n",
    "\n",
    "while a != 0:\n",
    "    print (a % 10)\n",
    "    a = a // 10"
   ]
  },
  {
   "cell_type": "code",
   "execution_count": 50,
   "id": "93ddb943-4a98-40ac-bcab-3a543f95f0c5",
   "metadata": {},
   "outputs": [
    {
     "name": "stdin",
     "output_type": "stream",
     "text": [
      " 26670\n"
     ]
    },
    {
     "name": "stdout",
     "output_type": "stream",
     "text": [
      "Максимальная цифра равна 7\n",
      "Минимальная цифра равна 0\n"
     ]
    }
   ],
   "source": [
    "a = int(input())\n",
    "mx = mn = a % 10\n",
    "while a != 0:\n",
    "    if a % 10 > mx:\n",
    "        mx = a % 10\n",
    "    elif a % 10 < mn:\n",
    "        mn = a % 10\n",
    "    a = a // 10\n",
    "print(f'Максимальная цифра равна {mx}')\n",
    "print(f'Минимальная цифра равна {mn}')"
   ]
  },
  {
   "cell_type": "code",
   "execution_count": 48,
   "id": "5be2240c-ce40-419f-a18a-c7217a8b6c1c",
   "metadata": {},
   "outputs": [
    {
     "data": {
      "text/plain": [
       "26670"
      ]
     },
     "execution_count": 48,
     "metadata": {},
     "output_type": "execute_result"
    }
   ],
   "source": [
    "26670"
   ]
  },
  {
   "cell_type": "code",
   "execution_count": 67,
   "id": "310c73c9-6db7-4a5e-8b0f-a7eaa77db508",
   "metadata": {},
   "outputs": [
    {
     "name": "stdin",
     "output_type": "stream",
     "text": [
      " 5678\n"
     ]
    },
    {
     "name": "stdout",
     "output_type": "stream",
     "text": [
      "8\n",
      "26\n",
      "4\n",
      "1680\n",
      "6.5\n",
      "5\n",
      "13\n"
     ]
    }
   ],
   "source": [
    "a = int(input())\n",
    "last = a % 10\n",
    "first = a % 10\n",
    "summ = 0\n",
    "count = 0\n",
    "proizv = 1\n",
    "while a != 0:\n",
    "    summ = summ + a % 10\n",
    "    count = count + 1\n",
    "    if a % 10 > 0:\n",
    "        proizv = proizv * (a % 10)\n",
    "    if a // 10 == 0:\n",
    "        first = a % 10\n",
    "    a = a // 10\n",
    "print (summ, count, proizv, summ / count, first, first+last, sep=\"\\n\")\n"
   ]
  },
  {
   "cell_type": "code",
   "execution_count": 71,
   "id": "9bc1884f-9b59-4ff5-80c9-e482725c9419",
   "metadata": {},
   "outputs": [
    {
     "name": "stdin",
     "output_type": "stream",
     "text": [
      " 12345\n"
     ]
    },
    {
     "name": "stdout",
     "output_type": "stream",
     "text": [
      "2\n"
     ]
    }
   ],
   "source": [
    "a = int(input())\n",
    "while a >= 10:\n",
    "    second_digit = a % 10\n",
    "    a = a // 10\n",
    "print(second_digit)"
   ]
  },
  {
   "cell_type": "code",
   "execution_count": null,
   "id": "46a95290-5761-417d-b5af-502fbd7e3aa3",
   "metadata": {},
   "outputs": [],
   "source": [
    "digit = int(input())\n",
    "digit = 0\n",
    "while digit != 0:\n",
    "    second_digit = a % 10\n",
    "    a = a // 10\n",
    "print(second_digit)"
   ]
  },
  {
   "cell_type": "code",
   "execution_count": 6,
   "id": "ba21028b-92bf-4b2d-8166-2d51095f18b3",
   "metadata": {},
   "outputs": [
    {
     "name": "stdin",
     "output_type": "stream",
     "text": [
      " 1100\n"
     ]
    },
    {
     "name": "stdout",
     "output_type": "stream",
     "text": [
      "NO\n"
     ]
    }
   ],
   "source": [
    "digit = int(input())\n",
    "last_digit = 0\n",
    "prelast_digit = 0\n",
    "answer = 0\n",
    "while digit // 10 != 0:\n",
    "    last_digit = digit % 10\n",
    "    prelast_digit = digit // 10 % 10\n",
    "    if prelast_digit != last_digit:\n",
    "        answer = \"NO\"\n",
    "    digit = digit // 10\n",
    "if answer == \"NO\":\n",
    "    print(\"NO\")\n",
    "else: \n",
    "    print(\"YES\")"
   ]
  },
  {
   "cell_type": "code",
   "execution_count": 8,
   "id": "7af19d6d-6f38-42da-8007-eb91417fde39",
   "metadata": {},
   "outputs": [
    {
     "name": "stdin",
     "output_type": "stream",
     "text": [
      " 7820\n"
     ]
    },
    {
     "name": "stdout",
     "output_type": "stream",
     "text": [
      "NO\n"
     ]
    }
   ],
   "source": [
    "digit = int(input())\n",
    "last_digit = 0\n",
    "prelast_digit = 0\n",
    "answer = 0\n",
    "while digit // 10 != 0:\n",
    "    last_digit = digit % 10\n",
    "    prelast_digit = digit // 10 % 10\n",
    "    if prelast_digit < last_digit:\n",
    "        answer = \"NO\"\n",
    "    digit = digit // 10\n",
    "if answer == \"NO\":\n",
    "    print(\"NO\")\n",
    "else: \n",
    "    print(\"YES\")"
   ]
  },
  {
   "cell_type": "code",
   "execution_count": 9,
   "id": "a5201cae-bae3-4214-8732-e19440e837f2",
   "metadata": {},
   "outputs": [
    {
     "name": "stdout",
     "output_type": "stream",
     "text": [
      "0*1*2*3*4*5*6*7*"
     ]
    }
   ],
   "source": [
    "for i in range(10):\n",
    "    print(i, end='*')\n",
    "    if i > 6:\n",
    "        break"
   ]
  },
  {
   "cell_type": "code",
   "execution_count": 13,
   "id": "a3435467-7a17-4eee-8589-e4070f2ab7fd",
   "metadata": {},
   "outputs": [
    {
     "name": "stdin",
     "output_type": "stream",
     "text": [
      " 17\n"
     ]
    },
    {
     "name": "stdout",
     "output_type": "stream",
     "text": [
      "17\n"
     ]
    }
   ],
   "source": [
    "n = int(input())\n",
    "for i in range(2, n+1):\n",
    "    if n % i == 0:\n",
    "        print(i)\n",
    "        break\n",
    "\n",
    "    "
   ]
  },
  {
   "cell_type": "code",
   "execution_count": 15,
   "id": "fb46a4ec-0805-4923-b4e4-4172fad351ee",
   "metadata": {},
   "outputs": [
    {
     "name": "stdin",
     "output_type": "stream",
     "text": [
      " 20\n"
     ]
    },
    {
     "name": "stdout",
     "output_type": "stream",
     "text": [
      "1\n",
      "2\n",
      "3\n",
      "4\n",
      "10\n",
      "11\n",
      "12\n",
      "13\n",
      "14\n",
      "15\n",
      "16\n"
     ]
    }
   ],
   "source": [
    "n = int(input())\n",
    "for i in range(1, n+1):\n",
    "    if 5 <= i <= 9:\n",
    "        continue\n",
    "    if 17 <= i <= 37:\n",
    "        continue\n",
    "    if 78 <= i <= 87:\n",
    "        continue\n",
    "    print(i)\n"
   ]
  },
  {
   "cell_type": "code",
   "execution_count": 16,
   "id": "1a5c9285-e40c-47f7-866f-4127b8733eb1",
   "metadata": {},
   "outputs": [],
   "source": [
    "import math"
   ]
  },
  {
   "cell_type": "code",
   "execution_count": 17,
   "id": "84828ffb-5c42-4c4d-b9fd-84a0dc026c68",
   "metadata": {},
   "outputs": [],
   "source": [
    "from math import *"
   ]
  },
  {
   "cell_type": "code",
   "execution_count": null,
   "id": "5125bc7c-b0ea-4930-af86-f71e91a02025",
   "metadata": {},
   "outputs": [],
   "source": [
    "ρ=(x1−x2)2+(y1−y2)"
   ]
  },
  {
   "cell_type": "code",
   "execution_count": 19,
   "id": "9dcce003-9083-4ad2-98e4-37e771984f26",
   "metadata": {},
   "outputs": [
    {
     "name": "stdin",
     "output_type": "stream",
     "text": [
      " 2\n",
      " 2.5\n",
      " 44.155\n",
      " 100.5\n"
     ]
    },
    {
     "name": "stdout",
     "output_type": "stream",
     "text": [
      "106.68197610187018\n"
     ]
    }
   ],
   "source": [
    "from math import *\n",
    "x1, y1, x2, y2 = float(input()), float(input()), float(input()), float(input())\n",
    "p = sqrt((x1 - x2)**2 + (y1 - y2)**2)\n",
    "print(p)\n",
    "\n"
   ]
  },
  {
   "cell_type": "code",
   "execution_count": 24,
   "id": "5443c8e4-211d-4670-a1b2-ccd61a619c40",
   "metadata": {},
   "outputs": [
    {
     "name": "stdin",
     "output_type": "stream",
     "text": [
      " 554.6\n"
     ]
    },
    {
     "name": "stdout",
     "output_type": "stream",
     "text": [
      "966294.7126386268\n",
      "3484.654571361799\n"
     ]
    }
   ],
   "source": [
    "from math import *\n",
    "R = float(input())\n",
    "S = pi * R**2\n",
    "C = 2 * pi * R\n",
    "print(S, C, sep=\"\\n\")"
   ]
  },
  {
   "cell_type": "code",
   "execution_count": null,
   "id": "6d6fbb8d-1821-4bc6-8846-83f2950b94c6",
   "metadata": {},
   "outputs": [],
   "source": [
    "554.6"
   ]
  },
  {
   "cell_type": "code",
   "execution_count": 25,
   "id": "a1941e9b-d843-414a-8e8a-c1194bb8bcfb",
   "metadata": {},
   "outputs": [
    {
     "name": "stdin",
     "output_type": "stream",
     "text": [
      " 1\n",
      " 2\n"
     ]
    },
    {
     "name": "stdout",
     "output_type": "stream",
     "text": [
      "1.5\n",
      "1.4142135623730951\n",
      "1.3333333333333333\n",
      "1.5811388300841898\n"
     ]
    }
   ],
   "source": [
    "from math import *\n",
    "a, b = float(input()), float(input())\n",
    "print((a+b)/2)\n",
    "print(sqrt(a*b))\n",
    "print((2*a*b)/(a+b))\n",
    "print(sqrt((a**2+ b**2)/2))"
   ]
  },
  {
   "cell_type": "code",
   "execution_count": 27,
   "id": "7492fcb5-bae8-4676-96eb-5f0620cfdda5",
   "metadata": {},
   "outputs": [
    {
     "name": "stdin",
     "output_type": "stream",
     "text": [
      " 30\n"
     ]
    },
    {
     "name": "stdout",
     "output_type": "stream",
     "text": [
      "1.6993587371177719\n"
     ]
    }
   ],
   "source": [
    "from math import *\n",
    "x = radians(float(input()))\n",
    "answer = sin(x) + cos(x) + tan(x)**2\n",
    "print(answer)"
   ]
  },
  {
   "cell_type": "code",
   "execution_count": 28,
   "id": "36656d3a-c769-44ce-b8bf-5866c6c934e8",
   "metadata": {},
   "outputs": [
    {
     "name": "stdin",
     "output_type": "stream",
     "text": [
      " 5.5\n"
     ]
    },
    {
     "name": "stdout",
     "output_type": "stream",
     "text": [
      "11\n"
     ]
    }
   ],
   "source": [
    "from math import *\n",
    "x = float(input())\n",
    "print(floor(x) + ceil(x))"
   ]
  },
  {
   "cell_type": "code",
   "execution_count": 31,
   "id": "8b92bb58-ed56-4d05-85bc-9c007491d849",
   "metadata": {},
   "outputs": [
    {
     "name": "stdin",
     "output_type": "stream",
     "text": [
      " 1\n",
      " -7.5\n",
      " 3\n"
     ]
    },
    {
     "name": "stdout",
     "output_type": "stream",
     "text": [
      "0.4239663260874824\n",
      "7.076033673912518\n"
     ]
    }
   ],
   "source": [
    "from math import *\n",
    "a, b, c = float(input()), float(input()), float(input())\n",
    "d = b ** 2 - 4 * a * c\n",
    "if d < 0:\n",
    "    print(\"Нет корней\")\n",
    "elif d == 0:\n",
    "    x = -b / (2 * a)\n",
    "    print(x)\n",
    "elif d > 0:\n",
    "    x1 = (-b - (sqrt(b**2 - 4 * a * c))) / (2 * a)\n",
    "    x2 = (-b + (sqrt(b**2 - 4 * a * c))) / (2 * a)\n",
    "    print(min(x1, x2), max(x1, x2), sep=\"\\n\")"
   ]
  },
  {
   "cell_type": "code",
   "execution_count": 33,
   "id": "26768811-957f-4986-b611-b6f25114374a",
   "metadata": {},
   "outputs": [
    {
     "name": "stdin",
     "output_type": "stream",
     "text": [
      " 3\n",
      " 2\n"
     ]
    },
    {
     "name": "stdout",
     "output_type": "stream",
     "text": [
      "1.7320508075688779\n"
     ]
    }
   ],
   "source": [
    "from math import *\n",
    "n, a = float(input()), float(input())\n",
    "S = n * a **2 / (4 * tan(pi / n))\n",
    "print(S)"
   ]
  },
  {
   "cell_type": "code",
   "execution_count": 37,
   "id": "6f4868d7-112e-4c92-b33c-90bc66ef50bf",
   "metadata": {},
   "outputs": [
    {
     "name": "stdin",
     "output_type": "stream",
     "text": [
      " abc\n",
      " a\n",
      " abcde\n"
     ]
    },
    {
     "name": "stdout",
     "output_type": "stream",
     "text": [
      "YES\n"
     ]
    }
   ],
   "source": [
    "str1, str2, str3 = input(), input(), input()\n",
    "dlina = sorted((len(str1), len(str2), len(str3)))\n",
    "if dlina[2] - dlina[1] == dlina[1] - dlina[0]:\n",
    "    print(\"YES\")\n",
    "else:\n",
    "    print(\"NO\")\n"
   ]
  },
  {
   "cell_type": "code",
   "execution_count": 38,
   "id": "097eac73-8c8b-49d5-8f03-fb7ee6e431da",
   "metadata": {},
   "outputs": [
    {
     "name": "stdin",
     "output_type": "stream",
     "text": [
      " Разглядите синий густой цвет.\n"
     ]
    },
    {
     "name": "stdout",
     "output_type": "stream",
     "text": [
      "YES\n"
     ]
    }
   ],
   "source": [
    "str1 = input()\n",
    "if \"синий\" in str1:\n",
    "    print(\"YES\")\n",
    "else:\n",
    "    print(\"NO\")"
   ]
  },
  {
   "cell_type": "code",
   "execution_count": 39,
   "id": "e7788a5c-1d53-45ee-bdb9-36fcab27e8d4",
   "metadata": {},
   "outputs": [
    {
     "name": "stdin",
     "output_type": "stream",
     "text": [
      " Была суббота, и ему хотелось поскорее уехать домой.\n"
     ]
    },
    {
     "name": "stdout",
     "output_type": "stream",
     "text": [
      "YES\n"
     ]
    }
   ],
   "source": [
    "str1 = input()\n",
    "if \"суббота\" in str1 or \"воскресенье\" in str1:\n",
    "    print(\"YES\")\n",
    "else:\n",
    "    print(\"NO\")"
   ]
  },
  {
   "cell_type": "code",
   "execution_count": 41,
   "id": "4ee0f84b-78fd-415c-a981-a753bf0298c9",
   "metadata": {},
   "outputs": [
    {
     "ename": "KeyboardInterrupt",
     "evalue": "Interrupted by user",
     "output_type": "error",
     "traceback": [
      "\u001b[1;31m---------------------------------------------------------------------------\u001b[0m",
      "\u001b[1;31mKeyboardInterrupt\u001b[0m                         Traceback (most recent call last)",
      "Cell \u001b[1;32mIn[41], line 1\u001b[0m\n\u001b[1;32m----> 1\u001b[0m str1 \u001b[38;5;241m=\u001b[39m \u001b[38;5;28;43minput\u001b[39;49m\u001b[43m(\u001b[49m\u001b[43m)\u001b[49m\n\u001b[0;32m      2\u001b[0m \u001b[38;5;28;01mif\u001b[39;00m \u001b[38;5;124m\"\u001b[39m\u001b[38;5;124m@\u001b[39m\u001b[38;5;124m\"\u001b[39m \u001b[38;5;129;01min\u001b[39;00m str1 \u001b[38;5;129;01mand\u001b[39;00m \u001b[38;5;124m\"\u001b[39m\u001b[38;5;124m.\u001b[39m\u001b[38;5;124m\"\u001b[39m \u001b[38;5;129;01min\u001b[39;00m str1:\n\u001b[0;32m      3\u001b[0m     \u001b[38;5;28mprint\u001b[39m(\u001b[38;5;124m\"\u001b[39m\u001b[38;5;124mYES\u001b[39m\u001b[38;5;124m\"\u001b[39m)\n",
      "File \u001b[1;32mC:\\Python3\\Lib\\site-packages\\ipykernel\\kernelbase.py:1282\u001b[0m, in \u001b[0;36mKernel.raw_input\u001b[1;34m(self, prompt)\u001b[0m\n\u001b[0;32m   1280\u001b[0m     msg \u001b[38;5;241m=\u001b[39m \u001b[38;5;124m\"\u001b[39m\u001b[38;5;124mraw_input was called, but this frontend does not support input requests.\u001b[39m\u001b[38;5;124m\"\u001b[39m\n\u001b[0;32m   1281\u001b[0m     \u001b[38;5;28;01mraise\u001b[39;00m StdinNotImplementedError(msg)\n\u001b[1;32m-> 1282\u001b[0m \u001b[38;5;28;01mreturn\u001b[39;00m \u001b[38;5;28;43mself\u001b[39;49m\u001b[38;5;241;43m.\u001b[39;49m\u001b[43m_input_request\u001b[49m\u001b[43m(\u001b[49m\n\u001b[0;32m   1283\u001b[0m \u001b[43m    \u001b[49m\u001b[38;5;28;43mstr\u001b[39;49m\u001b[43m(\u001b[49m\u001b[43mprompt\u001b[49m\u001b[43m)\u001b[49m\u001b[43m,\u001b[49m\n\u001b[0;32m   1284\u001b[0m \u001b[43m    \u001b[49m\u001b[38;5;28;43mself\u001b[39;49m\u001b[38;5;241;43m.\u001b[39;49m\u001b[43m_parent_ident\u001b[49m\u001b[43m[\u001b[49m\u001b[38;5;124;43m\"\u001b[39;49m\u001b[38;5;124;43mshell\u001b[39;49m\u001b[38;5;124;43m\"\u001b[39;49m\u001b[43m]\u001b[49m\u001b[43m,\u001b[49m\n\u001b[0;32m   1285\u001b[0m \u001b[43m    \u001b[49m\u001b[38;5;28;43mself\u001b[39;49m\u001b[38;5;241;43m.\u001b[39;49m\u001b[43mget_parent\u001b[49m\u001b[43m(\u001b[49m\u001b[38;5;124;43m\"\u001b[39;49m\u001b[38;5;124;43mshell\u001b[39;49m\u001b[38;5;124;43m\"\u001b[39;49m\u001b[43m)\u001b[49m\u001b[43m,\u001b[49m\n\u001b[0;32m   1286\u001b[0m \u001b[43m    \u001b[49m\u001b[43mpassword\u001b[49m\u001b[38;5;241;43m=\u001b[39;49m\u001b[38;5;28;43;01mFalse\u001b[39;49;00m\u001b[43m,\u001b[49m\n\u001b[0;32m   1287\u001b[0m \u001b[43m\u001b[49m\u001b[43m)\u001b[49m\n",
      "File \u001b[1;32mC:\\Python3\\Lib\\site-packages\\ipykernel\\kernelbase.py:1325\u001b[0m, in \u001b[0;36mKernel._input_request\u001b[1;34m(self, prompt, ident, parent, password)\u001b[0m\n\u001b[0;32m   1322\u001b[0m \u001b[38;5;28;01mexcept\u001b[39;00m \u001b[38;5;167;01mKeyboardInterrupt\u001b[39;00m:\n\u001b[0;32m   1323\u001b[0m     \u001b[38;5;66;03m# re-raise KeyboardInterrupt, to truncate traceback\u001b[39;00m\n\u001b[0;32m   1324\u001b[0m     msg \u001b[38;5;241m=\u001b[39m \u001b[38;5;124m\"\u001b[39m\u001b[38;5;124mInterrupted by user\u001b[39m\u001b[38;5;124m\"\u001b[39m\n\u001b[1;32m-> 1325\u001b[0m     \u001b[38;5;28;01mraise\u001b[39;00m \u001b[38;5;167;01mKeyboardInterrupt\u001b[39;00m(msg) \u001b[38;5;28;01mfrom\u001b[39;00m \u001b[38;5;28;01mNone\u001b[39;00m\n\u001b[0;32m   1326\u001b[0m \u001b[38;5;28;01mexcept\u001b[39;00m \u001b[38;5;167;01mException\u001b[39;00m:\n\u001b[0;32m   1327\u001b[0m     \u001b[38;5;28mself\u001b[39m\u001b[38;5;241m.\u001b[39mlog\u001b[38;5;241m.\u001b[39mwarning(\u001b[38;5;124m\"\u001b[39m\u001b[38;5;124mInvalid Message:\u001b[39m\u001b[38;5;124m\"\u001b[39m, exc_info\u001b[38;5;241m=\u001b[39m\u001b[38;5;28;01mTrue\u001b[39;00m)\n",
      "\u001b[1;31mKeyboardInterrupt\u001b[0m: Interrupted by user"
     ]
    }
   ],
   "source": [
    "str1 = input()\n",
    "if \"@\" in str1 or \"воскресенье\" in str1:"
   ]
  },
  {
   "cell_type": "code",
   "execution_count": 42,
   "id": "ab6e4eaa-e62e-472d-9a59-9e0426537c3c",
   "metadata": {},
   "outputs": [
    {
     "name": "stdin",
     "output_type": "stream",
     "text": [
      " 54353544\n",
      " -42\n",
      " 454\n",
      " 4\n",
      " 2\n",
      " 13\n",
      " -56\n",
      " -7\n",
      " 644\n",
      " 4\n"
     ]
    },
    {
     "name": "stdout",
     "output_type": "stream",
     "text": [
      "-105\n",
      "-7\n"
     ]
    }
   ],
   "source": [
    "mx = -1 * 10 ** 6\n",
    "s = 0\n",
    "flag = 0\n",
    "for i in range(10):\n",
    "    x = int(input())\n",
    "    if x < 0:\n",
    "        s += x\n",
    "        flag = 1\n",
    "    if 0 > x > mx :\n",
    "        mx = x\n",
    "if flag == 0:\n",
    "    print(\"NO\")\n",
    "else:\n",
    "    print(s)\n",
    "    print(mx)\n"
   ]
  },
  {
   "cell_type": "code",
   "execution_count": 44,
   "id": "e041cc1d-5b2c-41bb-a327-e3bdff514503",
   "metadata": {},
   "outputs": [
    {
     "name": "stdin",
     "output_type": "stream",
     "text": [
      " 46993845\n"
     ]
    },
    {
     "name": "stdout",
     "output_type": "stream",
     "text": [
      "9\n"
     ]
    }
   ],
   "source": [
    "n = int(input())\n",
    "max_digit = -1\n",
    "while n > 0:\n",
    "    digit = n % 10\n",
    "    if digit % 3 == 0:\n",
    "        if digit > max_digit:\n",
    "            max_digit = digit\n",
    "    n = n // 10\n",
    "if max_digit == -1:\n",
    "    print('NO')\n",
    "else:\n",
    "    print(max_digit)"
   ]
  },
  {
   "cell_type": "code",
   "execution_count": 46,
   "id": "a78e2643-e302-4244-bd5f-5a789be926e0",
   "metadata": {},
   "outputs": [
    {
     "name": "stdin",
     "output_type": "stream",
     "text": [
      " 24545\n"
     ]
    },
    {
     "name": "stdout",
     "output_type": "stream",
     "text": [
      "2\n"
     ]
    }
   ],
   "source": [
    "n = int(input())\n",
    "while n >= 9:\n",
    "    n = n // 10\n",
    "print(n)"
   ]
  },
  {
   "cell_type": "code",
   "execution_count": 50,
   "id": "633c69b9-0a35-434b-9cca-0e70423aefdd",
   "metadata": {},
   "outputs": [
    {
     "name": "stdin",
     "output_type": "stream",
     "text": [
      " 83432\n"
     ]
    },
    {
     "name": "stdout",
     "output_type": "stream",
     "text": [
      "576\n"
     ]
    }
   ],
   "source": [
    "n = int(input())\n",
    "product = 1\n",
    "while n > 0:\n",
    "    digit = n % 10\n",
    "    product = product * digit\n",
    "    n = n // 10\n",
    "print(product)"
   ]
  },
  {
   "cell_type": "code",
   "execution_count": 51,
   "id": "82fd0311-2bdb-49e2-acc4-7e3e68cabd65",
   "metadata": {},
   "outputs": [
    {
     "name": "stdout",
     "output_type": "stream",
     "text": [
      "8\n"
     ]
    }
   ],
   "source": [
    "counter = 0\n",
    "for i in range(99, 102):\n",
    "    temp = i\n",
    "    while temp > 0:\n",
    "        counter += 1\n",
    "        temp //= 10\n",
    "\n",
    "print(counter)"
   ]
  },
  {
   "cell_type": "code",
   "execution_count": 59,
   "id": "4dbb7671-b204-428f-8a5d-e129de19a4e7",
   "metadata": {},
   "outputs": [
    {
     "name": "stdin",
     "output_type": "stream",
     "text": [
      " 6\n"
     ]
    },
    {
     "name": "stdout",
     "output_type": "stream",
     "text": [
      "1 1 1 1 1\n",
      "2 2 2 2 2\n",
      "3 3 3 3 3\n",
      "4 4 4 4 4\n",
      "5 5 5 5 5\n",
      "6 6 6 6 6\n"
     ]
    }
   ],
   "source": [
    "n = int(input())\n",
    "for i in range(1, n+1):\n",
    "    for j in range(4):\n",
    "        print(i, end=\" \")\n",
    "    print(i)\n"
   ]
  },
  {
   "cell_type": "code",
   "execution_count": 61,
   "id": "25987b9e-923f-4bb6-a7ce-a2c92a367edd",
   "metadata": {},
   "outputs": [
    {
     "name": "stdin",
     "output_type": "stream",
     "text": [
      " 3\n"
     ]
    },
    {
     "name": "stdout",
     "output_type": "stream",
     "text": [
      "1 + 1 = 2\n",
      "1 + 2 = 3\n",
      "1 + 3 = 4\n",
      "1 + 4 = 5\n",
      "1 + 5 = 6\n",
      "1 + 6 = 7\n",
      "1 + 7 = 8\n",
      "1 + 8 = 9\n",
      "1 + 9 = 10\n",
      "\n",
      "2 + 1 = 3\n",
      "2 + 2 = 4\n",
      "2 + 3 = 5\n",
      "2 + 4 = 6\n",
      "2 + 5 = 7\n",
      "2 + 6 = 8\n",
      "2 + 7 = 9\n",
      "2 + 8 = 10\n",
      "2 + 9 = 11\n",
      "\n",
      "3 + 1 = 4\n",
      "3 + 2 = 5\n",
      "3 + 3 = 6\n",
      "3 + 4 = 7\n",
      "3 + 5 = 8\n",
      "3 + 6 = 9\n",
      "3 + 7 = 10\n",
      "3 + 8 = 11\n",
      "3 + 9 = 12\n",
      "\n"
     ]
    }
   ],
   "source": [
    "n = int(input())\n",
    "for i in range(1, n+1):\n",
    "    for j in range(1, 10):\n",
    "        print(f\"{i} + {j} = {i+j}\")\n",
    "    print()"
   ]
  },
  {
   "cell_type": "code",
   "execution_count": 89,
   "id": "75b72dc5-400a-4c47-a098-73e67db74be2",
   "metadata": {},
   "outputs": [
    {
     "name": "stdin",
     "output_type": "stream",
     "text": [
      " 7\n"
     ]
    },
    {
     "name": "stdout",
     "output_type": "stream",
     "text": [
      "*\n",
      "**\n",
      "***\n",
      "****\n",
      "***\n",
      "**\n",
      "*\n"
     ]
    }
   ],
   "source": [
    "n = int(input())\n",
    "visota = int(n / 2 + 0.5)\n",
    "for i in range(1, n+1):\n",
    "    if i <= visota:\n",
    "        for j in range(i):\n",
    "            print(\"*\", end=\"\")\n",
    "        print()\n",
    "    else:\n",
    "        for j in range(n-i+1, 0, -1):\n",
    "            print(\"*\", end=\"\")\n",
    "        print()"
   ]
  },
  {
   "cell_type": "code",
   "execution_count": 75,
   "id": "c62953bc-e11d-4256-bde2-6d86e3357cb1",
   "metadata": {},
   "outputs": [
    {
     "name": "stdout",
     "output_type": "stream",
     "text": [
      "jjj\n"
     ]
    }
   ],
   "source": [
    "print(3 * \"j\")"
   ]
  },
  {
   "cell_type": "code",
   "execution_count": 90,
   "id": "f72490ff-8019-462b-be59-806afcde3785",
   "metadata": {},
   "outputs": [
    {
     "name": "stdin",
     "output_type": "stream",
     "text": [
      " 5\n"
     ]
    },
    {
     "name": "stdout",
     "output_type": "stream",
     "text": [
      "1\n",
      "22\n",
      "333\n",
      "4444\n",
      "55555\n"
     ]
    }
   ],
   "source": [
    "n = int(input())\n",
    "for i in range(1, n+1):\n",
    "    print(str(i)*i)\n",
    "    "
   ]
  },
  {
   "cell_type": "code",
   "execution_count": 93,
   "id": "5e94fc32-433b-4ce8-9415-a062baee0cea",
   "metadata": {},
   "outputs": [
    {
     "name": "stdin",
     "output_type": "stream",
     "text": [
      " 5\n"
     ]
    },
    {
     "name": "stdout",
     "output_type": "stream",
     "text": [
      "1\n",
      "22\n",
      "333\n",
      "4444\n",
      "55555\n"
     ]
    }
   ],
   "source": [
    "n = int(input())\n",
    "for i in range(1, n+1):\n",
    "    for j in range (i):\n",
    "        print(i, end=\"\")\n",
    "    print()"
   ]
  },
  {
   "cell_type": "code",
   "execution_count": null,
   "id": "4a6e700c-6c6c-493d-a9e5-0a34b216058b",
   "metadata": {},
   "outputs": [],
   "source": [
    "for "
   ]
  },
  {
   "cell_type": "code",
   "execution_count": 95,
   "id": "fe0f7157-4552-4029-975b-539d1484159e",
   "metadata": {},
   "outputs": [
    {
     "name": "stdout",
     "output_type": "stream",
     "text": [
      "13.035714285714286\n",
      "12.166666666666666\n",
      "11.774193548387096\n"
     ]
    }
   ],
   "source": [
    "print(365 / 28)\n",
    "print(365 / 30)\n",
    "print(365 / 31)"
   ]
  },
  {
   "cell_type": "code",
   "execution_count": 102,
   "id": "da3bc117-2aab-43da-9272-4d03fd32c513",
   "metadata": {},
   "outputs": [
    {
     "name": "stdout",
     "output_type": "stream",
     "text": [
      "0 7 5\n",
      "1 4 7\n",
      "2 1 9\n",
      "общее количество решение = 3\n"
     ]
    }
   ],
   "source": [
    "total = 0\n",
    "for n in range(15):\n",
    "    for k in range(14):\n",
    "        for m in range(14):\n",
    "            if 28 * n + 30 * k + 31 * m == 365:\n",
    "                print(n, k, m)\n",
    "                total += 1\n",
    "print('общее количество решение =', total)"
   ]
  },
  {
   "cell_type": "code",
   "execution_count": 103,
   "id": "1e09037a-293f-4bbe-91a0-dec6b1793f47",
   "metadata": {},
   "outputs": [
    {
     "data": {
      "text/plain": [
       "365"
      ]
     },
     "execution_count": 103,
     "metadata": {},
     "output_type": "execute_result"
    }
   ],
   "source": [
    "7*30 +31 *5"
   ]
  },
  {
   "cell_type": "code",
   "execution_count": 104,
   "id": "fba6d4ec-357f-4de6-bd51-167e55d1f2ab",
   "metadata": {},
   "outputs": [
    {
     "data": {
      "text/plain": [
       "365"
      ]
     },
     "execution_count": 104,
     "metadata": {},
     "output_type": "execute_result"
    }
   ],
   "source": [
    "28 * 1 + 30 * 4 + 31 * 7"
   ]
  },
  {
   "cell_type": "code",
   "execution_count": 106,
   "id": "fcc81ac9-e1e3-45fd-a232-44dd9d37b62b",
   "metadata": {},
   "outputs": [
    {
     "name": "stdout",
     "output_type": "stream",
     "text": [
      "1 9 90\n"
     ]
    }
   ],
   "source": [
    "for b in range(0, 10):\n",
    "    for k in range(0, 20):\n",
    "        for t in range (0, 200):\n",
    "            if b * 10 + k * 5 + t * 0.5 == 100 and b + k + t == 100:\n",
    "                print(b, k, t)"
   ]
  },
  {
   "cell_type": "code",
   "execution_count": 110,
   "id": "2f7f1adc-7f81-4975-8389-43e55c2e0e12",
   "metadata": {},
   "outputs": [
    {
     "name": "stdout",
     "output_type": "stream",
     "text": [
      " a = 27, b = 84, c = 110, d = 133, e = 144\n",
      "14348907 + 4182119424 + 16105100000 + 41615795893 = 61917364224\n"
     ]
    }
   ],
   "source": [
    "for a in range (1, 151):\n",
    "    for b in range (a, 151):\n",
    "        for c in range (b, 151):\n",
    "            for d in range (c, 151):\n",
    "                for e in range (d, 151):\n",
    "                    if e**5 > a**5 + b**5 + c**5 + d**5:\n",
    "                        break\n",
    "                    elif a ** 5 + b ** 5 + c ** 5 + d ** 5 == e ** 5:\n",
    "                        print(f\" a = {a}, b = {b}, c = {c}, d = {d}, e = {e}\")\n",
    "                        print(f\"{a**5} + {b ** 5} + {c ** 5} + {d ** 5} = {e ** 5}\")"
   ]
  },
  {
   "cell_type": "code",
   "execution_count": 113,
   "id": "b06e1f9b-a308-4a2b-a052-30106460008e",
   "metadata": {},
   "outputs": [
    {
     "name": "stdout",
     "output_type": "stream",
     "text": [
      "150 150 150 150 150\n"
     ]
    }
   ],
   "source": [
    "print(a, b, c, d, e)"
   ]
  },
  {
   "cell_type": "code",
   "execution_count": 112,
   "id": "b3034339-4a9f-4c5e-9a4a-64e217d8f244",
   "metadata": {},
   "outputs": [
    {
     "data": {
      "text/plain": [
       "498"
      ]
     },
     "execution_count": 112,
     "metadata": {},
     "output_type": "execute_result"
    }
   ],
   "source": [
    "27 + 84 + 110 + 133 + 144\n"
   ]
  },
  {
   "cell_type": "code",
   "execution_count": 122,
   "id": "49a0e233-a7c8-4a18-9bc0-c368f2de8b22",
   "metadata": {},
   "outputs": [
    {
     "name": "stdin",
     "output_type": "stream",
     "text": [
      " 6\n"
     ]
    },
    {
     "name": "stdout",
     "output_type": "stream",
     "text": [
      "1 \n",
      "2 3 \n",
      "4 5 6 \n",
      "7 8 9 10 \n",
      "11 12 13 14 15 \n",
      "16 17 18 19 20 21 \n"
     ]
    }
   ],
   "source": [
    "n = int(input())\n",
    "counter = 1\n",
    "for i in range(1, n+1):\n",
    "    for j in range(i):\n",
    "        print(counter, end=\" \")\n",
    "        counter +=1\n",
    "    print()"
   ]
  },
  {
   "cell_type": "code",
   "execution_count": 138,
   "id": "973cb706-6edf-4245-8258-f5620903b889",
   "metadata": {},
   "outputs": [
    {
     "name": "stdin",
     "output_type": "stream",
     "text": [
      " 5\n"
     ]
    },
    {
     "name": "stdout",
     "output_type": "stream",
     "text": [
      "1\n",
      "121\n",
      "12321\n",
      "1234321\n",
      "123454321\n"
     ]
    }
   ],
   "source": [
    "n = int(input())\n",
    "for i in range(1, n+1):\n",
    "    for j in range(1, i*2):\n",
    "        if j  <= i:\n",
    "            print(j, end=\"\")\n",
    "        elif j > i:\n",
    "            print(i * 2  - j, end=\"\")\n",
    "    print()"
   ]
  },
  {
   "cell_type": "code",
   "execution_count": 153,
   "id": "1ab138e6-2bd5-40a4-877e-6cda95869f42",
   "metadata": {},
   "outputs": [
    {
     "name": "stdin",
     "output_type": "stream",
     "text": [
      " 1\n",
      " 100\n"
     ]
    },
    {
     "name": "stdout",
     "output_type": "stream",
     "text": [
      "1 1 сумма делителей = 1\n",
      "2 1 2 сумма делителей = 3\n",
      "3 1 3 сумма делителей = 4\n",
      "4 1 2 4 сумма делителей = 7\n",
      "5 1 5 сумма делителей = 6\n",
      "6 1 2 3 6 сумма делителей = 12\n",
      "7 1 7 сумма делителей = 8\n",
      "8 1 2 4 8 сумма делителей = 15\n",
      "9 1 3 9 сумма делителей = 13\n",
      "10 1 2 5 10 сумма делителей = 18\n",
      "11 1 11 сумма делителей = 12\n",
      "12 1 2 3 4 6 12 сумма делителей = 28\n",
      "13 1 13 сумма делителей = 14\n",
      "14 1 2 7 14 сумма делителей = 24\n",
      "15 1 3 5 15 сумма делителей = 24\n",
      "16 1 2 4 8 16 сумма делителей = 31\n",
      "17 1 17 сумма делителей = 18\n",
      "18 1 2 3 6 9 18 сумма делителей = 39\n",
      "19 1 19 сумма делителей = 20\n",
      "20 1 2 4 5 10 20 сумма делителей = 42\n",
      "21 1 3 7 21 сумма делителей = 32\n",
      "22 1 2 11 22 сумма делителей = 36\n",
      "23 1 23 сумма делителей = 24\n",
      "24 1 2 3 4 6 8 12 24 сумма делителей = 60\n",
      "25 1 5 25 сумма делителей = 31\n",
      "26 1 2 13 26 сумма делителей = 42\n",
      "27 1 3 9 27 сумма делителей = 40\n",
      "28 1 2 4 7 14 28 сумма делителей = 56\n",
      "29 1 29 сумма делителей = 30\n",
      "30 1 2 3 5 6 10 15 30 сумма делителей = 72\n",
      "31 1 31 сумма делителей = 32\n",
      "32 1 2 4 8 16 32 сумма делителей = 63\n",
      "33 1 3 11 33 сумма делителей = 48\n",
      "34 1 2 17 34 сумма делителей = 54\n",
      "35 1 5 7 35 сумма делителей = 48\n",
      "36 1 2 3 4 6 9 12 18 36 сумма делителей = 91\n",
      "37 1 37 сумма делителей = 38\n",
      "38 1 2 19 38 сумма делителей = 60\n",
      "39 1 3 13 39 сумма делителей = 56\n",
      "40 1 2 4 5 8 10 20 40 сумма делителей = 90\n",
      "41 1 41 сумма делителей = 42\n",
      "42 1 2 3 6 7 14 21 42 сумма делителей = 96\n",
      "43 1 43 сумма делителей = 44\n",
      "44 1 2 4 11 22 44 сумма делителей = 84\n",
      "45 1 3 5 9 15 45 сумма делителей = 78\n",
      "46 1 2 23 46 сумма делителей = 72\n",
      "47 1 47 сумма делителей = 48\n",
      "48 1 2 3 4 6 8 12 16 24 48 сумма делителей = 124\n",
      "49 1 7 49 сумма делителей = 57\n",
      "50 1 2 5 10 25 50 сумма делителей = 93\n",
      "51 1 3 17 51 сумма делителей = 72\n",
      "52 1 2 4 13 26 52 сумма делителей = 98\n",
      "53 1 53 сумма делителей = 54\n",
      "54 1 2 3 6 9 18 27 54 сумма делителей = 120\n",
      "55 1 5 11 55 сумма делителей = 72\n",
      "56 1 2 4 7 8 14 28 56 сумма делителей = 120\n",
      "57 1 3 19 57 сумма делителей = 80\n",
      "58 1 2 29 58 сумма делителей = 90\n",
      "59 1 59 сумма делителей = 60\n",
      "60 1 2 3 4 5 6 10 12 15 20 30 60 сумма делителей = 168\n",
      "61 1 61 сумма делителей = 62\n",
      "62 1 2 31 62 сумма делителей = 96\n",
      "63 1 3 7 9 21 63 сумма делителей = 104\n",
      "64 1 2 4 8 16 32 64 сумма делителей = 127\n",
      "65 1 5 13 65 сумма делителей = 84\n",
      "66 1 2 3 6 11 22 33 66 сумма делителей = 144\n",
      "67 1 67 сумма делителей = 68\n",
      "68 1 2 4 17 34 68 сумма делителей = 126\n",
      "69 1 3 23 69 сумма делителей = 96\n",
      "70 1 2 5 7 10 14 35 70 сумма делителей = 144\n",
      "71 1 71 сумма делителей = 72\n",
      "72 1 2 3 4 6 8 9 12 18 24 36 72 сумма делителей = 195\n",
      "73 1 73 сумма делителей = 74\n",
      "74 1 2 37 74 сумма делителей = 114\n",
      "75 1 3 5 15 25 75 сумма делителей = 124\n",
      "76 1 2 4 19 38 76 сумма делителей = 140\n",
      "77 1 7 11 77 сумма делителей = 96\n",
      "78 1 2 3 6 13 26 39 78 сумма делителей = 168\n",
      "79 1 79 сумма делителей = 80\n",
      "80 1 2 4 5 8 10 16 20 40 80 сумма делителей = 186\n",
      "81 1 3 9 27 81 сумма делителей = 121\n",
      "82 1 2 41 82 сумма делителей = 126\n",
      "83 1 83 сумма делителей = 84\n",
      "84 1 2 3 4 6 7 12 14 21 28 42 84 сумма делителей = 224\n",
      "85 1 5 17 85 сумма делителей = 108\n",
      "86 1 2 43 86 сумма делителей = 132\n",
      "87 1 3 29 87 сумма делителей = 120\n",
      "88 1 2 4 8 11 22 44 88 сумма делителей = 180\n",
      "89 1 89 сумма делителей = 90\n",
      "90 1 2 3 5 6 9 10 15 18 30 45 90 сумма делителей = 234\n",
      "91 1 7 13 91 сумма делителей = 112\n",
      "92 1 2 4 23 46 92 сумма делителей = 168\n",
      "93 1 3 31 93 сумма делителей = 128\n",
      "94 1 2 47 94 сумма делителей = 144\n",
      "95 1 5 19 95 сумма делителей = 120\n",
      "96 1 2 3 4 6 8 12 16 24 32 48 96 сумма делителей = 252\n",
      "97 1 97 сумма делителей = 98\n",
      "98 1 2 7 14 49 98 сумма делителей = 171\n",
      "99 1 3 9 11 33 99 сумма делителей = 156\n",
      "100 1 2 4 5 10 20 25 50 100 сумма делителей = 217\n",
      "96 252\n"
     ]
    }
   ],
   "source": [
    "a = int(input())\n",
    "b = int(input())\n",
    "summa_delitelej_max = 0\n",
    "chislo = 0\n",
    "for i in range(a, b + 1):\n",
    "    summa_delitelej = 0  \n",
    "    # print(i, end=\" \")  # смотрим делимое\n",
    "    for j in range(1, i + 1):\n",
    "        if i % j == 0:\n",
    "            # print(j, end = \" \")  # смотрим делители\n",
    "            summa_delitelej = summa_delitelej + j\n",
    "    if summa_delitelej >= summa_delitelej_max:\n",
    "        summa_delitelej_max = summa_delitelej\n",
    "        chislo = i\n",
    "    # print(\"сумма делителей =\", summa_delitelej) # проверяем сумму делителей\n",
    "print(chislo, summa_delitelej_max)"
   ]
  },
  {
   "cell_type": "code",
   "execution_count": null,
   "id": "be185951-5002-4c29-b196-68a9f8148875",
   "metadata": {},
   "outputs": [],
   "source": []
  },
  {
   "cell_type": "code",
   "execution_count": 5,
   "id": "67d945c8-bbbf-434f-a636-ddd524724a46",
   "metadata": {},
   "outputs": [
    {
     "name": "stdin",
     "output_type": "stream",
     "text": [
      " 5\n"
     ]
    },
    {
     "name": "stdout",
     "output_type": "stream",
     "text": [
      "1+\n",
      "2++\n",
      "3++\n",
      "4+++\n",
      "5++\n"
     ]
    }
   ],
   "source": [
    "n = int(input())\n",
    "\n",
    "for i in range(1, n+1):\n",
    "    counter = 0\n",
    "    for j in range(1, i + 1):\n",
    "        if i % j == 0:\n",
    "            counter += 1\n",
    "    print(i, \"+\" * counter, sep=\"\")"
   ]
  },
  {
   "cell_type": "code",
   "execution_count": 17,
   "id": "c38cfe72-d4a2-416a-8b39-7153d4bf0a9e",
   "metadata": {},
   "outputs": [
    {
     "name": "stdin",
     "output_type": "stream",
     "text": [
      " 6\n"
     ]
    },
    {
     "name": "stdout",
     "output_type": "stream",
     "text": [
      "6\n"
     ]
    }
   ],
   "source": [
    "digit = int(input())\n",
    "summ_last_digit = 11\n",
    "while summ_last_digit > 9:\n",
    "    summ_last_digit = 0\n",
    "    while digit > 0:\n",
    "        last_digit = digit % 10\n",
    "        summ_last_digit += last_digit\n",
    "        digit = digit // 10\n",
    "    digit = summ_last_digit\n",
    "print(summ_last_digit)"
   ]
  },
  {
   "cell_type": "code",
   "execution_count": 18,
   "id": "51ecca1e-1062-4e0a-aaca-f329f7a79dae",
   "metadata": {},
   "outputs": [],
   "source": [
    "def factorial(a):\n",
    "    fact = 1\n",
    "    for _ in range(1, a+1):\n",
    "        fact = fact * _\n",
    "    return fact"
   ]
  },
  {
   "cell_type": "code",
   "execution_count": 19,
   "id": "c848cad6-87b6-426e-8315-42baeca7eea7",
   "metadata": {},
   "outputs": [
    {
     "data": {
      "text/plain": [
       "120"
      ]
     },
     "execution_count": 19,
     "metadata": {},
     "output_type": "execute_result"
    }
   ],
   "source": [
    "factorial(5)"
   ]
  },
  {
   "cell_type": "code",
   "execution_count": 26,
   "id": "bbd96298-5a65-46d0-8cfa-f25c1749f6d3",
   "metadata": {},
   "outputs": [
    {
     "name": "stdin",
     "output_type": "stream",
     "text": [
      " 2\n"
     ]
    },
    {
     "name": "stdout",
     "output_type": "stream",
     "text": [
      "3\n"
     ]
    }
   ],
   "source": [
    "n = int(input())\n",
    "def factorial(a):\n",
    "    fact = 1\n",
    "    for _ in range(1, a+1):\n",
    "        fact = fact * _\n",
    "    return fact\n",
    "\n",
    "summ_factorial = 0\n",
    "for i in range(1, n+1):\n",
    "    summ_factorial += factorial(i)\n",
    "print(summ_factorial)"
   ]
  },
  {
   "cell_type": "code",
   "execution_count": 36,
   "id": "1cff1ff5-932d-45b4-bc93-f431d57c3780",
   "metadata": {},
   "outputs": [
    {
     "name": "stdin",
     "output_type": "stream",
     "text": [
      " 2\n",
      " 15\n"
     ]
    },
    {
     "name": "stdout",
     "output_type": "stream",
     "text": [
      "2\n",
      "3\n",
      "5\n",
      "7\n",
      "11\n",
      "13\n"
     ]
    }
   ],
   "source": [
    "a = int(input())\n",
    "b = int(input())\n",
    "for i in range(a,b+1):\n",
    "    summ = 0\n",
    "    for j in range(2, i+1):\n",
    "        if i % j == 0:\n",
    "            summ = summ + i\n",
    "    #         print(i, end =\" \")\n",
    "    # print(summ)\n",
    "    if summ == i:\n",
    "        print(summ)"
   ]
  },
  {
   "cell_type": "code",
   "execution_count": 37,
   "id": "60a5754a-4299-44bd-ab21-19785e5f39a7",
   "metadata": {},
   "outputs": [
    {
     "data": {
      "text/plain": [
       "range(0, 6)"
      ]
     },
     "execution_count": 37,
     "metadata": {},
     "output_type": "execute_result"
    }
   ],
   "source": [
    "range(6)"
   ]
  },
  {
   "cell_type": "code",
   "execution_count": 38,
   "id": "105f75e2-372a-45d2-8722-27cefe7c300b",
   "metadata": {},
   "outputs": [
    {
     "name": "stdout",
     "output_type": "stream",
     "text": [
      "range(0, 6)\n"
     ]
    }
   ],
   "source": [
    "print(range(0, 6))\n",
    "     "
   ]
  },
  {
   "cell_type": "code",
   "execution_count": 42,
   "id": "492b5397-a1ec-4870-9261-3c3842478905",
   "metadata": {},
   "outputs": [
    {
     "name": "stdout",
     "output_type": "stream",
     "text": [
      "10\n",
      "9\n",
      "8\n",
      "7\n",
      "6\n"
     ]
    }
   ],
   "source": [
    "for i in range(10, 5, -1):\n",
    "    print(i)"
   ]
  },
  {
   "cell_type": "code",
   "execution_count": 45,
   "id": "110517a1-00a7-498d-ac6b-bcc0f93d7d9a",
   "metadata": {},
   "outputs": [
    {
     "name": "stdout",
     "output_type": "stream",
     "text": [
      "Python awesome!\n",
      "Python awesome!\n",
      "Python awesome!\n",
      "Python awesome!\n",
      "Python awesome!\n",
      "Python awesome!\n",
      "Python awesome!\n",
      "Python awesome!\n",
      "Python awesome!\n",
      "Python awesome!\n",
      "Python awesome!\n",
      "Python awesome!\n",
      "Python awesome!\n",
      "Python awesome!\n",
      "Python awesome!\n",
      "15\n"
     ]
    }
   ],
   "source": [
    "counter = 0\n",
    "for i in range(10, 25):\n",
    "    print('Python awesome!')\n",
    "    counter +=1\n",
    "print(counter)"
   ]
  },
  {
   "cell_type": "code",
   "execution_count": 50,
   "id": "63196cdf-bde8-44dd-9a97-2ee4a494cc17",
   "metadata": {},
   "outputs": [
    {
     "name": "stdin",
     "output_type": "stream",
     "text": [
      " 24\n"
     ]
    },
    {
     "name": "stdout",
     "output_type": "stream",
     "text": [
      "7\n"
     ]
    }
   ],
   "source": [
    "n = int(input())\n",
    "counter = 0\n",
    "\n",
    "for i in range(1, n + 1):\n",
    "    if i % 3 == 0 and i % 7 != 0:\n",
    "        counter += 1\n",
    "\n",
    "print(counter)"
   ]
  },
  {
   "cell_type": "code",
   "execution_count": 51,
   "id": "de91cb02-f9d9-4f67-9f74-d8f1c8d3b105",
   "metadata": {},
   "outputs": [
    {
     "name": "stdout",
     "output_type": "stream",
     "text": [
      "Python!\n",
      "Python!\n",
      "Python!\n",
      "Python!\n",
      "Python!\n",
      "Python!\n",
      "Python!\n"
     ]
    }
   ],
   "source": [
    "i = 4\n",
    "counter = 0\n",
    "while i <= 10:\n",
    "    print ('Python!')\n",
    "    i += 1\n",
    "    counter += 1"
   ]
  },
  {
   "cell_type": "code",
   "execution_count": 52,
   "id": "77ab548f-cada-4590-a433-5922fd50e08a",
   "metadata": {},
   "outputs": [
    {
     "name": "stdin",
     "output_type": "stream",
     "text": [
      " 3\n"
     ]
    },
    {
     "name": "stdout",
     "output_type": "stream",
     "text": [
      "6\n"
     ]
    }
   ],
   "source": [
    "n = int(input())\n",
    "res = 1\n",
    "i = 2\n",
    "while i <= n:\n",
    "    res *= i\n",
    "    i += 1\n",
    "print(res)"
   ]
  },
  {
   "cell_type": "code",
   "execution_count": 56,
   "id": "54949dad-61ee-4322-8c8e-0e61b04b2006",
   "metadata": {},
   "outputs": [
    {
     "name": "stdin",
     "output_type": "stream",
     "text": [
      " 12\n"
     ]
    },
    {
     "name": "stdout",
     "output_type": "stream",
     "text": [
      "2\n"
     ]
    }
   ],
   "source": [
    "n = int(input())\n",
    "i = 2\n",
    "while n % i != 0:\n",
    "    i += 1\n",
    "print(i)"
   ]
  },
  {
   "cell_type": "code",
   "execution_count": 61,
   "id": "f6edacbe-c602-4df0-b0f9-d1017531d158",
   "metadata": {},
   "outputs": [
    {
     "name": "stdin",
     "output_type": "stream",
     "text": [
      " 12345\n"
     ]
    },
    {
     "name": "stdout",
     "output_type": "stream",
     "text": [
      "6\n"
     ]
    }
   ],
   "source": [
    "n = int(input())\n",
    "s = 0\n",
    "while n > 0:\n",
    "    if n % 10 % 2 == 0:\n",
    "        s += n % 10\n",
    "    n //= 10\n",
    "print(s)"
   ]
  },
  {
   "cell_type": "code",
   "execution_count": 66,
   "id": "31b0acc3-366a-4cef-9f71-8ba10656e132",
   "metadata": {},
   "outputs": [
    {
     "name": "stdin",
     "output_type": "stream",
     "text": [
      " 53342243\n",
      " 567\n",
      " 77651\n",
      " 9\n"
     ]
    },
    {
     "name": "stdout",
     "output_type": "stream",
     "text": [
      "NO\n"
     ]
    }
   ],
   "source": [
    "n = 4\n",
    "count = 0\n",
    "maximum = 0\n",
    "for i in range(1, n + 1):\n",
    "    x = int(input())\n",
    "    if x % 4 == 0:\n",
    "        count += 1\n",
    "        if x > maximum:\n",
    "            maximum = x\n",
    "if count > 0:\n",
    "    print(count)\n",
    "    print(maximum)\n",
    "else:\n",
    "    print('NO')"
   ]
  },
  {
   "cell_type": "markdown",
   "id": "2b84d597-51cf-4cfe-a80d-16b56c495f36",
   "metadata": {},
   "source": [
    "n = 4\n",
    "count = 0\n",
    "maximum = -10 ** 8 - 1\n",
    "for i in range(1, n + 1):\n",
    "    x = int(input())\n",
    "    if x % 2 != 0:\n",
    "        count += 1\n",
    "        if x > maximum:\n",
    "            maximum = x\n",
    "            break\n",
    "if count > 0:\n",
    "    print(count)\n",
    "    print(maximum)\n",
    "else:\n",
    "    print('NO')"
   ]
  },
  {
   "cell_type": "code",
   "execution_count": 69,
   "id": "8a5afc2e-bad1-49c6-8175-3f47cf65dd15",
   "metadata": {},
   "outputs": [
    {
     "name": "stdin",
     "output_type": "stream",
     "text": [
      " 53342243\n",
      " 567\n",
      " 77651\n",
      " 9\n"
     ]
    },
    {
     "name": "stdout",
     "output_type": "stream",
     "text": [
      "4\n",
      "53342243\n"
     ]
    }
   ],
   "source": [
    "n = 4\n",
    "count = 0\n",
    "maximum = -1 * 10 ** 8 -1\n",
    "for i in range(1, n + 1):\n",
    "    x = int(input())\n",
    "    if x % 2 != 0:\n",
    "        count += 1\n",
    "        if x > maximum:\n",
    "            maximum = x\n",
    "if count > 0:\n",
    "    print(count)\n",
    "    print(maximum)\n",
    "else:\n",
    "    print('NO')\n"
   ]
  },
  {
   "cell_type": "code",
   "execution_count": 73,
   "id": "97dfc4f3-74a8-4c0a-905f-5bfa708aa67e",
   "metadata": {},
   "outputs": [
    {
     "name": "stdin",
     "output_type": "stream",
     "text": [
      " 2\n",
      " 1\n",
      " 5\n"
     ]
    },
    {
     "name": "stdout",
     "output_type": "stream",
     "text": [
      "5\n"
     ]
    }
   ],
   "source": [
    "n = 0\n",
    "while not 3 <= n <= 19:\n",
    "    n = int(input())\n",
    "print(n)"
   ]
  },
  {
   "cell_type": "code",
   "execution_count": 75,
   "id": "a5a9ae8f-6f2c-4685-ae6a-fe2cb4505ef0",
   "metadata": {},
   "outputs": [
    {
     "name": "stdin",
     "output_type": "stream",
     "text": [
      " 5\n"
     ]
    },
    {
     "name": "stdout",
     "output_type": "stream",
     "text": [
      "*******************\n",
      "*                 *\n",
      "*                 *\n",
      "*                 *\n",
      "*******************\n"
     ]
    }
   ],
   "source": [
    "n = 0\n",
    "while not 3 <= n <= 19:\n",
    "    n = int(input())\n",
    "for i in range(1, n+1):\n",
    "    if i == 1 or i == n:\n",
    "        print(\"*\" * 19)\n",
    "    else:\n",
    "        print(\"*\", 17 * \" \", \"*\", sep=\"\")"
   ]
  },
  {
   "cell_type": "code",
   "execution_count": 5,
   "id": "cf4e77c8-0c92-4821-ab4d-b60a1c8363f6",
   "metadata": {},
   "outputs": [
    {
     "name": "stdin",
     "output_type": "stream",
     "text": [
      " 100000000\n"
     ]
    },
    {
     "name": "stdout",
     "output_type": "stream",
     "text": [
      "0\n"
     ]
    }
   ],
   "source": [
    "digit = 0\n",
    "while digit <= 99:\n",
    "    digit = int(input())\n",
    "last_digit = digit % 10\n",
    "while digit > 99:\n",
    "    last_digit = digit % 10\n",
    "    digit //= 10\n",
    "print(last_digit)"
   ]
  },
  {
   "cell_type": "code",
   "execution_count": 16,
   "id": "070852a3-e023-4076-812a-805523a59b23",
   "metadata": {},
   "outputs": [
    {
     "name": "stdin",
     "output_type": "stream",
     "text": [
      " 255\n"
     ]
    },
    {
     "name": "stdout",
     "output_type": "stream",
     "text": [
      "0\n",
      "2\n",
      "1\n",
      "0\n",
      "1\n",
      "2\n"
     ]
    }
   ],
   "source": [
    "digit = int(input())\n",
    "counter_3 = 0\n",
    "counter_last = 0\n",
    "counter_chet = 0\n",
    "counter_more_5 = 0\n",
    "proizv_more_7 = 1\n",
    "counter_0_and_5 = 0\n",
    "last_last_digit = digit % 10\n",
    "while digit > 0:\n",
    "    last_digit = digit % 10\n",
    "    if last_digit == 3:\n",
    "        counter_3 += 1\n",
    "    if last_digit == last_last_digit:\n",
    "        counter_last += 1\n",
    "    if last_digit % 2 == 0:\n",
    "        counter_chet += 1\n",
    "    if last_digit > 5:\n",
    "        counter_more_5 += last_digit\n",
    "    if last_digit > 7:\n",
    "        proizv_more_7 *= last_digit\n",
    "    if last_digit == 0 or last_digit == 5:\n",
    "        counter_0_and_5 += 1\n",
    "    digit //= 10\n",
    "print(counter_3, counter_last, counter_chet, counter_more_5, proizv_more_7, counter_0_and_5, sep=\"\\n\")\n"
   ]
  },
  {
   "cell_type": "code",
   "execution_count": 24,
   "id": "fe8bb7da-a8de-4eaa-84cf-6057d62546cb",
   "metadata": {},
   "outputs": [
    {
     "name": "stdout",
     "output_type": "stream",
     "text": [
      "1729\n",
      "4104\n",
      "13832\n",
      "39312\n",
      "704977\n",
      "46683\n",
      "216027\n",
      "32832\n",
      "110656\n",
      "314496\n",
      "216125\n",
      "439101\n",
      "110808\n",
      "373464\n",
      "593047\n",
      "149389\n",
      "262656\n",
      "885248\n",
      "40033\n",
      "195841\n",
      "20683\n",
      "513000\n",
      "805688\n",
      "65728\n",
      "134379\n",
      "886464\n",
      "515375\n",
      "64232\n",
      "171288\n",
      "443889\n",
      "320264\n",
      "165464\n",
      "920673\n",
      "842751\n",
      "525824\n",
      "955016\n",
      "994688\n",
      "327763\n",
      "558441\n",
      "513856\n",
      "984067\n",
      "402597\n",
      "1016496\n",
      "1009736\n",
      "684019\n"
     ]
    }
   ],
   "source": [
    "answer = []\n",
    "for a in range(1, 100):\n",
    "    for b in range(a, 100):\n",
    "        for c in range(a + 1, b):\n",
    "            for d in range(c, b):\n",
    "                if a**3 + b ** 3 == c ** 3 + d ** 3:\n",
    "                    print (a**3 + b ** 3)\n",
    "                    answer.append(a**3 + b ** 3)\n",
    "                    # print(a**3, b ** 3, c ** 3, d ** 3)\n",
    "\n",
    "\n",
    "                    "
   ]
  },
  {
   "cell_type": "code",
   "execution_count": 27,
   "id": "0f7deada-0f37-48be-9178-250c79910d38",
   "metadata": {},
   "outputs": [],
   "source": [
    "answer.sort()"
   ]
  },
  {
   "cell_type": "code",
   "execution_count": 28,
   "id": "9f9a2fe9-7331-4fdd-a925-6602f1a5fa82",
   "metadata": {},
   "outputs": [
    {
     "data": {
      "text/plain": [
       "[1729,\n",
       " 4104,\n",
       " 13832,\n",
       " 20683,\n",
       " 32832,\n",
       " 39312,\n",
       " 40033,\n",
       " 46683,\n",
       " 64232,\n",
       " 65728,\n",
       " 110656,\n",
       " 110808,\n",
       " 134379,\n",
       " 149389,\n",
       " 165464,\n",
       " 171288,\n",
       " 195841,\n",
       " 216027,\n",
       " 216125,\n",
       " 262656,\n",
       " 314496,\n",
       " 320264,\n",
       " 327763,\n",
       " 373464,\n",
       " 402597,\n",
       " 439101,\n",
       " 443889,\n",
       " 513000,\n",
       " 513856,\n",
       " 515375,\n",
       " 525824,\n",
       " 558441,\n",
       " 593047,\n",
       " 684019,\n",
       " 704977,\n",
       " 805688,\n",
       " 842751,\n",
       " 885248,\n",
       " 886464,\n",
       " 920673,\n",
       " 955016,\n",
       " 984067,\n",
       " 994688,\n",
       " 1009736,\n",
       " 1016496]"
      ]
     },
     "execution_count": 28,
     "metadata": {},
     "output_type": "execute_result"
    }
   ],
   "source": [
    "answer"
   ]
  },
  {
   "cell_type": "code",
   "execution_count": 29,
   "id": "89def134-4d3d-4af5-b4a5-156a73b5394c",
   "metadata": {},
   "outputs": [
    {
     "name": "stdout",
     "output_type": "stream",
     "text": [
      "051217"
     ]
    }
   ],
   "source": [
    "s = '01234567891011121314151617'\n",
    "for i in range(0, len(s), 5):\n",
    "    print(s[i], end='')"
   ]
  },
  {
   "cell_type": "code",
   "execution_count": 30,
   "id": "baa614ad-22fa-4599-ab25-e830439d6fff",
   "metadata": {},
   "outputs": [
    {
     "name": "stdout",
     "output_type": "stream",
     "text": [
      ",\n"
     ]
    }
   ],
   "source": [
    "s = \"In 2010, someone paid 10k Bitcoin for two pizzas.\"\n",
    "\n",
    "print(s[7])"
   ]
  },
  {
   "cell_type": "code",
   "execution_count": 31,
   "id": "99a50916-605a-4f77-96a0-9aa578bf237e",
   "metadata": {},
   "outputs": [
    {
     "name": "stdin",
     "output_type": "stream",
     "text": [
      " string\n"
     ]
    },
    {
     "name": "stdout",
     "output_type": "stream",
     "text": [
      "s\n",
      "r\n",
      "n\n"
     ]
    }
   ],
   "source": [
    "text = input()\n",
    "for i in range(0, len(text), 2):\n",
    "    print(text[i])\n"
   ]
  },
  {
   "cell_type": "code",
   "execution_count": 38,
   "id": "106daab7-5198-4df7-875e-602f9e6506c8",
   "metadata": {},
   "outputs": [
    {
     "name": "stdin",
     "output_type": "stream",
     "text": [
      " abc\n"
     ]
    },
    {
     "name": "stdout",
     "output_type": "stream",
     "text": [
      "c\n",
      "b\n",
      "a\n"
     ]
    }
   ],
   "source": [
    "text = input()\n",
    "for i in range(len(text)-1, -1, -1):\n",
    "    # print(i, end=\" \")\n",
    "    print(text[i])"
   ]
  },
  {
   "cell_type": "code",
   "execution_count": null,
   "id": "9a259174-ac06-4fb3-ba87-6fa13811bcc4",
   "metadata": {},
   "outputs": [],
   "source": [
    "text = input()\n",
    "len abvd"
   ]
  },
  {
   "cell_type": "code",
   "execution_count": 40,
   "id": "8aa72900-2cf7-4418-ac94-5c8e96f23542",
   "metadata": {},
   "outputs": [
    {
     "name": "stdin",
     "output_type": "stream",
     "text": [
      " Тим\n",
      " Гуе\n",
      " Ахса\n"
     ]
    },
    {
     "name": "stdout",
     "output_type": "stream",
     "text": [
      "Г Т А\n"
     ]
    }
   ],
   "source": [
    "name = input()\n",
    "surname = input()\n",
    "otchestvo = input()\n",
    "print(surname[0], name[0], otchestvo[0], sep=\"\")\n"
   ]
  },
  {
   "cell_type": "code",
   "execution_count": 43,
   "id": "0b0aada4-509d-4210-8542-12848e7d85a5",
   "metadata": {},
   "outputs": [
    {
     "name": "stdin",
     "output_type": "stream",
     "text": [
      " 2514\n"
     ]
    },
    {
     "name": "stdout",
     "output_type": "stream",
     "text": [
      "12\n"
     ]
    }
   ],
   "source": [
    "text = input()\n",
    "summa = 0\n",
    "for i in range(0, len(text)):\n",
    "    summa += int(text[i])\n",
    "print(summa)"
   ]
  },
  {
   "cell_type": "code",
   "execution_count": 45,
   "id": "37aeaaaf-6293-4462-8c71-c2d627050861",
   "metadata": {},
   "outputs": [
    {
     "name": "stdin",
     "output_type": "stream",
     "text": [
      " Hi 17 Python\n"
     ]
    },
    {
     "ename": "ValueError",
     "evalue": "invalid literal for int() with base 10: 'H'",
     "output_type": "error",
     "traceback": [
      "\u001b[1;31m---------------------------------------------------------------------------\u001b[0m",
      "\u001b[1;31mValueError\u001b[0m                                Traceback (most recent call last)",
      "Cell \u001b[1;32mIn[45], line 4\u001b[0m\n\u001b[0;32m      2\u001b[0m flag \u001b[38;5;241m=\u001b[39m \u001b[38;5;28;01mFalse\u001b[39;00m\n\u001b[0;32m      3\u001b[0m \u001b[38;5;28;01mfor\u001b[39;00m i \u001b[38;5;129;01min\u001b[39;00m \u001b[38;5;28mrange\u001b[39m(\u001b[38;5;241m0\u001b[39m, \u001b[38;5;28mlen\u001b[39m(text)):\n\u001b[1;32m----> 4\u001b[0m     \u001b[38;5;28;01mif\u001b[39;00m \u001b[38;5;28;43mint\u001b[39;49m\u001b[43m(\u001b[49m\u001b[43mtext\u001b[49m\u001b[43m[\u001b[49m\u001b[43mi\u001b[49m\u001b[43m]\u001b[49m\u001b[43m)\u001b[49m  \u001b[38;5;241m>\u001b[39m\u001b[38;5;241m=\u001b[39m \u001b[38;5;241m0\u001b[39m:\n\u001b[0;32m      5\u001b[0m         flag \u001b[38;5;241m=\u001b[39m \u001b[38;5;28;01mTrue\u001b[39;00m\n\u001b[0;32m      6\u001b[0m \u001b[38;5;28;01mif\u001b[39;00m flag:\n",
      "\u001b[1;31mValueError\u001b[0m: invalid literal for int() with base 10: 'H'"
     ]
    }
   ],
   "source": [
    "text = input()\n",
    "flag = False\n",
    "for i in range(0, len(text)):\n",
    "    if int(text[i])  >= 0:\n",
    "        flag = True\n",
    "if flag:\n",
    "    print(\"Цифра\")\n",
    "else:\n",
    "    print(\"Цифр нет\")\n",
    "    "
   ]
  },
  {
   "cell_type": "code",
   "execution_count": 53,
   "id": "053e16d8-3698-4235-b586-d3dad76ddb26",
   "metadata": {},
   "outputs": [],
   "source": [
    "def is_it_int(symbol):\n",
    "    try:\n",
    "        digit = int(symbol)\n",
    "    except ValuerError:\n",
    "        digit = None\n",
    "    else:\n",
    "        return True"
   ]
  },
  {
   "cell_type": "code",
   "execution_count": 58,
   "id": "f3ad515f-bd65-44f9-a18f-2ac035113331",
   "metadata": {},
   "outputs": [
    {
     "name": "stdin",
     "output_type": "stream",
     "text": [
      " Hi 17 Python\n"
     ]
    },
    {
     "name": "stdout",
     "output_type": "stream",
     "text": [
      "Цифра\n"
     ]
    }
   ],
   "source": [
    "text = input()\n",
    "flag = False\n",
    "for i in range(0, len(text)):\n",
    "    try:\n",
    "        int(text[i])\n",
    "    except ValueError:\n",
    "        digit = None\n",
    "    else:\n",
    "        flag = True\n",
    "if flag == True:\n",
    "    print(\"Цифра\")\n",
    "else:\n",
    "    print(\"Цифр нет\")"
   ]
  },
  {
   "cell_type": "code",
   "execution_count": 65,
   "id": "7995346f-19e7-4964-a491-7f662c41ae7c",
   "metadata": {},
   "outputs": [
    {
     "name": "stdin",
     "output_type": "stream",
     "text": [
      " Hi 17 Python\n"
     ]
    },
    {
     "name": "stdout",
     "output_type": "stream",
     "text": [
      "3 True\n",
      "4 True\n",
      "Цифра\n"
     ]
    }
   ],
   "source": [
    "text = input()\n",
    "flag = False\n",
    "for i in range(0, len(text)):\n",
    "    if text[i] in \"0123456789\":\n",
    "        flag = True\n",
    "if flag == True:\n",
    "    print(\"Цифра\")\n",
    "else:\n",
    "    print(\"Цифр нет\")"
   ]
  },
  {
   "cell_type": "code",
   "execution_count": 66,
   "id": "c5c48702-c25b-4589-975e-0bee6f698dda",
   "metadata": {},
   "outputs": [
    {
     "name": "stdin",
     "output_type": "stream",
     "text": [
      " bcd+a++++**31415\n"
     ]
    },
    {
     "name": "stdout",
     "output_type": "stream",
     "text": [
      "Символ + встречается 5 раз\n",
      "Символ * встречается 2 раз\n"
     ]
    }
   ],
   "source": [
    "text = input()\n",
    "total_plus = 0\n",
    "total_zvezda = 0\n",
    "\n",
    "for i in range(0, len(text)):\n",
    "    if text[i] == \"+\":\n",
    "        total_plus += 1\n",
    "    if text[i] == \"*\":\n",
    "        total_zvezda += 1\n",
    "print(f\"Символ + встречается {total_plus} раз\")\n",
    "print(f\"Символ * встречается {total_zvezda} раз\")\n"
   ]
  },
  {
   "cell_type": "code",
   "execution_count": 70,
   "id": "943bdc84-765a-416e-afbf-ce750a77529a",
   "metadata": {},
   "outputs": [
    {
     "name": "stdin",
     "output_type": "stream",
     "text": [
      " aaa\n"
     ]
    },
    {
     "name": "stdout",
     "output_type": "stream",
     "text": [
      "2\n"
     ]
    }
   ],
   "source": [
    "text = input()\n",
    "similar = 0\n",
    "for i in range(0, len(text) -1):\n",
    "        if text[i] == text[i+1]:\n",
    "            similar += 1\n",
    "print(similar)"
   ]
  },
  {
   "cell_type": "code",
   "execution_count": 77,
   "id": "1d58962a-70d9-4950-b473-a1dc571533f0",
   "metadata": {},
   "outputs": [
    {
     "name": "stdin",
     "output_type": "stream",
     "text": [
      " Вдохновение – это умение приводить себя в рабочее состояние!\n"
     ]
    },
    {
     "name": "stdout",
     "output_type": "stream",
     "text": [
      "Количество гласных букв равно 25\n",
      "Количество согласных букв равно 24\n"
     ]
    }
   ],
   "source": [
    "text = input()\n",
    "total_glasnie = 0\n",
    "total_soglasnie = 0\n",
    "\n",
    "for i in range(0, len(text)):\n",
    "    if text[i] in \"ауоыиэяюеAУОЫИЭЯЮЕ\":\n",
    "        total_glasnie += 1\n",
    "        # print(text[i], \"гласная\", \"итого\", total_glasnie)\n",
    "    elif text[i] in \"бвгджзйклмнпрстфхцчшщБДВГДЖЗЙКЛМНПРСТФХЦЧ\":\n",
    "        total_soglasnie += 1\n",
    "        # print(text[i], \"согласная\", \"итого\", total_soglasnie)\n",
    "print(f\"Количество гласных букв равно {total_glasnie}\")\n",
    "print(f\"Количество согласных букв равно {total_soglasnie}\")"
   ]
  },
  {
   "cell_type": "code",
   "execution_count": 80,
   "id": "c8ff1c0c-9265-4129-b4d5-8e671d8b4aca",
   "metadata": {},
   "outputs": [
    {
     "name": "stdin",
     "output_type": "stream",
     "text": [
      " 5\n"
     ]
    },
    {
     "name": "stdout",
     "output_type": "stream",
     "text": [
      "101\n"
     ]
    }
   ],
   "source": [
    "a = int(input())\n",
    "a = format(a, 'b')\n",
    "print(a)"
   ]
  },
  {
   "cell_type": "code",
   "execution_count": 82,
   "id": "4b3528ed-71f6-4d91-bd7d-c951d181bf69",
   "metadata": {},
   "outputs": [
    {
     "name": "stdout",
     "output_type": "stream",
     "text": [
      "gda\n"
     ]
    }
   ],
   "source": [
    "s = 'abcdefg'\n",
    "print(s[::-3])"
   ]
  },
  {
   "cell_type": "code",
   "execution_count": 88,
   "id": "d2b1e915-79f6-40a7-95aa-97a5b125e2b5",
   "metadata": {},
   "outputs": [
    {
     "name": "stdout",
     "output_type": "stream",
     "text": [
      "wo pizzas.\n"
     ]
    }
   ],
   "source": [
    "s = \"In 2010, someone paid 10k Bitcoin for two pizzas.\"\n",
    "print(s[-9:])"
   ]
  },
  {
   "cell_type": "code",
   "execution_count": 89,
   "id": "1e80ed81-432a-4496-9cb1-c609784d55bd",
   "metadata": {},
   "outputs": [
    {
     "ename": "SyntaxError",
     "evalue": "invalid syntax (153076458.py, line 2)",
     "output_type": "error",
     "traceback": [
      "\u001b[1;36m  Cell \u001b[1;32mIn[89], line 2\u001b[1;36m\u001b[0m\n\u001b[1;33m    print(::-1)\u001b[0m\n\u001b[1;37m          ^\u001b[0m\n\u001b[1;31mSyntaxError\u001b[0m\u001b[1;31m:\u001b[0m invalid syntax\n"
     ]
    }
   ],
   "source": [
    "s = \"In 2010, someone paid 10k Bitcoin for two pizzas.\"\n",
    "print(::-1)\n"
   ]
  },
  {
   "cell_type": "code",
   "execution_count": 90,
   "id": "f7e6bb72-663b-4560-a862-4187bc126ea2",
   "metadata": {},
   "outputs": [
    {
     "name": "stdin",
     "output_type": "stream",
     "text": [
      " потоп\n"
     ]
    },
    {
     "name": "stdout",
     "output_type": "stream",
     "text": [
      "YES\n"
     ]
    }
   ],
   "source": [
    "text = input()\n",
    "if text == text[::-1]:\n",
    "    print(\"YES\")\n",
    "else:\n",
    "    print(\"NO\")"
   ]
  },
  {
   "cell_type": "code",
   "execution_count": 92,
   "id": "b4f079d0-e636-4fa8-9c7f-3870f8f4d4ef",
   "metadata": {},
   "outputs": [
    {
     "name": "stdin",
     "output_type": "stream",
     "text": [
      " abcde\n"
     ]
    },
    {
     "name": "stdout",
     "output_type": "stream",
     "text": [
      "5\n",
      "abcdeabcdeabcde\n",
      "a\n",
      "abc\n",
      "cde\n",
      "edcba\n",
      "bcd\n"
     ]
    }
   ],
   "source": [
    "text = input()\n",
    "print(len(text))\n",
    "print(text*3)\n",
    "print(text[0])\n",
    "print(text[0:3])\n",
    "print(text[-3:])    \n",
    "print(text[::-1])\n",
    "print(text[1:-1])"
   ]
  },
  {
   "cell_type": "code",
   "execution_count": 94,
   "id": "4c0a90f0-05dd-4cf1-9f0e-aad6cac56411",
   "metadata": {},
   "outputs": [
    {
     "name": "stdin",
     "output_type": "stream",
     "text": [
      " abcdefghijklmnopqrstuvwxyz\n"
     ]
    },
    {
     "name": "stdout",
     "output_type": "stream",
     "text": [
      "c\n",
      "y\n",
      "abcde\n",
      "abcdefghijklmnopqrstuvwx\n",
      "acegikmoqsuwy\n",
      "bdfhjlnprtvxz\n",
      "zyxwvutsrqponmlkjihgfedcba\n",
      "zxvtrpnljhfdb\n"
     ]
    }
   ],
   "source": [
    "text = input()\n",
    "print(text[2])\n",
    "print(text[-2])\n",
    "print(text[0:5])    \n",
    "print(text[0:-2]) \n",
    "print(text[::2])\n",
    "print(text[1::2]) \n",
    "print(text[::-1])\n",
    "print(text[::-2])"
   ]
  },
  {
   "cell_type": "code",
   "execution_count": 99,
   "id": "65fb45a8-9ba2-4e8b-b646-0fb5dc4e7fbf",
   "metadata": {},
   "outputs": [
    {
     "name": "stdin",
     "output_type": "stream",
     "text": [
      " abcdefg\n"
     ]
    },
    {
     "name": "stdout",
     "output_type": "stream",
     "text": [
      "efgabcd\n"
     ]
    }
   ],
   "source": [
    "text = input()\n",
    "dlina = int(len(text))\n",
    "if dlina % 2 == 0:\n",
    "    first_half = int(dlina / 2)\n",
    "    second_half = int(dlina / 2)\n",
    "elif dlina % 2 != 0:\n",
    "    first_half = int(dlina / 2 + 1)\n",
    "    second_half = int(dlina / 2)\n",
    "\n",
    "print(text[first_half:], text[:first_half], sep=\"\")"
   ]
  },
  {
   "cell_type": "code",
   "execution_count": 100,
   "id": "4f55d72a-86c3-4011-9716-be97a42bf0c3",
   "metadata": {},
   "outputs": [
    {
     "name": "stdin",
     "output_type": "stream",
     "text": [
      " Chris Alan\n"
     ]
    },
    {
     "name": "stdout",
     "output_type": "stream",
     "text": [
      "YES\n"
     ]
    }
   ],
   "source": [
    "text = input()\n",
    "if text.title() == text:\n",
    "    print(\"YES\")\n",
    "else:\n",
    "    print(\"NO\")"
   ]
  },
  {
   "cell_type": "code",
   "execution_count": 102,
   "id": "4b37f6cc-771d-41da-9576-b2822921c0b8",
   "metadata": {},
   "outputs": [
    {
     "name": "stdin",
     "output_type": "stream",
     "text": [
      " HTTPS://pygen.RU/\n"
     ]
    },
    {
     "name": "stdout",
     "output_type": "stream",
     "text": [
      "https://PYGEN.ru/\n"
     ]
    }
   ],
   "source": [
    "text = input()\n",
    "print(text.swapcase())"
   ]
  },
  {
   "cell_type": "code",
   "execution_count": 103,
   "id": "02e3eb5b-0fd1-439e-a226-bac96518cc30",
   "metadata": {},
   "outputs": [
    {
     "name": "stdin",
     "output_type": "stream",
     "text": [
      " оыралоывало ХОРОШвмсва выарлво83кг834\n"
     ]
    },
    {
     "name": "stdout",
     "output_type": "stream",
     "text": [
      "YES\n"
     ]
    }
   ],
   "source": [
    "text = input()\n",
    "if \"хорош\" in text.lower():\n",
    "    print(\"YES\")\n",
    "else:\n",
    "    print(\"NO\")"
   ]
  },
  {
   "cell_type": "code",
   "execution_count": 111,
   "id": "3a708aeb-0468-452d-9146-3b224b33e671",
   "metadata": {},
   "outputs": [
    {
     "name": "stdin",
     "output_type": "stream",
     "text": [
      " gggggggg1212321ABDCEFCE\n"
     ]
    },
    {
     "name": "stdout",
     "output_type": "stream",
     "text": [
      "8\n"
     ]
    }
   ],
   "source": [
    "text = input()\n",
    "text_lower = text.lower()\n",
    "counter = 0\n",
    "for i in range(len(text)):\n",
    "    # print(text[i], text_lower[i], end=\" \")\n",
    "    if text[i] == text_lower[i] and text[i] != text_lower[i].upper():\n",
    "        counter +=1\n",
    "print(counter)\n",
    "    "
   ]
  },
  {
   "cell_type": "code",
   "execution_count": 112,
   "id": "5cfaa02a-349b-4c73-9ad0-4e12dcc0b783",
   "metadata": {},
   "outputs": [
    {
     "name": "stdin",
     "output_type": "stream",
     "text": [
      " In 2010, someone paid 10k Bitcoin for two pizzas.\n"
     ]
    },
    {
     "name": "stdout",
     "output_type": "stream",
     "text": [
      "9\n"
     ]
    }
   ],
   "source": [
    "text = input()\n",
    "print(text.count(' ')+1)"
   ]
  },
  {
   "cell_type": "code",
   "execution_count": 114,
   "id": "ec8ba04a-7a86-42f8-a12b-8184e73f27aa",
   "metadata": {},
   "outputs": [
    {
     "name": "stdin",
     "output_type": "stream",
     "text": [
      " АааГГЦЦцТТттт\n"
     ]
    },
    {
     "name": "stdout",
     "output_type": "stream",
     "text": [
      "Аденин: 3\n",
      "Гуанин: 2\n",
      "Цитозин: 3\n",
      "Тимин: 5\n"
     ]
    }
   ],
   "source": [
    "text = input().lower()\n",
    "print('Аденин:', text.count('а'))\n",
    "print('Гуанин:', text.count('г'))\n",
    "print('Цитозин:', text.count('ц'))\n",
    "print('Тимин:', text.count('т'))"
   ]
  },
  {
   "cell_type": "code",
   "execution_count": 116,
   "id": "69e85234-5f93-4023-ae0e-ab7d2a90c847",
   "metadata": {},
   "outputs": [
    {
     "name": "stdin",
     "output_type": "stream",
     "text": [
      " 3\n",
      " 11helpme11jim11\n",
      " avengers141414atta11ck\n",
      " k1lg0re11111l\n"
     ]
    },
    {
     "name": "stdout",
     "output_type": "stream",
     "text": [
      "1\n"
     ]
    }
   ],
   "source": [
    "n = int(input())\n",
    "count = 0\n",
    "for i in range(n):\n",
    "    text = input()\n",
    "    if text.count('11') >= 3:\n",
    "        count +=1\n",
    "print(count)"
   ]
  },
  {
   "cell_type": "code",
   "execution_count": 120,
   "id": "545bfbfd-30a8-4425-8820-7ddbe26b5f81",
   "metadata": {},
   "outputs": [
    {
     "ename": "KeyboardInterrupt",
     "evalue": "Interrupted by user",
     "output_type": "error",
     "traceback": [
      "\u001b[1;31m---------------------------------------------------------------------------\u001b[0m",
      "\u001b[1;31mKeyboardInterrupt\u001b[0m                         Traceback (most recent call last)",
      "Cell \u001b[1;32mIn[120], line 1\u001b[0m\n\u001b[1;32m----> 1\u001b[0m text \u001b[38;5;241m=\u001b[39m \u001b[38;5;28;43minput\u001b[39;49m\u001b[43m(\u001b[49m\u001b[43m)\u001b[49m\n\u001b[0;32m      2\u001b[0m count \u001b[38;5;241m=\u001b[39m \u001b[38;5;241m0\u001b[39m\n\u001b[0;32m      3\u001b[0m \u001b[38;5;28;01mfor\u001b[39;00m i \u001b[38;5;129;01min\u001b[39;00m \u001b[38;5;28mrange\u001b[39m(\u001b[38;5;241m10\u001b[39m):\n",
      "File \u001b[1;32mC:\\Python3\\Lib\\site-packages\\ipykernel\\kernelbase.py:1282\u001b[0m, in \u001b[0;36mKernel.raw_input\u001b[1;34m(self, prompt)\u001b[0m\n\u001b[0;32m   1280\u001b[0m     msg \u001b[38;5;241m=\u001b[39m \u001b[38;5;124m\"\u001b[39m\u001b[38;5;124mraw_input was called, but this frontend does not support input requests.\u001b[39m\u001b[38;5;124m\"\u001b[39m\n\u001b[0;32m   1281\u001b[0m     \u001b[38;5;28;01mraise\u001b[39;00m StdinNotImplementedError(msg)\n\u001b[1;32m-> 1282\u001b[0m \u001b[38;5;28;01mreturn\u001b[39;00m \u001b[38;5;28;43mself\u001b[39;49m\u001b[38;5;241;43m.\u001b[39;49m\u001b[43m_input_request\u001b[49m\u001b[43m(\u001b[49m\n\u001b[0;32m   1283\u001b[0m \u001b[43m    \u001b[49m\u001b[38;5;28;43mstr\u001b[39;49m\u001b[43m(\u001b[49m\u001b[43mprompt\u001b[49m\u001b[43m)\u001b[49m\u001b[43m,\u001b[49m\n\u001b[0;32m   1284\u001b[0m \u001b[43m    \u001b[49m\u001b[38;5;28;43mself\u001b[39;49m\u001b[38;5;241;43m.\u001b[39;49m\u001b[43m_parent_ident\u001b[49m\u001b[43m[\u001b[49m\u001b[38;5;124;43m\"\u001b[39;49m\u001b[38;5;124;43mshell\u001b[39;49m\u001b[38;5;124;43m\"\u001b[39;49m\u001b[43m]\u001b[49m\u001b[43m,\u001b[49m\n\u001b[0;32m   1285\u001b[0m \u001b[43m    \u001b[49m\u001b[38;5;28;43mself\u001b[39;49m\u001b[38;5;241;43m.\u001b[39;49m\u001b[43mget_parent\u001b[49m\u001b[43m(\u001b[49m\u001b[38;5;124;43m\"\u001b[39;49m\u001b[38;5;124;43mshell\u001b[39;49m\u001b[38;5;124;43m\"\u001b[39;49m\u001b[43m)\u001b[49m\u001b[43m,\u001b[49m\n\u001b[0;32m   1286\u001b[0m \u001b[43m    \u001b[49m\u001b[43mpassword\u001b[49m\u001b[38;5;241;43m=\u001b[39;49m\u001b[38;5;28;43;01mFalse\u001b[39;49;00m\u001b[43m,\u001b[49m\n\u001b[0;32m   1287\u001b[0m \u001b[43m\u001b[49m\u001b[43m)\u001b[49m\n",
      "File \u001b[1;32mC:\\Python3\\Lib\\site-packages\\ipykernel\\kernelbase.py:1325\u001b[0m, in \u001b[0;36mKernel._input_request\u001b[1;34m(self, prompt, ident, parent, password)\u001b[0m\n\u001b[0;32m   1322\u001b[0m \u001b[38;5;28;01mexcept\u001b[39;00m \u001b[38;5;167;01mKeyboardInterrupt\u001b[39;00m:\n\u001b[0;32m   1323\u001b[0m     \u001b[38;5;66;03m# re-raise KeyboardInterrupt, to truncate traceback\u001b[39;00m\n\u001b[0;32m   1324\u001b[0m     msg \u001b[38;5;241m=\u001b[39m \u001b[38;5;124m\"\u001b[39m\u001b[38;5;124mInterrupted by user\u001b[39m\u001b[38;5;124m\"\u001b[39m\n\u001b[1;32m-> 1325\u001b[0m     \u001b[38;5;28;01mraise\u001b[39;00m \u001b[38;5;167;01mKeyboardInterrupt\u001b[39;00m(msg) \u001b[38;5;28;01mfrom\u001b[39;00m \u001b[38;5;28;01mNone\u001b[39;00m\n\u001b[0;32m   1326\u001b[0m \u001b[38;5;28;01mexcept\u001b[39;00m \u001b[38;5;167;01mException\u001b[39;00m:\n\u001b[0;32m   1327\u001b[0m     \u001b[38;5;28mself\u001b[39m\u001b[38;5;241m.\u001b[39mlog\u001b[38;5;241m.\u001b[39mwarning(\u001b[38;5;124m\"\u001b[39m\u001b[38;5;124mInvalid Message:\u001b[39m\u001b[38;5;124m\"\u001b[39m, exc_info\u001b[38;5;241m=\u001b[39m\u001b[38;5;28;01mTrue\u001b[39;00m)\n",
      "\u001b[1;31mKeyboardInterrupt\u001b[0m: Interrupted by user"
     ]
    }
   ],
   "source": [
    "text = input()\n",
    "count = 0\n",
    "for i in range(10):\n",
    "    count += text.count(str(i))\n",
    "print(count)\n",
    "    "
   ]
  },
  {
   "cell_type": "code",
   "execution_count": 123,
   "id": "0be3c071-6c46-4a29-b831-4aae28fe02d5",
   "metadata": {},
   "outputs": [
    {
     "name": "stdin",
     "output_type": "stream",
     "text": [
      " www.google.com\n"
     ]
    },
    {
     "name": "stdout",
     "output_type": "stream",
     "text": [
      "YES\n"
     ]
    }
   ],
   "source": [
    "text\n",
    "if text.endswith(\".com\") or text.endswith('.ru'):\n",
    "    print('YEtextS')\n",
    "else:\n",
    "    print('NO')"
   ]
  },
  {
   "cell_type": "code",
   "execution_count": 132,
   "id": "6118f3d6-4c9a-4be8-9f50-9ddd7431542f",
   "metadata": {},
   "outputs": [
    {
     "name": "stdin",
     "output_type": "stream",
     "text": [
      " abaabbcccc\n"
     ]
    },
    {
     "name": "stdout",
     "output_type": "stream",
     "text": [
      "c\n"
     ]
    }
   ],
   "source": [
    "text = input()\n",
    "max = 0\n",
    "simvol = None\n",
    "for i in range(len(text)):\n",
    "    if text.count(text[i]) >= max:\n",
    "        max = text.count(text[i])\n",
    "        simvol = text[i]\n",
    "print(simvol)"
   ]
  },
  {
   "cell_type": "code",
   "execution_count": 127,
   "id": "1d5a9a74-3507-4bed-9152-6acdcd2f6eda",
   "metadata": {},
   "outputs": [
    {
     "name": "stdout",
     "output_type": "stream",
     "text": [
      "4\n"
     ]
    }
   ],
   "source": [
    "text = \"aaaabbc\"\n",
    "print(text.count(text[0]))"
   ]
  },
  {
   "cell_type": "code",
   "execution_count": 135,
   "id": "058d57d5-5676-4e41-8b00-1b25e8beacae",
   "metadata": {},
   "outputs": [
    {
     "name": "stdin",
     "output_type": "stream",
     "text": [
      " abcdefgfhfabc\n"
     ]
    },
    {
     "name": "stdout",
     "output_type": "stream",
     "text": [
      "5 9\n"
     ]
    }
   ],
   "source": [
    "text = input()\n",
    "if text.count('f') == 1:\n",
    "    print(text.find('f'))\n",
    "elif text.count('f') == 0:\n",
    "    print('NO')\n",
    "else:\n",
    "    print(text.find('f'), text.rfind('f') )\n"
   ]
  },
  {
   "cell_type": "code",
   "execution_count": 138,
   "id": "90eb2e13-6329-43c9-86ce-87e5dd139d6a",
   "metadata": {},
   "outputs": [
    {
     "name": "stdin",
     "output_type": "stream",
     "text": [
      " ahahahahaha\n"
     ]
    },
    {
     "name": "stdout",
     "output_type": "stream",
     "text": [
      "aa\n"
     ]
    }
   ],
   "source": [
    "text = input()\n",
    "first_h_index = text.find('h')\n",
    "last_h_index = text.rfind('h')\n",
    "print(text[:first_h_index], text[last_h_index+1:], sep='')"
   ]
  },
  {
   "cell_type": "code",
   "execution_count": 139,
   "id": "a1ee3fd1-513e-4700-95bb-5af6941f1284",
   "metadata": {},
   "outputs": [
    {
     "name": "stdin",
     "output_type": "stream",
     "text": [
      " 4\n",
      " Не проходит 7 тест, что у меня нет так?\n"
     ]
    },
    {
     "name": "stdout",
     "output_type": "stream",
     "text": [
      "0: Не проходит 7 тест, что у меня нет так?\n"
     ]
    },
    {
     "name": "stdin",
     "output_type": "stream",
     "text": [
      " Авторы, вы надоели уже со своей математикой и \n"
     ]
    },
    {
     "name": "stdout",
     "output_type": "stream",
     "text": [
      "1: Авторы, вы надоели уже со своей математикой и \n"
     ]
    },
    {
     "name": "stdin",
     "output_type": "stream",
     "text": [
      "              \n"
     ]
    },
    {
     "name": "stdout",
     "output_type": "stream",
     "text": [
      "2: COMMENT SHOULD BE DELETED\n"
     ]
    },
    {
     "name": "stdin",
     "output_type": "stream",
     "text": [
      " Почему у меня выходит ошибка IndexError?\n"
     ]
    },
    {
     "name": "stdout",
     "output_type": "stream",
     "text": [
      "3: Почему у меня выходит ошибка IndexError?\n"
     ]
    }
   ],
   "source": [
    "n = int(input())\n",
    "for i in range(1, n+1):\n",
    "    text = input()\n",
    "    if text == \"\" or text.isspace():\n",
    "        print(i, \": \", \"COMMENT SHOULD BE DELETED\", sep='')\n",
    "    else:\n",
    "        print(i, \": \", text, sep='')"
   ]
  },
  {
   "cell_type": "code",
   "execution_count": 142,
   "id": "bc7ecfaf-927d-41df-aa62-c00ce342c6c1",
   "metadata": {},
   "outputs": [
    {
     "name": "stdin",
     "output_type": "stream",
     "text": [
      " АЯ123В_45\n"
     ]
    },
    {
     "name": "stdout",
     "output_type": "stream",
     "text": [
      "NO\n"
     ]
    }
   ],
   "source": [
    "text = input()\n",
    "flag = True\n",
    "if not (9 <= len(text) <= 10):\n",
    "    flag = False\n",
    "if len(text) == 9:\n",
    "    if not(text[0] in 'АВЕКМНОРСТУХ' and text[4] in 'АВЕКМНОРСТУХ' and text[5] in 'АВЕКМНОРСТУХ'):\n",
    "       flag = False\n",
    "    if not(text[1:4].isdigit() and text[7:9].isdigit()):\n",
    "       flag = False\n",
    "    if text[6] != '_':\n",
    "       flag = False\n",
    "if len(text) == 10:\n",
    "    if not(text[0] in 'АВЕКМНОРСТУХ' and text[4] in 'АВЕКМНОРСТУХ' and text[5] in 'АВЕКМНОРСТУХ'):\n",
    "       flag = False\n",
    "    if not(text[1:4].isdigit() and text[7:10].isdigit()):\n",
    "       flag = False\n",
    "    if text[6] != '_':\n",
    "       flag = False\n",
    "if flag == True:\n",
    "    print('YES')\n",
    "else:\n",
    "    print('NO')"
   ]
  },
  {
   "cell_type": "code",
   "execution_count": 154,
   "id": "c69bbdf6-382e-4e16-a487-d20822b86cc8",
   "metadata": {},
   "outputs": [
    {
     "name": "stdin",
     "output_type": "stream",
     "text": [
      " @11112222333344\n"
     ]
    },
    {
     "name": "stdout",
     "output_type": "stream",
     "text": [
      "Correct\n"
     ]
    }
   ],
   "source": [
    "text = input()\n",
    "flag = True\n",
    "if text[0] != '@':\n",
    "    flag = False\n",
    "if not (5 <= len(text) <= 15):\n",
    "    flag = False\n",
    "if not (text[1:].isalnum() and (text[1:].islower() or text[1:].isdigit())) :\n",
    "    flag = False\n",
    "if flag == True:\n",
    "    print('Correct')\n",
    "else:\n",
    "    print('Incorrect')"
   ]
  },
  {
   "cell_type": "code",
   "execution_count": 152,
   "id": "53ce2adc-2e93-49b3-82f0-b617c97d4857",
   "metadata": {},
   "outputs": [
    {
     "data": {
      "text/plain": [
       "True"
      ]
     },
     "execution_count": 152,
     "metadata": {},
     "output_type": "execute_result"
    }
   ],
   "source": [
    "text[1:].isalnum()"
   ]
  },
  {
   "cell_type": "code",
   "execution_count": 153,
   "id": "f35b5e57-9aa4-4927-b3e5-9f28d641377e",
   "metadata": {},
   "outputs": [
    {
     "data": {
      "text/plain": [
       "False"
      ]
     },
     "execution_count": 153,
     "metadata": {},
     "output_type": "execute_result"
    }
   ],
   "source": [
    "text[1:].islower()"
   ]
  },
  {
   "cell_type": "code",
   "execution_count": 150,
   "id": "1544d5bf-74d7-4945-ace8-d87d1aaebae3",
   "metadata": {},
   "outputs": [
    {
     "data": {
      "text/plain": [
       "True"
      ]
     },
     "execution_count": 150,
     "metadata": {},
     "output_type": "execute_result"
    }
   ],
   "source": [
    "text[1:].isalnum() and text[1:].islower()"
   ]
  },
  {
   "cell_type": "code",
   "execution_count": 156,
   "id": "ca4af8c0-1831-4525-bb73-244ddc8a808b",
   "metadata": {},
   "outputs": [
    {
     "name": "stdout",
     "output_type": "stream",
     "text": [
      "In 2010, someone paid 10k Bitcoin for two pizzas.\n"
     ]
    }
   ],
   "source": [
    "s = 'In {0}, someone paid {1} {2} for two pizzas.'.format('2010', '10k', 'Bitcoin')\n",
    "\n",
    "print(s)"
   ]
  },
  {
   "cell_type": "code",
   "execution_count": 158,
   "id": "391f1abb-7e15-4407-aa1b-ff06d32a995f",
   "metadata": {},
   "outputs": [
    {
     "name": "stdout",
     "output_type": "stream",
     "text": [
      "In 2010, someone paid 10K Bitcoin for two pizzas.\n"
     ]
    }
   ],
   "source": [
    "year = 2010\n",
    "amount = \"10K\"\n",
    "currency = \"Bitcoin\"\n",
    "s = f'In {year}, someone paid {amount} {currency} for two pizzas.'\n",
    "\n",
    "print(s)"
   ]
  },
  {
   "cell_type": "code",
   "execution_count": 161,
   "id": "0aef255d-64e8-4744-83f7-2253a709c68d",
   "metadata": {},
   "outputs": [
    {
     "name": "stdin",
     "output_type": "stream",
     "text": [
      " 12-05-2016\n",
      " 75.4505\n",
      " 10.1721\n"
     ]
    },
    {
     "name": "stdout",
     "output_type": "stream",
     "text": [
      "На 12-05-2016: 1€ = 75.4505₽, 1¥ = 10.1721₽\n"
     ]
    }
   ],
   "source": [
    "date = input()\n",
    "EUR_Rate = input()\n",
    "CNY_Rate = input()\n",
    "print(f\"На {date}: 1€ = {EUR_Rate}₽, 1¥ = {CNY_Rate}₽\")"
   ]
  },
  {
   "cell_type": "code",
   "execution_count": 178,
   "id": "a6efcf93-0c71-48b2-a98c-44001d1f49a2",
   "metadata": {},
   "outputs": [
    {
     "name": "stdin",
     "output_type": "stream",
     "text": [
      " 1\n",
      " 2\n"
     ]
    },
    {
     "name": "stdout",
     "output_type": "stream",
     "text": [
      "Для чисел 1 и 2:\n",
      "  Сумма кубов: 1**3 + 2**3 = 9\n",
      "  Куб суммы: (1 + 2)**3 = 27\n"
     ]
    }
   ],
   "source": [
    "a = int(input())\n",
    "b = int(input())\n",
    "print(f\"Для чисел {a} и {b}:\\n\\\n",
    "  Сумма кубов: {a}**3 + {b}**3 = {a ** 3 + b ** 3}\\n\\\n",
    "  Куб суммы: ({a} + {b})**3 = {(a + b) ** 3}\")"
   ]
  },
  {
   "cell_type": "code",
   "execution_count": 174,
   "id": "6a7eed5a-4a71-40cf-8ea5-d22658c4cf9c",
   "metadata": {},
   "outputs": [
    {
     "name": "stdin",
     "output_type": "stream",
     "text": [
      " 1\n",
      " 2\n"
     ]
    },
    {
     "name": "stdout",
     "output_type": "stream",
     "text": [
      "Для чисел 1 и 2:\n",
      "  Сумма кубов: 1**3 + 2**3 = 9\n",
      "  Куб суммы: (1 + 2)**3 = 27\n"
     ]
    }
   ],
   "source": [
    "a = int(input())\n",
    "b = int(input())\n",
    "print(f\"Для чисел {a} и {b}:\")\n",
    "print(f\"  Сумма кубов: {a}**3 + {b}**3 = {a ** 3 + b ** 3}\")\n",
    "print(f\"  Куб суммы: ({a} + {b})**3 = {(a + b) ** 3}\")"
   ]
  },
  {
   "cell_type": "code",
   "execution_count": 179,
   "id": "1e1fed10-691b-42f2-b4f9-ab328e715c14",
   "metadata": {},
   "outputs": [
    {
     "data": {
      "text/plain": [
       "0.2"
      ]
     },
     "execution_count": 179,
     "metadata": {},
     "output_type": "execute_result"
    }
   ],
   "source": [
    "(100-88)/60\n"
   ]
  },
  {
   "cell_type": "code",
   "execution_count": 186,
   "id": "d63150bb-f372-4b0a-9ae6-cc8e5fe834ef",
   "metadata": {},
   "outputs": [
    {
     "name": "stdin",
     "output_type": "stream",
     "text": [
      " 34\n",
      " 93.1\n"
     ]
    },
    {
     "name": "stdout",
     "output_type": "stream",
     "text": [
      "Все идет по плану\n",
      "#34 ДЕНЬ: ТЕКУЩИЙ ВЕС = 93.1 кг, ЦЕЛЬ по ВЕСУ = 93.2 кг\n"
     ]
    }
   ],
   "source": [
    "day_number = int(input())\n",
    "weight = float(input())\n",
    "if weight > 100 - day_number * 0.2:\n",
    "    print(\"Что-то пошло не так\")\n",
    "    print(f\"#{day_number} ДЕНЬ: ТЕКУЩИЙ ВЕС = {weight} кг, ЦЕЛЬ по ВЕСУ = {100 -day_number * 0.2} кг\")\n",
    "else:\n",
    "    print(\"Все идет по плану\")\n",
    "    print(f\"#{day_number} ДЕНЬ: ТЕКУЩИЙ ВЕС = {weight} кг, ЦЕЛЬ по ВЕСУ = {100 -day_number * 0.2} кг\")"
   ]
  },
  {
   "cell_type": "code",
   "execution_count": 189,
   "id": "82182f9f-18b5-45fc-9b58-bd770f02809f",
   "metadata": {},
   "outputs": [
    {
     "name": "stdin",
     "output_type": "stream",
     "text": [
      " Б\n"
     ]
    },
    {
     "name": "stdout",
     "output_type": "stream",
     "text": [
      "В\n"
     ]
    }
   ],
   "source": [
    "char = input()\n",
    "if \"А\"<=char < \"Я\":\n",
    "    print(chr(ord(char)+1))\n",
    "else:\n",
    "    print(\"Дальше букв нет\")"
   ]
  },
  {
   "cell_type": "code",
   "execution_count": 192,
   "id": "4e423590-1b4b-42b0-aaec-f327833ea350",
   "metadata": {},
   "outputs": [
    {
     "name": "stdin",
     "output_type": "stream",
     "text": [
      " 97\n",
      " 110\n"
     ]
    },
    {
     "name": "stdout",
     "output_type": "stream",
     "text": [
      "a b c d e f g h i j k l m n "
     ]
    }
   ],
   "source": [
    "a = int(input())\n",
    "b = int(input())\n",
    "for i in range(a, b+1):\n",
    "    print(chr(i), end=\" \")\n"
   ]
  },
  {
   "cell_type": "code",
   "execution_count": 205,
   "id": "a55b95e3-bb7e-4745-88a1-a57ee68b3b2a",
   "metadata": {},
   "outputs": [
    {
     "name": "stdin",
     "output_type": "stream",
     "text": [
      " az\n"
     ]
    },
    {
     "name": "stdout",
     "output_type": "stream",
     "text": [
      "97 122 "
     ]
    }
   ],
   "source": [
    "text = input()\n",
    "for i in range(len(text)):\n",
    "    print(ord(text[i]), end=\" \")"
   ]
  },
  {
   "cell_type": "code",
   "execution_count": 206,
   "id": "925a07b3-ca2f-4f5b-a52c-a31b00c4290f",
   "metadata": {},
   "outputs": [
    {
     "name": "stdin",
     "output_type": "stream",
     "text": [
      " cx\n"
     ]
    },
    {
     "name": "stdout",
     "output_type": "stream",
     "text": [
      "99 120 "
     ]
    }
   ],
   "source": [
    "text = input()\n",
    "for i in range(len(text)):\n",
    "    print(ord(text[i]), end=\" \")"
   ]
  },
  {
   "cell_type": "code",
   "execution_count": 207,
   "id": "e6168b96-a8ee-4fce-af0a-0eedc0329cab",
   "metadata": {},
   "outputs": [
    {
     "name": "stdin",
     "output_type": "stream",
     "text": [
      " az\n",
      " by\n",
      " cx\n",
      " 122\n"
     ]
    },
    {
     "name": "stdout",
     "output_type": "stream",
     "text": [
      "az\n"
     ]
    }
   ],
   "source": [
    "weight = 0\n",
    "max_weight = 0\n",
    "text_max_weight = \"\"\n",
    "for i in range(1,5):\n",
    "    text = input()\n",
    "    for j in range(len(text)):\n",
    "        weight += ord(text[j])\n",
    "    if weight > max_weight:\n",
    "        max_weight = weight\n",
    "        text_max_weight = text\n",
    "    weight = 0\n",
    "print(text_max_weight)"
   ]
  },
  {
   "cell_type": "code",
   "execution_count": 200,
   "id": "d79d9b53-b82f-4dab-99bc-7e1b94060cc9",
   "metadata": {},
   "outputs": [
    {
     "data": {
      "text/plain": [
       "'text1'"
      ]
     },
     "execution_count": 200,
     "metadata": {},
     "output_type": "execute_result"
    }
   ],
   "source": [
    "\"text\" + str(1)"
   ]
  },
  {
   "cell_type": "code",
   "execution_count": 217,
   "id": "153bc8b9-bcd4-4b5c-b8d7-15a8f58788bc",
   "metadata": {},
   "outputs": [
    {
     "name": "stdin",
     "output_type": "stream",
     "text": [
      " @Тимур Гуев, ХОЧУ БОЛЬШЕ ПЧЕЛОК, ПЧЕЛОК, ПЧЕЛОК, ПЧЕЛОК\n"
     ]
    },
    {
     "name": "stdout",
     "output_type": "stream",
     "text": [
      "Старая стоимость: 137946🐝\n",
      "Новая стоимость: 137946🐝\n"
     ]
    }
   ],
   "source": [
    "old_amount = 0\n",
    "new_amount = 0\n",
    "char_cost_new = 0\n",
    "old_char = 'eyopaxcETOPAHXCBM'\n",
    "new_char = 'еуорахсЕТОРАНХСВМ'\n",
    "text = input()\n",
    "for i in range(len(text)):\n",
    "    old_amount = old_amount + ord(text[i]) * 3\n",
    "    if text[i] in old_char:\n",
    "        position = old_char.find(text[i])\n",
    "        char_cost_new = ord(new_char[position]) * 3\n",
    "    else:\n",
    "        char_cost_new = ord(text[i]) * 3\n",
    "    new_amount = new_amount + char_cost_new\n",
    "print(f\"Старая стоимость: {old_amount}🐝\")\n",
    "print(f\"Новая стоимость: {new_amount}🐝\")"
   ]
  },
  {
   "cell_type": "code",
   "execution_count": 264,
   "id": "531b64e6-2b08-4c07-b66a-b9531c7dd30d",
   "metadata": {},
   "outputs": [
    {
     "name": "stdin",
     "output_type": "stream",
     "text": [
      " 14\n",
      " fsfftsfufksttskskt\n"
     ]
    },
    {
     "name": "stdout",
     "output_type": "stream",
     "text": [
      "rerrfergrweffewewf"
     ]
    }
   ],
   "source": [
    "n = 0\n",
    "while n < 1 or n > 25:\n",
    "    n = int(input())\n",
    "text = input()\n",
    "for i in range(len(text)):\n",
    "    if ord(text[i]) - n >= 97:\n",
    "        new_char = chr(ord(text[i]) - n)\n",
    "    elif 97 > ord(text[i]) - n:\n",
    "        new_char =chr(122 + 1 - (97 - (ord(text[i]) - n)))\n",
    "    print(new_char, end=\"\")"
   ]
  },
  {
   "cell_type": "code",
   "execution_count": 259,
   "id": "1b845aaa-a18e-4923-811c-5d1b0647f5fc",
   "metadata": {},
   "outputs": [
    {
     "data": {
      "text/plain": [
       "'w'"
      ]
     },
     "execution_count": 259,
     "metadata": {},
     "output_type": "execute_result"
    }
   ],
   "source": [
    "new_char = chr(122 + 1 - (97 - (ord('k') - n)))\n",
    "new_char"
   ]
  },
  {
   "cell_type": "markdown",
   "id": "bc74516b-a15b-45bb-bef8-e05a260f350f",
   "metadata": {},
   "source": [
    "# "
   ]
  },
  {
   "cell_type": "code",
   "execution_count": 282,
   "id": "213c6667-ccb6-4a91-a044-8e6daad9ad81",
   "metadata": {},
   "outputs": [
    {
     "name": "stdin",
     "output_type": "stream",
     "text": [
      " Username: [u-1042][u-1072][u-1089][u-1103]; City: [u-1050][u-1072][u-1079][u-1072][u-1085][u-1100]\n"
     ]
    },
    {
     "name": "stdout",
     "output_type": "stream",
     "text": [
      "Username: Вася; City: Казань\n"
     ]
    }
   ],
   "source": [
    "text = input()\n",
    "while \"[\" in text:\n",
    "    index = text.find(\"[\")\n",
    "    char_code = int(text[index +3: index + 7])\n",
    "    text = text[:index] + chr(char_code) + text[index+8:]\n",
    "print(text)"
   ]
  },
  {
   "cell_type": "code",
   "execution_count": 279,
   "id": "8d46b993-238d-4fe2-bcb8-a60b228d5059",
   "metadata": {},
   "outputs": [
    {
     "name": "stdout",
     "output_type": "stream",
     "text": [
      "21\n",
      "1080\n",
      "Hello, my name is Хаки!\n"
     ]
    }
   ],
   "source": [
    "index = text.find(\"[\")\n",
    "print(index)\n",
    "char_code = int(text[index +3: index + 7])\n",
    "print(char_code)\n",
    "text = text[:index] + chr(char_code) + text[index+8:]\n",
    "print(text)"
   ]
  },
  {
   "cell_type": "code",
   "execution_count": 275,
   "id": "bdedaba6-cfb4-4650-bd29-6727da30afc3",
   "metadata": {},
   "outputs": [],
   "source": [
    "text = \"Hello, my name is [u-1061][u-1072][u-1082][u-1080]!\""
   ]
  },
  {
   "cell_type": "code",
   "execution_count": 283,
   "id": "e08430be-30ea-40da-bc04-8c2834d63aa2",
   "metadata": {},
   "outputs": [
    {
     "name": "stdin",
     "output_type": "stream",
     "text": [
      " буря\n",
      " мглою\n",
      " небо\n",
      " кроет\n",
      " КОНЕЦ\n"
     ]
    },
    {
     "name": "stdout",
     "output_type": "stream",
     "text": [
      "Минимальная строка ⬇️: буря\n",
      "Максимальная строка ⬆️:  небо\n"
     ]
    }
   ],
   "source": [
    "text = input()\n",
    "min_text = text\n",
    "max_text = text\n",
    "while True:\n",
    "    text = input()\n",
    "    if text == \"КОНЕЦ\":\n",
    "        break\n",
    "    else:\n",
    "        if text < min_text:\n",
    "            min_text = text\n",
    "        elif text > max_text:\n",
    "            max_text = text\n",
    "print(f\"Минимальная строка ⬇️: {min_text}\")\n",
    "print(f\"Максимальная строка ⬆️: {max_text}\")"
   ]
  },
  {
   "cell_type": "code",
   "execution_count": 286,
   "id": "b3ab156f-b7be-40b7-9f9e-ee348f03030d",
   "metadata": {},
   "outputs": [
    {
     "name": "stdin",
     "output_type": "stream",
     "text": [
      " I\n",
      " will\n",
      " be\n",
      " back\n"
     ]
    },
    {
     "name": "stdout",
     "output_type": "stream",
     "text": [
      "62157456\n"
     ]
    }
   ],
   "source": [
    "text = input()\n",
    "min_text = text\n",
    "max_text = text\n",
    "for i in range(3):\n",
    "    text = input()\n",
    "    if text < min_text:\n",
    "        min_text = text\n",
    "    elif text > max_text:\n",
    "        max_text = text\n",
    "answer = (ord(min_text[-1]) * ord(max_text[-1])) ** 2\n",
    "print(answer)"
   ]
  },
  {
   "cell_type": "code",
   "execution_count": 296,
   "id": "1ca38b31-9f20-4afd-9a5e-335a25a8517f",
   "metadata": {},
   "outputs": [
    {
     "name": "stdin",
     "output_type": "stream",
     "text": [
      " 4\n",
      " 11\n"
     ]
    },
    {
     "name": "stdout",
     "output_type": "stream",
     "text": [
      "NO\n"
     ]
    },
    {
     "name": "stdin",
     "output_type": "stream",
     "text": [
      " 1А\n"
     ]
    },
    {
     "name": "stdout",
     "output_type": "stream",
     "text": [
      "YES\n"
     ]
    },
    {
     "name": "stdin",
     "output_type": "stream",
     "text": [
      " 1Б\n"
     ]
    },
    {
     "name": "stdout",
     "output_type": "stream",
     "text": [
      "YES\n"
     ]
    },
    {
     "name": "stdin",
     "output_type": "stream",
     "text": [
      " ББ\n"
     ]
    },
    {
     "name": "stdout",
     "output_type": "stream",
     "text": [
      "NO\n"
     ]
    }
   ],
   "source": [
    "n = int(input())\n",
    "for i in range(n):\n",
    "    flag = False\n",
    "    text = input()\n",
    "    if len(text) == 2:\n",
    "        if text[0].isdigit() and text[1].isalpha():\n",
    "            if \"А\" <= text[1] <= \"П\":\n",
    "                flag = True\n",
    "    if flag:\n",
    "        print(\"YES\")\n",
    "    else:\n",
    "        print(\"NO\")\n"
   ]
  },
  {
   "cell_type": "code",
   "execution_count": 316,
   "id": "3a746bf3-4358-48d9-a51a-250f7a7d4e73",
   "metadata": {},
   "outputs": [
    {
     "name": "stdin",
     "output_type": "stream",
     "text": [
      " Ab4c1$#ddd\n",
      " \"a_b_c##DDD70\"\n"
     ]
    },
    {
     "name": "stdout",
     "output_type": "stream",
     "text": [
      "YES\n"
     ]
    }
   ],
   "source": [
    "# str_1, str_2 = input(), input()\n",
    "# str_1 = \"Ab4c1$#ddd\"\n",
    "# str_2 = \"a_b_c##DDD70\"\n",
    "def clean_text(text):\n",
    "    new_text = \"\"\n",
    "    text = text.lower()\n",
    "    for i in range(len(text)):\n",
    "        if text[i].isalpha():\n",
    "            new_text += text[i]\n",
    "    return new_text\n",
    "    \n",
    "if clean_text(input()) == clean_text(input()):\n",
    "    print(\"YES\")\n",
    "else:\n",
    "    print(\"NO\")\n"
   ]
  },
  {
   "cell_type": "code",
   "execution_count": 314,
   "id": "489dbb87-5dce-4ed6-9030-b320c998db30",
   "metadata": {},
   "outputs": [],
   "source": [
    "def clean_text(text):\n",
    "    new_text = \"\"\n",
    "    text = text.lower()\n",
    "    for i in range(len(text)):\n",
    "        if text[i].isalpha():\n",
    "            new_text += text[i]\n",
    "    return new_text"
   ]
  },
  {
   "cell_type": "code",
   "execution_count": 315,
   "id": "36d249ed-ef95-4c74-9365-0ad57f236d28",
   "metadata": {},
   "outputs": [
    {
     "name": "stdout",
     "output_type": "stream",
     "text": [
      "YES\n",
      "abcddd abcddd\n"
     ]
    }
   ],
   "source": [
    "str_1 = \"Ab4c1$#ddd\"\n",
    "str_2 = \"a_b_c##DDD70\"\n",
    "if clean_text(str_1) == clean_text(str_2):\n",
    "    print(\"YES\")\n",
    "else:\n",
    "    print(\"NO\")\n",
    "print(clean_text(str_1), clean_text(str_2))"
   ]
  },
  {
   "cell_type": "code",
   "execution_count": 322,
   "id": "f5fc7328-29eb-4f7b-a79b-e2602c15b74c",
   "metadata": {},
   "outputs": [
    {
     "name": "stdin",
     "output_type": "stream",
     "text": [
      " июнь\n",
      " июль\n",
      " август\n"
     ]
    },
    {
     "name": "stdout",
     "output_type": "stream",
     "text": [
      "август июнь июнь\n"
     ]
    }
   ],
   "source": [
    "text = input()\n",
    "min_text, middle_text, max_text = text, text, text\n",
    "for i in range(2):\n",
    "    text = input()\n",
    "    if text < min_text:\n",
    "        min_text = text\n",
    "    elif text > max_text:\n",
    "        max_text = text\n",
    "    else:\n",
    "        middle_text = text\n",
    "print(min_text, middle_text, max_text)"
   ]
  },
  {
   "cell_type": "code",
   "execution_count": 327,
   "id": "b51b13e4-cb2e-48ae-93a2-58682f30246b",
   "metadata": {},
   "outputs": [
    {
     "name": "stdin",
     "output_type": "stream",
     "text": [
      " июнь\n",
      " июль\n",
      " август\n"
     ]
    },
    {
     "ename": "TypeError",
     "evalue": "'int' object is not callable",
     "output_type": "error",
     "traceback": [
      "\u001b[1;31m---------------------------------------------------------------------------\u001b[0m",
      "\u001b[1;31mTypeError\u001b[0m                                 Traceback (most recent call last)",
      "Cell \u001b[1;32mIn[327], line 3\u001b[0m\n\u001b[0;32m      1\u001b[0m word1, word2, word3 \u001b[38;5;241m=\u001b[39m \u001b[38;5;28minput\u001b[39m(), \u001b[38;5;28minput\u001b[39m(), \u001b[38;5;28minput\u001b[39m()\n\u001b[0;32m      2\u001b[0m min_word \u001b[38;5;241m=\u001b[39m \u001b[38;5;28mmin\u001b[39m(word1, word2, word3)\n\u001b[1;32m----> 3\u001b[0m max_word \u001b[38;5;241m=\u001b[39m \u001b[38;5;28;43mmax\u001b[39;49m\u001b[43m(\u001b[49m\u001b[43mword1\u001b[49m\u001b[43m,\u001b[49m\u001b[43m \u001b[49m\u001b[43mword2\u001b[49m\u001b[43m,\u001b[49m\u001b[43m \u001b[49m\u001b[43mword3\u001b[49m\u001b[43m)\u001b[49m\n\u001b[0;32m      4\u001b[0m middle_word \u001b[38;5;241m=\u001b[39m word1 \u001b[38;5;241m+\u001b[39m word2 \u001b[38;5;241m+\u001b[39m word3\n\u001b[0;32m      5\u001b[0m middle_word \u001b[38;5;241m=\u001b[39m middle_word\u001b[38;5;241m.\u001b[39mreplace(min_word, \u001b[38;5;124m\"\u001b[39m\u001b[38;5;124m\"\u001b[39m)\n",
      "\u001b[1;31mTypeError\u001b[0m: 'int' object is not callable"
     ]
    }
   ],
   "source": [
    "word1, word2, word3 = input(), input(), input()\n",
    "min_word = min(word1, word2, word3)\n",
    "max_word = max(word1, word2, word3)\n",
    "middle_word = word1 + word2 + word3\n",
    "middle_word = middle_word.replace(min_word, \"\")\n",
    "middle_word = middle_word.replace(max_word, \"\")\n",
    "print(min_word, middle_word, max_word)"
   ]
  },
  {
   "cell_type": "code",
   "execution_count": 363,
   "id": "cbe1703c-d03e-4d1a-8c0f-0c2012b17319",
   "metadata": {},
   "outputs": [
    {
     "name": "stdin",
     "output_type": "stream",
     "text": [
      " 3\n",
      " Толстой А.Н., «Петр Первый»\n",
      " Толстой А.Н., «Хмурое утро»\n",
      " Толстой Л.Н., «Война и мир»\n"
     ]
    },
    {
     "name": "stdout",
     "output_type": "stream",
     "text": [
      "NO\n"
     ]
    }
   ],
   "source": [
    "def surname(full_book_name):\n",
    "    surname = full_book_name[:full_book_name.find(\" \")]\n",
    "    return surname\n",
    "\n",
    "def book_name(full_book_name):\n",
    "    book_name = full_book_name[full_book_name.find(\"«\")+1:full_book_name.find(\"»\")]\n",
    "    return book_name\n",
    "    \n",
    "n = int(input())\n",
    "full_book_name = input()\n",
    "flag = True\n",
    "min_name = full_book_name\n",
    "for i in range(n-1):\n",
    "    full_book_name = input()\n",
    "    if surname(full_book_name) < surname(min_name):\n",
    "        flag = False\n",
    "    elif surname(full_book_name) == surname(min_name):\n",
    "        if book_name(full_book_name) < book_name(min_name):\n",
    "            flag = False\n",
    "    # print(surname(min_name), book_name(min_name), surname(full_book_name), book_name(full_book_name)) #временная проверка\n",
    "    min_name = full_book_name\n",
    "    \n",
    "if flag:\n",
    "    print(\"YES\")\n",
    "else:\n",
    "    print(\"NO\")"
   ]
  },
  {
   "cell_type": "code",
   "execution_count": 344,
   "id": "dae2b1ae-185f-475c-8447-aed5c9d9b86d",
   "metadata": {},
   "outputs": [],
   "source": [
    "def surname(full_book_name):\n",
    "    surname = full_book_name[:full_book_name.find(\" \")]\n",
    "    return surname"
   ]
  },
  {
   "cell_type": "code",
   "execution_count": 349,
   "id": "f1f26090-4db2-4edd-9542-bc110afb8191",
   "metadata": {},
   "outputs": [],
   "source": [
    "def book_name(full_book_name):\n",
    "    book_name = full_book_name[full_book_name.find(\"«\")+1:full_book_name.find(\"»\")]\n",
    "    return book_name"
   ]
  },
  {
   "cell_type": "code",
   "execution_count": 350,
   "id": "ff2cb539-7843-4511-abb1-3c017494e3b2",
   "metadata": {},
   "outputs": [
    {
     "data": {
      "text/plain": [
       "'Мертвые души'"
      ]
     },
     "execution_count": 350,
     "metadata": {},
     "output_type": "execute_result"
    }
   ],
   "source": [
    "book_name(min_name)"
   ]
  },
  {
   "cell_type": "code",
   "execution_count": 362,
   "id": "2d232dbd-010b-452b-882c-3a58b0c653e2",
   "metadata": {},
   "outputs": [
    {
     "ename": "SyntaxError",
     "evalue": "invalid character '«' (U+00AB) (3686563237.py, line 1)",
     "output_type": "error",
     "traceback": [
      "\u001b[1;36m  Cell \u001b[1;32mIn[362], line 1\u001b[1;36m\u001b[0m\n\u001b[1;33m    Гоголь Н.В., «Мертвые души»\u001b[0m\n\u001b[1;37m                 ^\u001b[0m\n\u001b[1;31mSyntaxError\u001b[0m\u001b[1;31m:\u001b[0m invalid character '«' (U+00AB)\n"
     ]
    }
   ],
   "source": [
    "\n",
    "\n",
    "Гоголь Н.В., «Мертвые души»\n",
    "Гончаров И.А., «Обломов»\n",
    "Пушкин А.С., «Капитанская дочка»\n",
    "Тургенев И.С., «Ася»\n",
    "Тургенев И.С., «Первая любовь»\n",
    "\n",
    "Толстой А.Н., «Петр Первый»\n",
    "Толстой А.Н., «Хмурое утро»\n",
    "Толстой Л.Н., «Война и мир»"
   ]
  },
  {
   "cell_type": "code",
   "execution_count": 3,
   "id": "c8e94544-9f24-4152-b5c5-a1136a373cbb",
   "metadata": {},
   "outputs": [
    {
     "name": "stdout",
     "output_type": "stream",
     "text": [
      "13\n"
     ]
    }
   ],
   "source": [
    "s = 'Python rocks!'\n",
    "print(len(s))\n"
   ]
  },
  {
   "cell_type": "code",
   "execution_count": 4,
   "id": "40231328-b96c-4610-95da-539172381671",
   "metadata": {},
   "outputs": [
    {
     "name": "stdout",
     "output_type": "stream",
     "text": [
      "ytho\n"
     ]
    }
   ],
   "source": [
    "s = 'Python rocks!'\n",
    "print(s[1:5])"
   ]
  },
  {
   "cell_type": "code",
   "execution_count": 12,
   "id": "4db1f25c-8fa2-4f06-90c6-621f1397c987",
   "metadata": {},
   "outputs": [
    {
     "name": "stdin",
     "output_type": "stream",
     "text": [
      " Python\n"
     ]
    },
    {
     "name": "stdout",
     "output_type": "stream",
     "text": [
      "yton"
     ]
    }
   ],
   "source": [
    "s = input()\n",
    "for i in range(len(s)):\n",
    "    if not (i == 0 or (i) % 3 == 0):\n",
    "        print(s[i], end = \"\")"
   ]
  },
  {
   "cell_type": "code",
   "execution_count": 15,
   "id": "85d2755e-e0f3-44f2-b480-fa8ccf3ad39f",
   "metadata": {},
   "outputs": [
    {
     "name": "stdin",
     "output_type": "stream",
     "text": [
      " 123@1@@34\n"
     ]
    },
    {
     "name": "stdout",
     "output_type": "stream",
     "text": [
      "123134\n"
     ]
    }
   ],
   "source": [
    "s = input()\n",
    "print(s.replace(\"@\", \"\"))"
   ]
  },
  {
   "cell_type": "code",
   "execution_count": 20,
   "id": "e6db7758-5770-4aae-a4d3-c9a962755acc",
   "metadata": {},
   "outputs": [
    {
     "name": "stdin",
     "output_type": "stream",
     "text": [
      " father\n"
     ]
    },
    {
     "name": "stdout",
     "output_type": "stream",
     "text": [
      "-1\n"
     ]
    }
   ],
   "source": [
    "s = input()\n",
    "if s.count(\"f\") == 0:\n",
    "    print(-2)\n",
    "elif s.count(\"f\") == 1:\n",
    "    print(-1)\n",
    "else: \n",
    "    first_index_f = s.find(\"f\")\n",
    "    print(s.find(\"f\", first_index_f + 1))"
   ]
  },
  {
   "cell_type": "code",
   "execution_count": 35,
   "id": "ff40e74f-8416-4238-9382-d80c7c5b8c5f",
   "metadata": {},
   "outputs": [
    {
     "name": "stdin",
     "output_type": "stream",
     "text": [
      " In the hole in the ground there lived a hobbit\n"
     ]
    },
    {
     "name": "stdout",
     "output_type": "stream",
     "text": [
      "In th a devil ereht dnuorg eht ni eloh ehobbit"
     ]
    }
   ],
   "source": [
    "s = input()\n",
    "first_index_h = s.find(\"h\")\n",
    "second_index_h = s.rfind(\"h\")\n",
    "# print(first_index_h, second_index_h)\n",
    "print(s[:first_index_h + 1], end = \"\")\n",
    "for i in range(second_index_h-1, first_index_h, -1):\n",
    "    print(s[i], end=\"\")\n",
    "print(s[second_index_h:], end= \"\")"
   ]
  },
  {
   "cell_type": "code",
   "execution_count": 37,
   "id": "24f29b45-21f0-423d-8d9a-cd187e6f38cc",
   "metadata": {},
   "outputs": [
    {
     "name": "stdin",
     "output_type": "stream",
     "text": [
      " 5\n"
     ]
    },
    {
     "name": "stdout",
     "output_type": "stream",
     "text": [
      "[1, 2, 3, 4, 5]\n"
     ]
    }
   ],
   "source": [
    "n = int(input())\n",
    "print(list(range(1, n+1)))"
   ]
  },
  {
   "cell_type": "code",
   "execution_count": 43,
   "id": "b7df2e64-9399-4a9b-acb2-684c3109db88",
   "metadata": {},
   "outputs": [
    {
     "name": "stdin",
     "output_type": "stream",
     "text": [
      " 5\n"
     ]
    },
    {
     "name": "stdout",
     "output_type": "stream",
     "text": [
      "['a', 'b', 'c', 'd', 'e']\n"
     ]
    }
   ],
   "source": [
    "n = int(input())\n",
    "chars = []\n",
    "for i in range (97, 97 + n):\n",
    "    chars += chr(i)\n",
    "print(chars)\n",
    "\n"
   ]
  },
  {
   "cell_type": "markdown",
   "id": "1c178d3c-0a03-4047-8112-1b8eb98f6b42",
   "metadata": {},
   "source": [
    "evens = [2, 4, 6, 8, 10, 12, 14, 16, 18, 20]\n",
    "average = sum(evens) : len(evens)\n",
    "\n",
    "print(average)"
   ]
  },
  {
   "cell_type": "code",
   "execution_count": 45,
   "id": "0b44e1ce-1721-47f1-a3e1-905f504a6b86",
   "metadata": {},
   "outputs": [
    {
     "name": "stdout",
     "output_type": "stream",
     "text": [
      "11.0\n"
     ]
    }
   ],
   "source": [
    "evens = [2, 4, 6, 8, 10, 12, 14, 16, 18, 20]\n",
    "average = sum(evens) / len(evens)\n",
    "\n",
    "print(average)"
   ]
  },
  {
   "cell_type": "code",
   "execution_count": 67,
   "id": "ea3c05dd-8b20-47d1-a174-6cdc7a5f02c0",
   "metadata": {},
   "outputs": [
    {
     "name": "stdout",
     "output_type": "stream",
     "text": [
      "['Lahnda', 'Japanese', 'Russian', 'Portuguese', 'Bengali', 'Arabic', 'Hindi', 'English', 'Spanish', 'Chinese']\n"
     ]
    }
   ],
   "source": [
    "languages = ['Chinese', 'Spanish', 'English', 'Hindi', 'Arabic', 'Bengali', 'Portuguese', 'Russian', 'Japanese', 'Lahnda']\n",
    "print(languages[::-1])"
   ]
  },
  {
   "cell_type": "raw",
   "id": "683b8f6e-3682-4d64-bc65-0a5b5135635e",
   "metadata": {},
   "source": []
  },
  {
   "cell_type": "code",
   "execution_count": 58,
   "id": "ec711956-c74e-4fcf-8ccd-db85ee355a21",
   "metadata": {},
   "outputs": [
    {
     "name": "stdout",
     "output_type": "stream",
     "text": [
      "Spanish\n"
     ]
    }
   ],
   "source": [
    "languages = ['Chinese', 'Spanish', 'English', 'Hindi', 'Arabic', 'Bengali', 'Portuguese', 'Russian', 'Japanese', 'Lahnda']\n",
    "print(languages[1])"
   ]
  },
  {
   "cell_type": "code",
   "execution_count": 60,
   "id": "3ee3b347-9c34-41c0-a454-e41246eac459",
   "metadata": {},
   "outputs": [
    {
     "name": "stdout",
     "output_type": "stream",
     "text": [
      "['abc', 'bcd', 'cde', 'abc', 'bcd', 'cde']\n"
     ]
    }
   ],
   "source": [
    "a = ['abc', 'bcd', 'cde']\n",
    "b = ['abc', 'bcd', 'cde']\n",
    "print(a+b)"
   ]
  },
  {
   "cell_type": "code",
   "execution_count": 77,
   "id": "f92c7d8a-c254-4528-92fb-3ebb20ddeb5e",
   "metadata": {},
   "outputs": [
    {
     "name": "stdout",
     "output_type": "stream",
     "text": [
      "-11\n",
      "['Lahnda', 'Japanese', 'Russian', 'Portuguese', 'Bengali', 'Arabic', 'Hindi', 'English', 'Spanish', 'Chinese']\n"
     ]
    }
   ],
   "source": [
    "languages = ['Chinese', 'Spanish', 'English', 'Hindi', 'Arabic', 'Bengali', 'Portuguese', 'Russian', 'Japanese', 'Lahnda']\n",
    "\n",
    "languages_new = []\n",
    "lenth = -1 * len(languages) -1\n",
    "print(lenth)\n",
    "for i in range(-1, lenth, -1):\n",
    "    languages_new.append(languages[i])\n",
    "print(languages_new)\n"
   ]
  },
  {
   "cell_type": "code",
   "execution_count": 68,
   "id": "9c6cc7cf-e814-416b-af29-3da2daa1fb35",
   "metadata": {},
   "outputs": [
    {
     "name": "stdout",
     "output_type": "stream",
     "text": [
      "[1, 2, 3, 1, 2, 3, 6, 6, 6, 6, 6, 6, 6, 6, 6, 7, 8, 9, 10, 11, 12, 13]\n"
     ]
    }
   ],
   "source": [
    "numbers1 = [1, 2, 3]\n",
    "numbers2 = [6]\n",
    "numbers3 = [7, 8, 9, 10, 11, 12, 13]\n",
    "\n",
    "print(numbers1 * 2 + numbers2 * 9 + numbers3)"
   ]
  },
  {
   "cell_type": "code",
   "execution_count": 78,
   "id": "1afbb0d3-a305-4a3e-9911-b8dcd8164469",
   "metadata": {},
   "outputs": [
    {
     "name": "stdout",
     "output_type": "stream",
     "text": [
      "['red', 'orange', 'green', 'blue', 'purple', 'brown']\n"
     ]
    }
   ],
   "source": [
    "colors = ['red', 'orange', 'yellow', 'green', 'blue', 'purple', 'brown', 'magenta']\n",
    "del colors[2]\n",
    "del colors[6]\n",
    "\n",
    "print(colors)"
   ]
  },
  {
   "cell_type": "code",
   "execution_count": 80,
   "id": "df827e20-aeb9-4a17-9b80-f58f2fb8387b",
   "metadata": {},
   "outputs": [
    {
     "name": "stdout",
     "output_type": "stream",
     "text": [
      "50\n",
      "5\n",
      "[5, 7, 6, 16, 14, 2, 1, 15, 1, 9, 14, 10, 2, 1, 12, 6, 5, 14, 12, 2, 8, 14, 6, 0, 0, 12, 10, 10, 11, 1, 5, 8, 10, 10, 16, 8, 0, 1, 16, 4, 5, 12, 16, 11, 4, 10, 14, 3, 6, 2]\n",
      "NO\n",
      "[6, 3, 14, 10, 4, 11, 16, 12, 5, 4, 16, 1, 0, 8, 16, 10, 10, 8, 5, 1, 11, 10, 10, 12, 0, 0, 6, 14, 8, 2, 12, 14, 5, 6, 12, 1, 2, 10, 14, 9, 1, 15, 1, 2, 14, 16, 6, 7]\n"
     ]
    }
   ],
   "source": [
    "numbers = [2, 6, 3, 14, 10, 4, 11, 16, 12, 5, 4, 16, 1, 0, 8, 16, 10, 10, 8, 5, 1, 11, 10, 10, 12, 0, 0, 6, 14, 8, 2, 12, 14, 5, 6, 12, 1, 2, 10, 14, 9, 1, 15, 1, 2, 14, 16, 6, 7, 5]\n",
    "print(len(numbers))\n",
    "print(numbers[-1])\n",
    "print(numbers[::-1])\n",
    "if 5 in numbers and 17 in numbers:\n",
    "\tprint(\"YES\")\n",
    "else:\t\n",
    "    print(\"NO\")\n",
    "del numbers[0]\n",
    "del numbers[-1]\n",
    "print(numbers)"
   ]
  },
  {
   "cell_type": "code",
   "execution_count": null,
   "id": "51b7b919-6694-4472-8c51-525306f792dc",
   "metadata": {},
   "outputs": [],
   "source": [
    "n = int(input())\n",
    "list_1 = []\n",
    "for i in range(n):\n",
    "    list_1.append(input())\n",
    "print(list_1)"
   ]
  },
  {
   "cell_type": "code",
   "execution_count": 83,
   "id": "6dbadd66-8378-4da2-8852-546bddfbb0b4",
   "metadata": {},
   "outputs": [
    {
     "name": "stdout",
     "output_type": "stream",
     "text": [
      "['a', 'bb', 'ccc', 'dddd', 'eeeee', 'ffffff', 'ggggggg', 'hhhhhhhh', 'iiiiiiiii', 'jjjjjjjjjj', 'kkkkkkkkkkk', 'llllllllllll', 'mmmmmmmmmmmmm', 'nnnnnnnnnnnnnn', 'ooooooooooooooo', 'pppppppppppppppp', 'qqqqqqqqqqqqqqqqq', 'rrrrrrrrrrrrrrrrrr', 'sssssssssssssssssss', 'tttttttttttttttttttt', 'uuuuuuuuuuuuuuuuuuuuu', 'vvvvvvvvvvvvvvvvvvvvvv', 'wwwwwwwwwwwwwwwwwwwwwww', 'xxxxxxxxxxxxxxxxxxxxxxxx', 'yyyyyyyyyyyyyyyyyyyyyyyyy', 'zzzzzzzzzzzzzzzzzzzzzzzzzz']\n"
     ]
    }
   ],
   "source": [
    "list_2 = []\n",
    "for i in range(1,27):\n",
    "    list_2.append(chr(96+i) * i)\n",
    "print(list_2)"
   ]
  },
  {
   "cell_type": "code",
   "execution_count": 99,
   "id": "49cb7d11-4d81-4153-8833-fea65bc459ad",
   "metadata": {},
   "outputs": [
    {
     "ename": "KeyboardInterrupt",
     "evalue": "Interrupted by user",
     "output_type": "error",
     "traceback": [
      "\u001b[1;31m---------------------------------------------------------------------------\u001b[0m",
      "\u001b[1;31mKeyboardInterrupt\u001b[0m                         Traceback (most recent call last)",
      "Cell \u001b[1;32mIn[99], line 1\u001b[0m\n\u001b[1;32m----> 1\u001b[0m n \u001b[38;5;241m=\u001b[39m \u001b[38;5;28mint\u001b[39m(\u001b[38;5;28;43minput\u001b[39;49m\u001b[43m(\u001b[49m\u001b[43m)\u001b[49m)\n\u001b[0;32m      2\u001b[0m list_1 \u001b[38;5;241m=\u001b[39m []\n\u001b[0;32m      3\u001b[0m \u001b[38;5;28;01mfor\u001b[39;00m i \u001b[38;5;129;01min\u001b[39;00m \u001b[38;5;28mrange\u001b[39m(n):\n",
      "File \u001b[1;32mC:\\Python3\\Lib\\site-packages\\ipykernel\\kernelbase.py:1282\u001b[0m, in \u001b[0;36mKernel.raw_input\u001b[1;34m(self, prompt)\u001b[0m\n\u001b[0;32m   1280\u001b[0m     msg \u001b[38;5;241m=\u001b[39m \u001b[38;5;124m\"\u001b[39m\u001b[38;5;124mraw_input was called, but this frontend does not support input requests.\u001b[39m\u001b[38;5;124m\"\u001b[39m\n\u001b[0;32m   1281\u001b[0m     \u001b[38;5;28;01mraise\u001b[39;00m StdinNotImplementedError(msg)\n\u001b[1;32m-> 1282\u001b[0m \u001b[38;5;28;01mreturn\u001b[39;00m \u001b[38;5;28;43mself\u001b[39;49m\u001b[38;5;241;43m.\u001b[39;49m\u001b[43m_input_request\u001b[49m\u001b[43m(\u001b[49m\n\u001b[0;32m   1283\u001b[0m \u001b[43m    \u001b[49m\u001b[38;5;28;43mstr\u001b[39;49m\u001b[43m(\u001b[49m\u001b[43mprompt\u001b[49m\u001b[43m)\u001b[49m\u001b[43m,\u001b[49m\n\u001b[0;32m   1284\u001b[0m \u001b[43m    \u001b[49m\u001b[38;5;28;43mself\u001b[39;49m\u001b[38;5;241;43m.\u001b[39;49m\u001b[43m_parent_ident\u001b[49m\u001b[43m[\u001b[49m\u001b[38;5;124;43m\"\u001b[39;49m\u001b[38;5;124;43mshell\u001b[39;49m\u001b[38;5;124;43m\"\u001b[39;49m\u001b[43m]\u001b[49m\u001b[43m,\u001b[49m\n\u001b[0;32m   1285\u001b[0m \u001b[43m    \u001b[49m\u001b[38;5;28;43mself\u001b[39;49m\u001b[38;5;241;43m.\u001b[39;49m\u001b[43mget_parent\u001b[49m\u001b[43m(\u001b[49m\u001b[38;5;124;43m\"\u001b[39;49m\u001b[38;5;124;43mshell\u001b[39;49m\u001b[38;5;124;43m\"\u001b[39;49m\u001b[43m)\u001b[49m\u001b[43m,\u001b[49m\n\u001b[0;32m   1286\u001b[0m \u001b[43m    \u001b[49m\u001b[43mpassword\u001b[49m\u001b[38;5;241;43m=\u001b[39;49m\u001b[38;5;28;43;01mFalse\u001b[39;49;00m\u001b[43m,\u001b[49m\n\u001b[0;32m   1287\u001b[0m \u001b[43m\u001b[49m\u001b[43m)\u001b[49m\n",
      "File \u001b[1;32mC:\\Python3\\Lib\\site-packages\\ipykernel\\kernelbase.py:1325\u001b[0m, in \u001b[0;36mKernel._input_request\u001b[1;34m(self, prompt, ident, parent, password)\u001b[0m\n\u001b[0;32m   1322\u001b[0m \u001b[38;5;28;01mexcept\u001b[39;00m \u001b[38;5;167;01mKeyboardInterrupt\u001b[39;00m:\n\u001b[0;32m   1323\u001b[0m     \u001b[38;5;66;03m# re-raise KeyboardInterrupt, to truncate traceback\u001b[39;00m\n\u001b[0;32m   1324\u001b[0m     msg \u001b[38;5;241m=\u001b[39m \u001b[38;5;124m\"\u001b[39m\u001b[38;5;124mInterrupted by user\u001b[39m\u001b[38;5;124m\"\u001b[39m\n\u001b[1;32m-> 1325\u001b[0m     \u001b[38;5;28;01mraise\u001b[39;00m \u001b[38;5;167;01mKeyboardInterrupt\u001b[39;00m(msg) \u001b[38;5;28;01mfrom\u001b[39;00m \u001b[38;5;28;01mNone\u001b[39;00m\n\u001b[0;32m   1326\u001b[0m \u001b[38;5;28;01mexcept\u001b[39;00m \u001b[38;5;167;01mException\u001b[39;00m:\n\u001b[0;32m   1327\u001b[0m     \u001b[38;5;28mself\u001b[39m\u001b[38;5;241m.\u001b[39mlog\u001b[38;5;241m.\u001b[39mwarning(\u001b[38;5;124m\"\u001b[39m\u001b[38;5;124mInvalid Message:\u001b[39m\u001b[38;5;124m\"\u001b[39m, exc_info\u001b[38;5;241m=\u001b[39m\u001b[38;5;28;01mTrue\u001b[39;00m)\n",
      "\u001b[1;31mKeyboardInterrupt\u001b[0m: Interrupted by user"
     ]
    }
   ],
   "source": [
    "n = int(input())\n",
    "list_1 = []\n",
    "for i in range(n):\n",
    "    list_1.append(int(input()) ** 3)\n",
    "print(list_1)"
   ]
  },
  {
   "cell_type": "code",
   "execution_count": 88,
   "id": "9c1b5106-38ef-4a28-9cf5-1a81b23d11e5",
   "metadata": {},
   "outputs": [
    {
     "name": "stdin",
     "output_type": "stream",
     "text": [
      " 25\n"
     ]
    },
    {
     "name": "stdout",
     "output_type": "stream",
     "text": [
      "[1, 5, 25]\n"
     ]
    }
   ],
   "source": [
    "n = int(input())\n",
    "list_1 = []\n",
    "for i in range(1,n+1):\n",
    "    if n % i == 0:\n",
    "        list_1.append(i)\n",
    "print(list_1)"
   ]
  },
  {
   "cell_type": "code",
   "execution_count": 104,
   "id": "dadd4d02-f92e-431f-bb2c-66e5f1beeb3f",
   "metadata": {},
   "outputs": [
    {
     "name": "stdin",
     "output_type": "stream",
     "text": [
      " 5\n",
      " 1\n",
      " 2\n",
      " 3\n",
      " 4\n",
      " 5\n"
     ]
    },
    {
     "name": "stdout",
     "output_type": "stream",
     "text": [
      "[3, 5, 7, 9]\n"
     ]
    }
   ],
   "source": [
    "n = int(input())\n",
    "list1 = []\n",
    "list2 = []\n",
    "summa = 0\n",
    "for i in range(n):\n",
    "    list1.append(int(input()))\n",
    "# print(list1)\n",
    "for j in range(n-1):\n",
    "    summa = list1[j] + list1[j + 1]\n",
    "    # print(summa)\n",
    "    list2.append(summa)\n",
    "print(list2)"
   ]
  },
  {
   "cell_type": "code",
   "execution_count": 106,
   "id": "22ea6686-eec1-4ae5-aabd-34ab6fd621be",
   "metadata": {},
   "outputs": [
    {
     "name": "stdin",
     "output_type": "stream",
     "text": [
      " 5\n",
      " 1\n",
      " 2\n",
      " 3\n",
      " 4\n",
      " 5\n"
     ]
    },
    {
     "name": "stdout",
     "output_type": "stream",
     "text": [
      "[3, 5, 7, 9]\n"
     ]
    }
   ],
   "source": [
    "n = int(input())\n",
    "list1 = []\n",
    "first = int(input())\n",
    "for i in range(n-1):\n",
    "    second = int(input())\n",
    "    list1.append(first + second)\n",
    "    first = second\n",
    "print(list1)\n"
   ]
  },
  {
   "cell_type": "code",
   "execution_count": 112,
   "id": "8a7c3720-ddf9-42d6-b4fd-b1df8e55440f",
   "metadata": {},
   "outputs": [
    {
     "name": "stdin",
     "output_type": "stream",
     "text": [
      " 10\n",
      " 0\n",
      " 1\n",
      " 2\n",
      " 3\n",
      " 4\n",
      " 5\n",
      " 6\n",
      " 7\n",
      " 8\n",
      " 9\n"
     ]
    }
   ],
   "source": [
    "n = int(input())\n",
    "list1 = []\n",
    "for i in range(n):\n",
    "    list1.append(int(input()))"
   ]
  },
  {
   "cell_type": "code",
   "execution_count": 116,
   "id": "eb901890-9b7d-4cbe-8985-e4eab944433e",
   "metadata": {},
   "outputs": [
    {
     "data": {
      "text/plain": [
       "[1, 5, 9]"
      ]
     },
     "execution_count": 116,
     "metadata": {},
     "output_type": "execute_result"
    }
   ],
   "source": [
    "list1"
   ]
  },
  {
   "cell_type": "code",
   "execution_count": 115,
   "id": "7b1e9ee1-0091-4fc8-9348-8155dd029862",
   "metadata": {},
   "outputs": [
    {
     "data": {
      "text/plain": [
       "[1, 5, 9]"
      ]
     },
     "execution_count": 115,
     "metadata": {},
     "output_type": "execute_result"
    }
   ],
   "source": [
    "list2=list1\n",
    "del list2[1::2]\n",
    "list2"
   ]
  },
  {
   "cell_type": "code",
   "execution_count": 128,
   "id": "9772499d-587c-43c0-acd9-fb9e87d8e3f4",
   "metadata": {},
   "outputs": [
    {
     "name": "stdin",
     "output_type": "stream",
     "text": [
      " 5\n",
      " aaaaa\n",
      " bbbb\n",
      " ccc\n",
      " dd\n",
      " e\n",
      " 3\n"
     ]
    },
    {
     "name": "stdout",
     "output_type": "stream",
     "text": [
      "abc"
     ]
    }
   ],
   "source": [
    "n = int(input())\n",
    "list1 = []\n",
    "for i in range(n):\n",
    "    list1.append(input())\n",
    "k = int(input())\n",
    "for j in range(n):\n",
    "    text = list1[j]\n",
    "    if k <= len(text):\n",
    "        print(text[k-1], end=\"\")"
   ]
  },
  {
   "cell_type": "code",
   "execution_count": 119,
   "id": "0260a1e1-f704-4266-b881-8eecbc5f9d23",
   "metadata": {},
   "outputs": [
    {
     "data": {
      "text/plain": [
       "['abc', 'bcd', 'def', 'abc', 'bcd']"
      ]
     },
     "execution_count": 119,
     "metadata": {},
     "output_type": "execute_result"
    }
   ],
   "source": [
    "list1"
   ]
  },
  {
   "cell_type": "code",
   "execution_count": 124,
   "id": "ccd09183-af7b-4d26-bea7-0bee3b6bb8d2",
   "metadata": {},
   "outputs": [],
   "source": [
    "k =2"
   ]
  },
  {
   "cell_type": "code",
   "execution_count": 127,
   "id": "0481fc95-e60f-4b48-96b1-caf22b8e717c",
   "metadata": {},
   "outputs": [
    {
     "name": "stdout",
     "output_type": "stream",
     "text": [
      "bcebc"
     ]
    }
   ],
   "source": [
    "for j in range(n):\n",
    "    text = list1[j]\n",
    "    if k <= len(text):\n",
    "        print(text[k-1], end=\"\")"
   ]
  },
  {
   "cell_type": "code",
   "execution_count": 129,
   "id": "899ddb09-8430-4fd3-8907-2884d6c10154",
   "metadata": {},
   "outputs": [
    {
     "name": "stdin",
     "output_type": "stream",
     "text": [
      " 3\n",
      " abc\n",
      " def\n",
      " ghi\n"
     ]
    },
    {
     "name": "stdout",
     "output_type": "stream",
     "text": [
      "['a', 'b', 'c', 'd', 'e', 'f', 'g', 'h', 'i']\n"
     ]
    }
   ],
   "source": [
    "n = int(input())\n",
    "list1 = []\n",
    "for i in range(n):\n",
    "    list1.extend(input())\n",
    "print(list1)    "
   ]
  },
  {
   "cell_type": "code",
   "execution_count": 134,
   "id": "545eda83-a016-49a3-a0c3-b979aa0f34bf",
   "metadata": {},
   "outputs": [
    {
     "name": "stdout",
     "output_type": "stream",
     "text": [
      "82649673\n"
     ]
    }
   ],
   "source": [
    "numbers = [1, 78, 23, -65, 99, 9089, 34, -32, 0, -67, 1, 11, 111]\n",
    "answer = 0\n",
    "for number in numbers:\n",
    "    answer += number ** 2\n",
    "print(answer, sep=\"\\n\")"
   ]
  },
  {
   "cell_type": "code",
   "execution_count": 135,
   "id": "5d1daed1-2c27-4f66-afcd-0dc03bfcb66f",
   "metadata": {},
   "outputs": [
    {
     "name": "stdin",
     "output_type": "stream",
     "text": [
      " 5\n",
      " 1\n",
      " 2\n",
      " 3\n",
      " 4\n",
      " 5\n"
     ]
    },
    {
     "name": "stdout",
     "output_type": "stream",
     "text": [
      "1\n",
      "2\n",
      "3\n",
      "4\n",
      "5\n",
      "\n",
      "4\n",
      "9\n",
      "16\n",
      "25\n",
      "36\n"
     ]
    }
   ],
   "source": [
    "n = int(input())\n",
    "list1 = []\n",
    "for i in range(n):\n",
    "    inp = int(input())\n",
    "    list1.append(inp)\n",
    "print(*list1, sep=\"\\n\")\n",
    "print()\n",
    "for number in list1:\n",
    "    print(number ** 2 + 2 * number + 1)"
   ]
  },
  {
   "cell_type": "code",
   "execution_count": 143,
   "id": "40e59d40-e211-4e61-8630-30bb55ad0396",
   "metadata": {},
   "outputs": [
    {
     "name": "stdin",
     "output_type": "stream",
     "text": [
      " 10\n",
      " 9\n",
      " 17\n",
      " 189\n",
      " 3\n",
      " 55\n",
      " 78\n",
      " 11\n",
      " 7\n",
      " 888\n",
      " 160\n"
     ]
    },
    {
     "name": "stdout",
     "output_type": "stream",
     "text": [
      "9\n",
      "17\n",
      "189\n",
      "55\n",
      "78\n",
      "11\n",
      "7\n",
      "160\n"
     ]
    }
   ],
   "source": [
    "n = int(input())\n",
    "list1 = []\n",
    "for i in range(n):\n",
    "    inp = int(input())\n",
    "    list1.append(inp)\n",
    "# list1 = [1, 78, 23, -65, 99, 9089, 34, -32, 0, -67, 1, 11, 111]\n",
    "min_digit = min(list1)\n",
    "max_digit = max(list1)\n",
    "list1.remove(min_digit)\n",
    "list1.remove(max_digit)\n",
    "print(*list1, sep = \"\\n\")\n"
   ]
  },
  {
   "cell_type": "code",
   "execution_count": 5,
   "id": "c29a1ba5-d801-4451-8137-be5a2abf65cb",
   "metadata": {},
   "outputs": [
    {
     "name": "stdin",
     "output_type": "stream",
     "text": [
      " 5\n",
      " first\n",
      " second\n",
      " first\n",
      " third\n",
      " second\n"
     ]
    },
    {
     "name": "stdout",
     "output_type": "stream",
     "text": [
      "first\n",
      "second\n",
      "third\n"
     ]
    }
   ],
   "source": [
    "n = int(input())\n",
    "list1 = []\n",
    "for i in range(n):\n",
    "    inp = input()\n",
    "    if inp in list1:\n",
    "        continue\n",
    "    else:\n",
    "        list1.append(inp)\n",
    "# list1 = ['first', 'second', 'first', 'third', 'second']\n",
    "print(*list1, sep=\"\\n\")"
   ]
  },
  {
   "cell_type": "code",
   "execution_count": 7,
   "id": "eec90220-178e-417f-852a-a069fdf0c980",
   "metadata": {},
   "outputs": [
    {
     "name": "stdin",
     "output_type": "stream",
     "text": [
      " 5\n",
      " Язык Python прекрасен\n",
      " C# - отличный язык программирования\n",
      " Stepik - отличная платформа\n",
      " BEEGEEK FOREVER!\n",
      " язык Python появился 20 февраля 1991\n",
      " язык\n"
     ]
    },
    {
     "name": "stdout",
     "output_type": "stream",
     "text": [
      "C# - отличный язык программирования\n",
      "язык Python появился 20 февраля 1991\n"
     ]
    }
   ],
   "source": [
    "n = int(input())\n",
    "list1 = []\n",
    "for i in range(n):\n",
    "    inp = input()\n",
    "    list1.append(inp)\n",
    "search = input().lower()\n",
    "for j in range(len(list1)):\n",
    "    if search in list1[j].lower():\n",
    "        print(list1[j])"
   ]
  },
  {
   "cell_type": "code",
   "execution_count": 18,
   "id": "6bdd5ec9-96a7-42b9-b00b-864a4142cbdd",
   "metadata": {},
   "outputs": [
    {
     "name": "stdout",
     "output_type": "stream",
     "text": [
      "Язык Python прекрасен\n",
      "язык Python появился 20 февраля 1991\n"
     ]
    }
   ],
   "source": [
    "n = int(input())\n",
    "list1 = []\n",
    "for i in range(n):\n",
    "    inp = input()\n",
    "    list1.append(inp)\n",
    "k = int(input())\n",
    "search_list = []\n",
    "for j in range(k):\n",
    "    inp = input()\n",
    "    search_list.append(inp)\n",
    "# list1 = list2\n",
    "# search_list = search_list2\n",
    "for z in range(len(list1)):\n",
    "    search_count = 0\n",
    "    for search in search_list:\n",
    "        if search.lower() in list1[z].lower():\n",
    "            search_count += 1\n",
    "    if search_count == len(search_list):\n",
    "        print(list1[z])"
   ]
  },
  {
   "cell_type": "code",
   "execution_count": 14,
   "id": "b1c98b18-6731-4c5b-a05a-325af4faa5a5",
   "metadata": {},
   "outputs": [],
   "source": [
    "search_list2 = search_list"
   ]
  },
  {
   "cell_type": "code",
   "execution_count": 15,
   "id": "1eccf196-de30-4952-a67b-63848863bc4a",
   "metadata": {},
   "outputs": [],
   "source": [
    "list2 = list1"
   ]
  },
  {
   "cell_type": "code",
   "execution_count": 16,
   "id": "d05f4612-be11-4b17-9855-bab13f3d9258",
   "metadata": {},
   "outputs": [
    {
     "data": {
      "text/plain": [
       "['Язык Python прекрасен',\n",
       " 'C# - отличный язык программирования',\n",
       " 'Stepik - отличная платформа',\n",
       " 'BEEGEEK FOREVER!',\n",
       " 'язык Python появился 20 февраля 1991']"
      ]
     },
     "execution_count": 16,
     "metadata": {},
     "output_type": "execute_result"
    }
   ],
   "source": [
    "list2"
   ]
  },
  {
   "cell_type": "code",
   "execution_count": 17,
   "id": "959104cb-a502-4d59-b53e-79e2800a2151",
   "metadata": {},
   "outputs": [
    {
     "data": {
      "text/plain": [
       "['язык', 'python']"
      ]
     },
     "execution_count": 17,
     "metadata": {},
     "output_type": "execute_result"
    }
   ],
   "source": [
    "search_list2"
   ]
  },
  {
   "cell_type": "code",
   "execution_count": 19,
   "id": "38b94088-35dd-4078-81bf-8fc2e910c4b8",
   "metadata": {},
   "outputs": [
    {
     "ename": "KeyboardInterrupt",
     "evalue": "Interrupted by user",
     "output_type": "error",
     "traceback": [
      "\u001b[1;31m---------------------------------------------------------------------------\u001b[0m",
      "\u001b[1;31mKeyboardInterrupt\u001b[0m                         Traceback (most recent call last)",
      "Cell \u001b[1;32mIn[19], line 3\u001b[0m\n\u001b[0;32m      1\u001b[0m Negatives, Zeros, Positives\u001b[38;5;241m=\u001b[39m [], [], []\n\u001b[1;32m----> 3\u001b[0m n \u001b[38;5;241m=\u001b[39m \u001b[38;5;28mint\u001b[39m(\u001b[38;5;28;43minput\u001b[39;49m\u001b[43m(\u001b[49m\u001b[43m)\u001b[49m)\n\u001b[0;32m      4\u001b[0m \u001b[38;5;28;01mfor\u001b[39;00m i \u001b[38;5;129;01min\u001b[39;00m \u001b[38;5;28mrange\u001b[39m(n):\n\u001b[0;32m      5\u001b[0m     inp \u001b[38;5;241m=\u001b[39m \u001b[38;5;28mint\u001b[39m(\u001b[38;5;28minput\u001b[39m())\n",
      "File \u001b[1;32mC:\\Python3\\Lib\\site-packages\\ipykernel\\kernelbase.py:1282\u001b[0m, in \u001b[0;36mKernel.raw_input\u001b[1;34m(self, prompt)\u001b[0m\n\u001b[0;32m   1280\u001b[0m     msg \u001b[38;5;241m=\u001b[39m \u001b[38;5;124m\"\u001b[39m\u001b[38;5;124mraw_input was called, but this frontend does not support input requests.\u001b[39m\u001b[38;5;124m\"\u001b[39m\n\u001b[0;32m   1281\u001b[0m     \u001b[38;5;28;01mraise\u001b[39;00m StdinNotImplementedError(msg)\n\u001b[1;32m-> 1282\u001b[0m \u001b[38;5;28;01mreturn\u001b[39;00m \u001b[38;5;28;43mself\u001b[39;49m\u001b[38;5;241;43m.\u001b[39;49m\u001b[43m_input_request\u001b[49m\u001b[43m(\u001b[49m\n\u001b[0;32m   1283\u001b[0m \u001b[43m    \u001b[49m\u001b[38;5;28;43mstr\u001b[39;49m\u001b[43m(\u001b[49m\u001b[43mprompt\u001b[49m\u001b[43m)\u001b[49m\u001b[43m,\u001b[49m\n\u001b[0;32m   1284\u001b[0m \u001b[43m    \u001b[49m\u001b[38;5;28;43mself\u001b[39;49m\u001b[38;5;241;43m.\u001b[39;49m\u001b[43m_parent_ident\u001b[49m\u001b[43m[\u001b[49m\u001b[38;5;124;43m\"\u001b[39;49m\u001b[38;5;124;43mshell\u001b[39;49m\u001b[38;5;124;43m\"\u001b[39;49m\u001b[43m]\u001b[49m\u001b[43m,\u001b[49m\n\u001b[0;32m   1285\u001b[0m \u001b[43m    \u001b[49m\u001b[38;5;28;43mself\u001b[39;49m\u001b[38;5;241;43m.\u001b[39;49m\u001b[43mget_parent\u001b[49m\u001b[43m(\u001b[49m\u001b[38;5;124;43m\"\u001b[39;49m\u001b[38;5;124;43mshell\u001b[39;49m\u001b[38;5;124;43m\"\u001b[39;49m\u001b[43m)\u001b[49m\u001b[43m,\u001b[49m\n\u001b[0;32m   1286\u001b[0m \u001b[43m    \u001b[49m\u001b[43mpassword\u001b[49m\u001b[38;5;241;43m=\u001b[39;49m\u001b[38;5;28;43;01mFalse\u001b[39;49;00m\u001b[43m,\u001b[49m\n\u001b[0;32m   1287\u001b[0m \u001b[43m\u001b[49m\u001b[43m)\u001b[49m\n",
      "File \u001b[1;32mC:\\Python3\\Lib\\site-packages\\ipykernel\\kernelbase.py:1325\u001b[0m, in \u001b[0;36mKernel._input_request\u001b[1;34m(self, prompt, ident, parent, password)\u001b[0m\n\u001b[0;32m   1322\u001b[0m \u001b[38;5;28;01mexcept\u001b[39;00m \u001b[38;5;167;01mKeyboardInterrupt\u001b[39;00m:\n\u001b[0;32m   1323\u001b[0m     \u001b[38;5;66;03m# re-raise KeyboardInterrupt, to truncate traceback\u001b[39;00m\n\u001b[0;32m   1324\u001b[0m     msg \u001b[38;5;241m=\u001b[39m \u001b[38;5;124m\"\u001b[39m\u001b[38;5;124mInterrupted by user\u001b[39m\u001b[38;5;124m\"\u001b[39m\n\u001b[1;32m-> 1325\u001b[0m     \u001b[38;5;28;01mraise\u001b[39;00m \u001b[38;5;167;01mKeyboardInterrupt\u001b[39;00m(msg) \u001b[38;5;28;01mfrom\u001b[39;00m \u001b[38;5;28;01mNone\u001b[39;00m\n\u001b[0;32m   1326\u001b[0m \u001b[38;5;28;01mexcept\u001b[39;00m \u001b[38;5;167;01mException\u001b[39;00m:\n\u001b[0;32m   1327\u001b[0m     \u001b[38;5;28mself\u001b[39m\u001b[38;5;241m.\u001b[39mlog\u001b[38;5;241m.\u001b[39mwarning(\u001b[38;5;124m\"\u001b[39m\u001b[38;5;124mInvalid Message:\u001b[39m\u001b[38;5;124m\"\u001b[39m, exc_info\u001b[38;5;241m=\u001b[39m\u001b[38;5;28;01mTrue\u001b[39;00m)\n",
      "\u001b[1;31mKeyboardInterrupt\u001b[0m: Interrupted by user"
     ]
    }
   ],
   "source": [
    "Negatives, Zeros, Positives= [], [], []\n",
    "\n",
    "n = int(input())\n",
    "for i in range(n):\n",
    "    inp = int(input())\n",
    "    if inp < 0:\n",
    "        Negatives.append(inp)\n",
    "    elif inp == 0:\n",
    "        Zeros.append(inp)\n",
    "    else: \n",
    "        Positives.append(inp)\n",
    "print(*Negatives, sep=\"\\n\")\n",
    "print(*Zeros, sep=\"\\n\")\n",
    "print(*Positives, sep=\"\\n\")\n",
    "    "
   ]
  },
  {
   "cell_type": "code",
   "execution_count": 20,
   "id": "43ba173b-a46d-4848-9452-f956821ff5ed",
   "metadata": {},
   "outputs": [
    {
     "ename": "AttributeError",
     "evalue": "'list' object has no attribute 'split'",
     "output_type": "error",
     "traceback": [
      "\u001b[1;31m---------------------------------------------------------------------------\u001b[0m",
      "\u001b[1;31mAttributeError\u001b[0m                            Traceback (most recent call last)",
      "Cell \u001b[1;32mIn[20], line 2\u001b[0m\n\u001b[0;32m      1\u001b[0m letters \u001b[38;5;241m=\u001b[39m [\u001b[38;5;124m'\u001b[39m\u001b[38;5;124mB\u001b[39m\u001b[38;5;124m'\u001b[39m, \u001b[38;5;124m'\u001b[39m\u001b[38;5;124m \u001b[39m\u001b[38;5;124m'\u001b[39m, \u001b[38;5;124m'\u001b[39m\u001b[38;5;124mT\u001b[39m\u001b[38;5;124m'\u001b[39m, \u001b[38;5;124m'\u001b[39m\u001b[38;5;124m \u001b[39m\u001b[38;5;124m'\u001b[39m, \u001b[38;5;124m'\u001b[39m\u001b[38;5;124mS\u001b[39m\u001b[38;5;124m'\u001b[39m]\n\u001b[1;32m----> 2\u001b[0m \u001b[38;5;28mprint\u001b[39m(\u001b[43mletters\u001b[49m\u001b[38;5;241;43m.\u001b[39;49m\u001b[43msplit\u001b[49m())\n",
      "\u001b[1;31mAttributeError\u001b[0m: 'list' object has no attribute 'split'"
     ]
    }
   ],
   "source": [
    "letters = ['B', ' ', 'T', ' ', 'S']\n",
    "print(letters.split())"
   ]
  },
  {
   "cell_type": "code",
   "execution_count": 21,
   "id": "61a2e61b-c368-4957-85c0-f35f89b30ba4",
   "metadata": {},
   "outputs": [
    {
     "name": "stdout",
     "output_type": "stream",
     "text": [
      "B**E**E**G**E**E**K\n"
     ]
    }
   ],
   "source": [
    "s = 'BEEGEEK'\n",
    "chars = list(s)\n",
    "s = '**'.join(chars)\n",
    "print(s)"
   ]
  },
  {
   "cell_type": "code",
   "execution_count": 22,
   "id": "3a22de27-bc82-4fb2-a73b-d5a28cb86d81",
   "metadata": {},
   "outputs": [
    {
     "name": "stdin",
     "output_type": "stream",
     "text": [
      " У лукоморья дуб зеленый златая цепь на дубе том\n"
     ]
    },
    {
     "name": "stdout",
     "output_type": "stream",
     "text": [
      "У\n",
      "лукоморья\n",
      "дуб\n",
      "зеленый\n",
      "златая\n",
      "цепь\n",
      "на\n",
      "дубе\n",
      "том\n"
     ]
    }
   ],
   "source": [
    "words = input().split()\n",
    "print(*words, sep=\"\\n\")"
   ]
  },
  {
   "cell_type": "code",
   "execution_count": 23,
   "id": "0931c8e5-c89b-4784-8f4b-a2444e12822c",
   "metadata": {},
   "outputs": [
    {
     "name": "stdin",
     "output_type": "stream",
     "text": [
      " Владимир Семенович Высоцкий\n"
     ]
    },
    {
     "name": "stdout",
     "output_type": "stream",
     "text": [
      "В.С.В."
     ]
    }
   ],
   "source": [
    "words = input().split()\n",
    "for word in words:\n",
    "    print(word[0], \".\", sep=\"\", end=\"\")"
   ]
  },
  {
   "cell_type": "code",
   "execution_count": 27,
   "id": "f3951415-44ad-4227-8a25-db9854c48d01",
   "metadata": {},
   "outputs": [
    {
     "name": "stdin",
     "output_type": "stream",
     "text": [
      " C:\\Windows\\System32\\calc.exe\n"
     ]
    },
    {
     "name": "stdout",
     "output_type": "stream",
     "text": [
      "C:\n",
      "Windows\n",
      "System32\n",
      "calc.exe\n"
     ]
    }
   ],
   "source": [
    "a = input().split('\\\\')\n",
    "print(*a, sep= '\\n')"
   ]
  },
  {
   "cell_type": "code",
   "execution_count": 34,
   "id": "3cd8138b-2810-4443-a8b1-86a3c173cfdf",
   "metadata": {},
   "outputs": [
    {
     "name": "stdin",
     "output_type": "stream",
     "text": [
      " 5 3 1 7 10 2\n"
     ]
    },
    {
     "name": "stdout",
     "output_type": "stream",
     "text": [
      "+++++\n",
      "+++\n",
      "+\n",
      "+++++++\n",
      "++++++++++\n",
      "++\n"
     ]
    }
   ],
   "source": [
    "list_of_str = input().split()\n",
    "numbers = [int(item) for item in list_of_str]\n",
    "for number  in numbers:\n",
    "    print(number * \"+\")"
   ]
  },
  {
   "cell_type": "code",
   "execution_count": 46,
   "id": "7919aee0-07da-42f4-9b28-ca07dfaaa869",
   "metadata": {},
   "outputs": [
    {
     "name": "stdin",
     "output_type": "stream",
     "text": [
      " 192.168.0.300\n"
     ]
    },
    {
     "name": "stdout",
     "output_type": "stream",
     "text": [
      "НЕТ\n"
     ]
    }
   ],
   "source": [
    "flag = True\n",
    "list_of_str = input().split('.')\n",
    "numbers = [int(item) for item in list_of_str]\n",
    "for number in numbers:\n",
    "    if number > 255 or number < 0:\n",
    "        flag = False\n",
    "if flag:\n",
    "    print(\"ДА\")\n",
    "else:\n",
    "    print(\"НЕТ\")"
   ]
  },
  {
   "cell_type": "code",
   "execution_count": 43,
   "id": "c4a2d8b4-a4d4-49a0-8aa0-3e5b7e9260bc",
   "metadata": {},
   "outputs": [
    {
     "name": "stdout",
     "output_type": "stream",
     "text": [
      "[192, 168, 0, 3]\n"
     ]
    }
   ],
   "source": [
    "print(numbers)"
   ]
  },
  {
   "cell_type": "code",
   "execution_count": 44,
   "id": "4d22d651-c6a3-432b-9141-813381a9da6e",
   "metadata": {},
   "outputs": [
    {
     "name": "stdout",
     "output_type": "stream",
     "text": [
      "3\n"
     ]
    }
   ],
   "source": [
    "print(number)"
   ]
  },
  {
   "cell_type": "code",
   "execution_count": 42,
   "id": "4aeaa7de-2fec-4bf0-b378-f278ddba733f",
   "metadata": {},
   "outputs": [
    {
     "data": {
      "text/plain": [
       "False"
      ]
     },
     "execution_count": 42,
     "metadata": {},
     "output_type": "execute_result"
    }
   ],
   "source": [
    "flag"
   ]
  },
  {
   "cell_type": "code",
   "execution_count": 3,
   "id": "db8b17c8-8ab0-4709-a3f9-06c4e4ed68a8",
   "metadata": {},
   "outputs": [
    {
     "name": "stdin",
     "output_type": "stream",
     "text": [
      " 1234567\n",
      " **\n"
     ]
    },
    {
     "name": "stdout",
     "output_type": "stream",
     "text": [
      "1**2**3**4**5**6**7\n"
     ]
    }
   ],
   "source": [
    "string = input()\n",
    "razdelitel = input()\n",
    "print(razdelitel.join(string))"
   ]
  },
  {
   "cell_type": "code",
   "execution_count": 5,
   "id": "d57e4c61-d32d-453e-a889-1f279f707809",
   "metadata": {},
   "outputs": [
    {
     "name": "stdin",
     "output_type": "stream",
     "text": [
      " 3 3 3 3 3\n"
     ]
    },
    {
     "name": "stdout",
     "output_type": "stream",
     "text": [
      "10\n"
     ]
    }
   ],
   "source": [
    "counter = 0\n",
    "list_of_str = input().split()\n",
    "numbers = [int(item) for item in list_of_str]\n",
    "for i in range(len(numbers)):\n",
    "    first = numbers[i]\n",
    "    for j in range(i+1, len(numbers)):\n",
    "        second = numbers[j]\n",
    "        if first == second:\n",
    "            counter += 1\n",
    "print(counter)\n",
    "    "
   ]
  },
  {
   "cell_type": "code",
   "execution_count": 16,
   "id": "1b23d498-c340-4cff-b9ef-299414a7b201",
   "metadata": {},
   "outputs": [
    {
     "data": {
      "text/plain": [
       "[8, 17, 10, 11, 4, 5, 6]"
      ]
     },
     "execution_count": 16,
     "metadata": {},
     "output_type": "execute_result"
    }
   ],
   "source": [
    "# Дополните приведённый ниже код, чтобы он:\n",
    "\n",
    "# Заменил второй (по порядку) элемент списка на 17;\n",
    "# Добавил числа 4, 5 и 6 в конец списка;\n",
    "# Удалил первый (по порядку) элемент списка;\n",
    "# Удвоил список;\n",
    "# Вставил число 25 по индексу 3;\n",
    "# Вывел список с помощью функции print()\n",
    "\n",
    "numbers = [8, 9, 10, 11]\n",
    "del numbers[1]\n",
    "numbers.insert(1, 17)\n",
    "numbers = numbers + [4, 5, 6]\n",
    "# numbers.append(4)\n",
    "# numbers.append(5)\n",
    "# numbers.append(6)\n",
    "del numbers[0]\n",
    "numbers = numbers * 2\n",
    "numbers.insert(3, 25)\n",
    "print(numbers)"
   ]
  },
  {
   "cell_type": "code",
   "execution_count": 20,
   "id": "259ebd8f-d722-45f6-affa-9080c3abded0",
   "metadata": {},
   "outputs": [
    {
     "name": "stdin",
     "output_type": "stream",
     "text": [
      " 3 4 5 2 1\n"
     ]
    },
    {
     "name": "stdout",
     "output_type": "stream",
     "text": [
      "3 4 1 2 5\n"
     ]
    }
   ],
   "source": [
    "# На вход программе подаётся строка текста, содержащая различные натуральные числа. \n",
    "# Вам необходимо переставить максимальный и минимальный элементы местами и вывести изменённую строку.\n",
    "list_of_str = input().split()\n",
    "numbers = [int(item) for item in list_of_str]\n",
    "min_number = min(numbers)\n",
    "max_number = max(numbers)\n",
    "min_index = numbers.index(min_number)\n",
    "max_index = numbers.index(max_number)\n",
    "del numbers[min_index]\n",
    "numbers.insert(min_index, max_number)\n",
    "del numbers[max_index]\n",
    "numbers.insert(max_index, min_number)\n",
    "print(*numbers, sep = \" \")"
   ]
  },
  {
   "cell_type": "code",
   "execution_count": 22,
   "id": "1126de9a-bf9d-48a5-9a21-30a5d6eefaa4",
   "metadata": {},
   "outputs": [
    {
     "name": "stdin",
     "output_type": "stream",
     "text": [
      " William Shakespeare was born in the town of Stratford, England, in the year 1564. When he was a young man, Shakespeare moved to the city of London, where he began writing plays. His plays were soon very successful, and were enjoyed both by the common people of London and also by the rich and famous. In addition to his plays, Shakespeare wrote many short poems and a few longer poems. Like his plays, these poems are still famous today.\n"
     ]
    },
    {
     "name": "stdout",
     "output_type": "stream",
     "text": [
      "Общее количество артиклей: 7\n"
     ]
    }
   ],
   "source": [
    "# Программа должна вывести общее количество артиклей a, an, the вместе с поясняющим текстом.\n",
    "counter = 0\n",
    "list_of_word = input().split()\n",
    "for word in list_of_word:\n",
    "    if word.lower() in ['a', 'an', 'the']:\n",
    "        counter += 1\n",
    "print('Общее количество артиклей:', counter)"
   ]
  },
  {
   "cell_type": "code",
   "execution_count": 43,
   "id": "736e9cd1-3557-4678-a521-811cc2a09b67",
   "metadata": {},
   "outputs": [
    {
     "name": "stdin",
     "output_type": "stream",
     "text": [
      " #3\n",
      " print(\"Введите своё имя\")\n",
      " name = input()\n",
      " print(\"Введите пароль, если имеется\")    # ахахахах вам не поймать меня\n"
     ]
    },
    {
     "name": "stdout",
     "output_type": "stream",
     "text": [
      "print(\"Введите своё имя\")\n",
      "name = input()\n",
      "print(\"Введите пароль, если имеется\")\n"
     ]
    }
   ],
   "source": [
    "# Нужно вывести те же строки, но удалить комментарии и символы пустого пространства в конце строк. \n",
    "# Пустую строку вместо первой строки ввода выводить не надо.\n",
    "\n",
    "def clean(dirty_string):\n",
    "    if \"#\" in dirty_string:\n",
    "        index_of_comment = dirty_string.index(\"#\")\n",
    "        clean_string =  dirty_string[:index_of_comment].rstrip()\n",
    "    else:\n",
    "        clean_string =  dirty_string.rstrip()\n",
    "    return(clean_string)\n",
    "\n",
    "n = int(input()[1:])\n",
    "list_of_str = []\n",
    "for i in range(n):\n",
    "    list_of_str.append(clean(input()))\n",
    "print(*list_of_str, sep= \"\\n\")\n"
   ]
  },
  {
   "cell_type": "code",
   "execution_count": 54,
   "id": "90d6b3f9-69f2-46b4-a88c-ebdc600c4497",
   "metadata": {},
   "outputs": [
    {
     "name": "stdin",
     "output_type": "stream",
     "text": [
      " 345 1 4 9849 -5 -787 -364 543 23 6 75 234 564\n"
     ]
    },
    {
     "name": "stdout",
     "output_type": "stream",
     "text": [
      "-787 -364 -5 1 4 6 23 75 234 345 543 564 9849\n",
      "9849 564 543 345 234 75 23 6 4 1 -5 -364 -787\n"
     ]
    }
   ],
   "source": [
    "# На вход программе подаётся строка текста, содержащая целые числа. Из данной строки формируется список чисел. \n",
    "# Напишите программу, которая сортирует и выводит данный список сначала по возрастанию, а затем по убыванию.\n",
    "\n",
    "list_of_str = input().split()\n",
    "numbers = [int(item) for item in list_of_str]\n",
    "numbers.sort()\n",
    "print(*numbers)\n",
    "numbers.sort(reverse = True)\n",
    "print(*numbers)"
   ]
  },
  {
   "cell_type": "code",
   "execution_count": 55,
   "id": "58468965-c16f-467d-a917-9ef715dc2713",
   "metadata": {},
   "outputs": [
    {
     "name": "stdout",
     "output_type": "stream",
     "text": [
      "['alse', 'rue', 'one', 'nd', 'ith', 's', 'ssert', 'reak', 'lass', 'ontinue', 'ef', 'el', 'lif', 'lse', 'xcept', 'inally', 'ry', 'or', 'rom', 'lobal', 'f', 'mport', 'n', 's', 'ambda', 'onlocal', 'ot', 'r', 'ass', 'aise', 'eturn', 'hile', 'ield']\n"
     ]
    }
   ],
   "source": [
    "# Используя списочное выражение, дополните приведённый ниже код так, чтобы получить новый список,\n",
    "# содержащий строки исходного списка, где у каждой строки удалён первый символ.\n",
    "    \n",
    "keywords = ['False', 'True', 'None', 'and', 'with', 'as', 'assert', 'break', 'class', 'continue', 'def', 'del', 'elif', 'else', 'except', 'finally', 'try', 'for', 'from', 'global', 'if', 'import', 'in', 'is', 'lambda', 'nonlocal', 'not', 'or', 'pass', 'raise', 'return', 'while', 'yield']\n",
    "\n",
    "new_keywords = [word[1:] for word in keywords]\n",
    "\n",
    "print(new_keywords)"
   ]
  },
  {
   "cell_type": "code",
   "execution_count": 59,
   "id": "91571661-586e-49b1-8748-923791b26910",
   "metadata": {},
   "outputs": [
    {
     "name": "stdout",
     "output_type": "stream",
     "text": [
      "[5, 4, 4, 3, 4, 2, 6, 5, 5, 8, 3, 3, 4, 4, 6, 7, 3, 3, 4, 6, 2, 6, 2, 2, 6, 8, 3, 2, 4, 5, 6, 5, 5]\n"
     ]
    }
   ],
   "source": [
    "# Используя списочное выражение, дополните приведённый ниже код так, чтобы получить новый список, содержащий длины строк исходного списка.\n",
    "\n",
    "keywords = ['False', 'True', 'None', 'and', 'with', 'as', 'assert', 'break', 'class', 'continue', 'def', 'del', 'elif', 'else', 'except', 'finally', 'try', 'for', 'from', 'global', 'if', 'import', 'in', 'is', 'lambda', 'nonlocal', 'not', 'or', 'pass', 'raise', 'return', 'while', 'yield']\n",
    "\n",
    "lengths = [len(keyword)  for keyword in keywords]\n",
    "\n",
    "print(lengths)"
   ]
  },
  {
   "cell_type": "code",
   "execution_count": 51,
   "id": "fea9db43-bf32-4095-bf9c-694965f1b4ab",
   "metadata": {},
   "outputs": [
    {
     "name": "stdout",
     "output_type": "stream",
     "text": [
      "['False', 'assert', 'break', 'class', 'continue', 'except', 'finally', 'global', 'import', 'lambda', 'nonlocal', 'raise', 'return', 'while', 'yield']\n"
     ]
    }
   ],
   "source": [
    "# Используя списочное выражение, дополните приведённый ниже код так, чтобы получить новый список, содержащий только слова длиной не менее пяти символов (включительно).\n",
    "keywords = ['False', 'True', 'None', 'and', 'with', 'as', 'assert', 'break', 'class', 'continue', 'def', 'del', 'elif', 'else', 'except', 'finally', 'try', 'for', 'from', 'global', 'if', 'import', 'in', 'is', 'lambda', 'nonlocal', 'not', 'or', 'pass', 'raise', 'return', 'while', 'yield']\n",
    "\n",
    "new_keywords = [keyword for keyword in keywords if len(keyword) >= 5]\n",
    "\n",
    "print(new_keywords)"
   ]
  },
  {
   "cell_type": "code",
   "execution_count": 62,
   "id": "d39cdb8d-4a06-4286-a139-59398a1ff4a0",
   "metadata": {},
   "outputs": [
    {
     "name": "stdout",
     "output_type": "stream",
     "text": [
      "[101, 111, 121, 131, 141, 151, 161, 171, 181, 191, 202, 212, 222, 232, 242, 252, 262, 272, 282, 292, 303, 313, 323, 333, 343, 353, 363, 373, 383, 393, 404, 414, 424, 434, 444, 454, 464, 474, 484, 494, 505, 515, 525, 535, 545, 555, 565, 575, 585, 595, 606, 616, 626, 636, 646, 656, 666, 676, 686, 696, 707, 717, 727, 737, 747, 757, 767, 777, 787, 797, 808, 818, 828, 838, 848, 858, 868, 878, 888, 898, 909, 919, 929, 939, 949, 959, 969, 979, 989, 999]\n"
     ]
    }
   ],
   "source": [
    "# Используя списочное выражение, дополните приведённый ниже код так, чтобы получить список всех чисел-палиндромов от 100 до 1000 (включительно).\n",
    "\n",
    "# Примечание. Результирующий список должен состоять из целых чисел.\n",
    "\n",
    "palindromes = [palindrome for palindrome in range(100, 1001) if palindrome == int(str(palindrome)[::-1])]\n",
    "\n",
    "print(palindromes)"
   ]
  },
  {
   "cell_type": "code",
   "execution_count": 5,
   "id": "cb7c9c5d-48f3-4888-908e-a83cc982ed84",
   "metadata": {},
   "outputs": [
    {
     "name": "stdin",
     "output_type": "stream",
     "text": [
      " 5\n"
     ]
    },
    {
     "name": "stdout",
     "output_type": "stream",
     "text": [
      "1\n",
      "4\n",
      "9\n",
      "16\n",
      "25\n"
     ]
    }
   ],
   "source": [
    "# На вход программе подаётся натуральное число n\n",
    "# n. Напишите программу, использующую списочное выражение, которая создаёт список, содержащий квадраты чисел от 1 до n (включительно), \n",
    "# а затем выводит его элементы построчно, то есть каждый на отдельной строке.\n",
    "n = int(input())\n",
    "numbers = [i**2 for i in range(1,n+1)]\n",
    "for number in numbers:\n",
    "    print(number)"
   ]
  },
  {
   "cell_type": "code",
   "execution_count": 9,
   "id": "010413f2-c540-42a8-86f8-e1aa360f3b55",
   "metadata": {},
   "outputs": [
    {
     "name": "stdin",
     "output_type": "stream",
     "text": [
      " 2 4 3\n"
     ]
    },
    {
     "name": "stdout",
     "output_type": "stream",
     "text": [
      "8 64 27 "
     ]
    }
   ],
   "source": [
    "# На вход программе подаётся строка текста, содержащая целые числа. \n",
    "# Напишите программу, использующую списочное выражение, которая выведет кубы указанных чисел на одной строке.\n",
    "list_of_str = input().split()\n",
    "numbers = [int(item) for item in list_of_str]\n",
    "for number in numbers:\n",
    "    print(number**3, end=\" \")"
   ]
  },
  {
   "cell_type": "code",
   "execution_count": 12,
   "id": "3f5a2db8-25b0-44f2-8cc3-7dfd2929577a",
   "metadata": {},
   "outputs": [
    {
     "name": "stdin",
     "output_type": "stream",
     "text": [
      " Умей ценить того кто без тебя не может\n"
     ]
    },
    {
     "name": "stdout",
     "output_type": "stream",
     "text": [
      "Умей\n",
      "ценить\n",
      "того\n",
      "кто\n",
      "без\n",
      "тебя\n",
      "не\n",
      "может\n"
     ]
    }
   ],
   "source": [
    "# На вход программе подаётся строка текста, содержащая слова. Напишите программу, которая выводит слова введённой строки в столбик.\n",
    "print(*input().split(), sep='\\n')\n"
   ]
  },
  {
   "cell_type": "code",
   "execution_count": 23,
   "id": "3a953c13-28f6-40ee-a28c-9cc249cf5876",
   "metadata": {},
   "outputs": [
    {
     "name": "stdin",
     "output_type": "stream",
     "text": [
      " Число Pi примерно равно 3.1415\n"
     ]
    },
    {
     "name": "stdout",
     "output_type": "stream",
     "text": [
      "31415\n"
     ]
    }
   ],
   "source": [
    "# На вход программе подаётся строка текста. Напишите программу, использующую списочное выражение, которая выводит все цифровые символы данной строки.\n",
    "print(*[symbol for symbol in input() if symbol.isdigit()], sep=\"\")\n"
   ]
  },
  {
   "cell_type": "code",
   "execution_count": 46,
   "id": "a7daf0a3-3d41-4422-9182-f852066b0ac1",
   "metadata": {},
   "outputs": [
    {
     "name": "stdin",
     "output_type": "stream",
     "text": [
      " 1 2 3 4 5 6 7 8 9\n"
     ]
    },
    {
     "name": "stdout",
     "output_type": "stream",
     "text": [
      "16 36\n"
     ]
    }
   ],
   "source": [
    "# На вход программе подаётся строка текста, содержащая целые числа. Напишите программу, использующую списочное выражение, \n",
    "# которая выведет квадраты чётных чисел, кроме тех квадратов, которые оканчиваются на цифру 4\n",
    "\n",
    "\n",
    "print(*[int(item)**2 for item in input().split() if int(item) % 2 == 0 and int(item)**2 % 10 !=4])\n"
   ]
  },
  {
   "cell_type": "code",
   "execution_count": null,
   "id": "1b59583c-3e68-4f1c-9bd1-d6bf841c7a3b",
   "metadata": {},
   "outputs": [],
   "source": [
    "1 2 3 4 5 6 7 8 9"
   ]
  },
  {
   "cell_type": "code",
   "execution_count": null,
   "id": "a5ae8bc5-a68b-48e1-87cd-1f5991cab052",
   "metadata": {},
   "outputs": [],
   "source": []
  },
  {
   "cell_type": "code",
   "execution_count": 33,
   "id": "9b2bf893-8d65-421c-8810-65f9a1ff6091",
   "metadata": {},
   "outputs": [
    {
     "data": {
      "text/plain": [
       "1"
      ]
     },
     "execution_count": 33,
     "metadata": {},
     "output_type": "execute_result"
    }
   ],
   "source": [
    "1 % 2"
   ]
  },
  {
   "cell_type": "code",
   "execution_count": 47,
   "id": "cc75d5da-6909-465f-9831-e8052fd9b69b",
   "metadata": {},
   "outputs": [
    {
     "name": "stdout",
     "output_type": "stream",
     "text": [
      "-97 -96 -95 -94 -91 -84 -84 -84 -83 -79 -78 -78 -78 -76 -76 -75 -74 -74 -73 -71 -71 -71 -68 -68 -66 -65 -62 -61 -58 -56 -55 -55 -51 -47 -41 -40 -37 -32 -29 -27 -26 -26 -24 -20 -19 -17 -17 -16 -16 -13 -11 -9 -8 -6 0 1 7 7 11 14 16 17 17 21 21 24 25 32 36 38 38 39 44 44 47 48 50 52 56 58 63 67 69 70 75 78 79 79 88 88 88 91 92 93 93 94 96 96 97 98\n"
     ]
    }
   ],
   "source": [
    "# Пузырьковая сортировка \n",
    "a = [17, 24, 91, 96, 67, -27, 79, -71, -71, 58, 48, 88, 88, -16, -78, 96, -76, 56, 92, 1, 32, -17, 36, 88, -61, -97, -37, -84, 50, 47, 94, -6, 52, -76, 93, 14, -32, 98, -65, -16, -9, -68, -20, -40, -71, 93, -91, 44, 25, 79, 97, 0, -94, 7, -47, -96, -55, -58, -78, -78, -79, 75, 44, -56, -41, 38, 16, 70, 17, -17, -24, -83, -74, -73, 11, -26, 63, -75, -19, -13, -51, -74, 21, -8, 21, -68, -66, -84, -95, 78, 69, -29, 39, 38, -55, 7, -11, -26, -62, -84]\n",
    "\n",
    "n = len(a)\n",
    "\n",
    "for i in range(n - 1):\n",
    "    flag = True\n",
    "    for j in range(n - i - 1):\n",
    "        if a[j] > a[j + 1]:\n",
    "            a[j], a[j + 1] = a[j + 1], a[j]\n",
    "            flag = False\n",
    "    if flag:\n",
    "        break\n",
    "print(a)"
   ]
  },
  {
   "cell_type": "code",
   "execution_count": 70,
   "id": "d65130b3-44e3-42e7-a124-e9c75629547b",
   "metadata": {},
   "outputs": [
    {
     "name": "stdout",
     "output_type": "stream",
     "text": [
      "[-97, -96, -94, -94, -79, -77, -72, -72, -71, -71, -67, -67, -64, -64, -63, -62, -62, -61, -60, -58, -56, -52, -48, -47, -42, -41, -39, -36, -32, -31, -30, -26, -24, -23, -22, -21, -19, -16, -16, -14, -10, -8, -5, -3, -1, 0, 2, 2, 3, 3, 5, 9, 9, 14, 20, 22, 27, 32, 32, 35, 35, 39, 39, 41, 41, 43, 48, 53, 57, 57, 58, 59, 59, 59, 60, 60, 61, 62, 63, 63, 64, 66, 71, 72, 76, 78, 78, 80, 82, 84, 87, 87, 89, 90, 92, 92, 93, 94, 96, 98]\n"
     ]
    }
   ],
   "source": [
    "# сортировка выбором\n",
    "\n",
    "a = [78, -32, 5, 39, 58, -5, -63, 57, 72, 9, 53, -1, 63, -97, -21, -94, -47, 57, -8, 60, -23, -72, -22, -79, 90, 96, -41, -71, -48, 84, 89, -96, 41, -16, 94, -60, -64, -39, 60, -14, -62, -19, -3, 32, 98, 14, 43, 3, -56, 71, -71, -67, 80, 27, 92, 92, -64, 0, -77, 2, -26, 41, 3, -31, 48, 39, 20, -30, 35, 32, -58, 2, 63, 64, 66, 62, 82, -62, 9, -52, 35, -61, 87, 78, 93, -42, 87, -72, -10, -36, 61, -16, 59, 59, 22, -24, -67, 76, -94, 59]\n",
    "\n",
    "n = len(a)\n",
    "count = 0\n",
    "for i in range(n):\n",
    "    max_from_a = a[0]\n",
    "    max_position = 0\n",
    "    for j in range(n-i):\n",
    "        if a[j] >= max_from_a:\n",
    "            max_from_a = a[j]\n",
    "            max_position = j\n",
    "    a.insert(n-i, a[max_position])\n",
    "    del a[max_position]\n",
    "    count +=1\n",
    "    # if count == 3:\n",
    "    #     break\n",
    "\n",
    "print(a)"
   ]
  },
  {
   "cell_type": "code",
   "execution_count": 71,
   "id": "dbc7a30a-f480-4bf8-aa46-187885590447",
   "metadata": {},
   "outputs": [
    {
     "name": "stdout",
     "output_type": "stream",
     "text": [
      "**********\n",
      "*        *\n",
      "*        *\n",
      "*        *\n",
      "*        *\n",
      "*        *\n",
      "*        *\n",
      "*        *\n",
      "*        *\n",
      "*        *\n",
      "*        *\n",
      "*        *\n",
      "*        *\n",
      "**********\n"
     ]
    }
   ],
   "source": [
    "# рисуем прямоугольник\n",
    "\n",
    "# объявление функции\n",
    "def draw_box():\n",
    "    print('*' *10)\n",
    "    for i in range(12):\n",
    "        print(\"*        *\")\n",
    "    print('*' *10)\n",
    "\n",
    "# основная программа\n",
    "draw_box()  # вызов функции"
   ]
  },
  {
   "cell_type": "code",
   "execution_count": 73,
   "id": "f35dbf21-fb9c-4340-ad89-2093e2764574",
   "metadata": {},
   "outputs": [
    {
     "name": "stdout",
     "output_type": "stream",
     "text": [
      "\n",
      "*\n",
      "**\n",
      "***\n",
      "****\n",
      "*****\n",
      "******\n",
      "*******\n",
      "********\n",
      "*********\n"
     ]
    }
   ],
   "source": [
    "# рисуем треугольник\n",
    "# объявление функции\n",
    "def draw_triangle():\n",
    "    for i in range(10):\n",
    "        print(\"*\" * i)\n",
    "draw_triangle()  # вызов функции"
   ]
  },
  {
   "cell_type": "code",
   "execution_count": 74,
   "id": "c6ef20da-9e11-4d21-af55-21ab6b9c35c4",
   "metadata": {},
   "outputs": [],
   "source": [
    "def print_number(a, b, c):\n",
    "    d = (a + c) // b\n",
    "    print(d)"
   ]
  },
  {
   "cell_type": "code",
   "execution_count": 75,
   "id": "a42323db-f944-4738-a9b9-ef962d88ceb9",
   "metadata": {},
   "outputs": [
    {
     "name": "stdout",
     "output_type": "stream",
     "text": [
      "4\n"
     ]
    }
   ],
   "source": [
    "print_number(2, 3, 11)"
   ]
  },
  {
   "cell_type": "code",
   "execution_count": 76,
   "id": "d9123c40-c6ab-4c88-813c-7d9b3fd68378",
   "metadata": {},
   "outputs": [
    {
     "name": "stdout",
     "output_type": "stream",
     "text": [
      "1 7\n",
      "0 0\n",
      "1 7\n"
     ]
    }
   ],
   "source": [
    "# Проверка, что локальные переменные функции не меняют глобальные переменные.\n",
    "\n",
    "def change_us(a, b):\n",
    "    a = 0\n",
    "    b = 0\n",
    "    print(a, b)\n",
    "\n",
    "x = 1\n",
    "y = 7\n",
    "print(x, y)\n",
    "change_us(x, y)\n",
    "print(x, y)"
   ]
  },
  {
   "cell_type": "code",
   "execution_count": 81,
   "id": "abe7cdc3-c125-462c-99f6-5ffeddde7d1d",
   "metadata": {},
   "outputs": [
    {
     "name": "stdout",
     "output_type": "stream",
     "text": [
      "+\n",
      "++\n",
      "+++\n",
      "++\n",
      "+\n"
     ]
    }
   ],
   "source": [
    "функция для рисования треугольника\n",
    "\n",
    "def draw_triangle(fill, base):\n",
    "    for i in range(base):\n",
    "        if i <= base // 2 :\n",
    "            print(fill * (i+1))\n",
    "        else:\n",
    "            print(fill * (base - i))\n",
    "                  \n",
    "draw_triangle(\"+\",5)"
   ]
  },
  {
   "cell_type": "code",
   "execution_count": 82,
   "id": "7f1ab373-46c0-479c-9c6b-62108afedf61",
   "metadata": {},
   "outputs": [
    {
     "name": "stdin",
     "output_type": "stream",
     "text": [
      " ездаков\n",
      " дмитрий\n",
      " анатольевич\n"
     ]
    },
    {
     "name": "stdout",
     "output_type": "stream",
     "text": [
      "ЕДА\n"
     ]
    }
   ],
   "source": [
    "# объявление функции\n",
    "def print_fio(name, surname, patronymic):\n",
    "    print(name[0].upper(), surname[0].upper(), patronymic[0].upper(), sep=\"\")\n",
    "\n",
    "# считываем данные\n",
    "name, surname, patronymic = input(), input(), input()\n",
    "\n",
    "# вызываем функцию\n",
    "print_fio(name, surname, patronymic)"
   ]
  },
  {
   "cell_type": "code",
   "execution_count": 87,
   "id": "c5ccc04b-33f7-4a4e-a73d-efa51685c1d7",
   "metadata": {},
   "outputs": [
    {
     "name": "stdin",
     "output_type": "stream",
     "text": [
      " 12345\n"
     ]
    },
    {
     "name": "stdout",
     "output_type": "stream",
     "text": [
      "15\n"
     ]
    }
   ],
   "source": [
    "# объявление функции\n",
    "def print_digit_sum(num):\n",
    "    summa = 0\n",
    "    while num > 0:\n",
    "        summa += num % 10\n",
    "        num = num // 10\n",
    "    print(summa)\n",
    "\n",
    "# считываем данные\n",
    "n = int(input())\n",
    "\n",
    "# вызываем функцию\n",
    "print_digit_sum(n)"
   ]
  }
 ],
 "metadata": {
  "kernelspec": {
   "display_name": "Python 3 (ipykernel)",
   "language": "python",
   "name": "python3"
  },
  "language_info": {
   "codemirror_mode": {
    "name": "ipython",
    "version": 3
   },
   "file_extension": ".py",
   "mimetype": "text/x-python",
   "name": "python",
   "nbconvert_exporter": "python",
   "pygments_lexer": "ipython3",
   "version": "3.13.1"
  }
 },
 "nbformat": 4,
 "nbformat_minor": 5
}
